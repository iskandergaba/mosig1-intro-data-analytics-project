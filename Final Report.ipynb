{
  "nbformat": 4,
  "nbformat_minor": 0,
  "metadata": {
    "kernelspec": {
      "display_name": "Python 3",
      "language": "python",
      "name": "python3"
    },
    "language_info": {
      "codemirror_mode": {
        "name": "ipython",
        "version": 3
      },
      "file_extension": ".py",
      "mimetype": "text/x-python",
      "name": "python",
      "nbconvert_exporter": "python",
      "pygments_lexer": "ipython3",
      "version": "3.7.3"
    },
    "colab": {
      "name": "compas_exploration_students.ipynb",
      "provenance": [],
      "collapsed_sections": [
        "sU0JPmspJDS7",
        "4272SmZ3EM5d",
        "ErRAUFUE35RS",
        "hXox3Yw8j1yk",
        "BZlkhRMk_QZA",
        "ZGnvspvBkLj2"
      ]
    }
  },
  "cells": [
    {
      "cell_type": "markdown",
      "metadata": {
        "id": "FMeXSmvIvGdk",
        "colab_type": "text"
      },
      "source": [
        "# Course Project - Group 15\n",
        " #### Team members:\n",
        " - Iskander Gaba\n",
        " - Guillaume Kessibi"
      ]
    },
    {
      "cell_type": "markdown",
      "metadata": {
        "id": "LgkFeUywvGdp",
        "colab_type": "text"
      },
      "source": [
        "## Download the data\n",
        "\n",
        "We first need to load the data from the ProPublica repo:\n",
        "https://github.com/propublica/compas-analysis\n"
      ]
    },
    {
      "cell_type": "code",
      "metadata": {
        "id": "uu1xhDG7aBTd",
        "colab_type": "code",
        "outputId": "b851bbec-1c3c-499c-bf36-c8c0ea45b132",
        "colab": {
          "base_uri": "https://localhost:8080/",
          "height": 34
        }
      },
      "source": [
        "%tensorflow_version 1.x"
      ],
      "execution_count": 1,
      "outputs": [
        {
          "output_type": "stream",
          "text": [
            "TensorFlow 1.x selected.\n"
          ],
          "name": "stdout"
        }
      ]
    },
    {
      "cell_type": "code",
      "metadata": {
        "id": "U7JxCdI7vGdt",
        "colab_type": "code",
        "outputId": "86536be4-8407-4738-c63c-d9aee22c7c8e",
        "colab": {
          "base_uri": "https://localhost:8080/",
          "height": 52
        }
      },
      "source": [
        "import urllib\n",
        "import os,sys\n",
        "import numpy as np\n",
        "import pandas as pd\n",
        "import matplotlib.pyplot as plt\n",
        "\n",
        "from sklearn import feature_extraction\n",
        "from sklearn import preprocessing\n",
        "from random import seed, shuffle\n",
        "import tensorflow as tf\n",
        "\n",
        "SEED = 1234\n",
        "seed(SEED)\n",
        "np.random.seed(SEED)\n",
        "\n",
        "def check_data_file(fname):\n",
        "    files = os.listdir(\".\") # get the current directory listing\n",
        "    print(\"Looking for file\", fname, \"in the current directory...\")\n",
        "\n",
        "    if fname not in files:\n",
        "        print(fname, \"not found! Downloading from GitHub...\")\n",
        "        addr = \"https://raw.githubusercontent.com/propublica/compas-analysis/master/compas-scores-two-years.csv\"\n",
        "        response = urllib.request.urlopen(addr)\n",
        "        data = response.read()\n",
        "        fileOut = open(fname, \"wb\")\n",
        "        fileOut.write(data)\n",
        "        fileOut.close()\n",
        "        print(fname, \"download and saved locally..\")\n",
        "    else:\n",
        "        print(\"File found in current directory..\")\n",
        "    \n",
        "COMPAS_INPUT_FILE = \"compas-scores-two-years.csv\"\n",
        "check_data_file(COMPAS_INPUT_FILE)  "
      ],
      "execution_count": 2,
      "outputs": [
        {
          "output_type": "stream",
          "text": [
            "Looking for file compas-scores-two-years.csv in the current directory...\n",
            "File found in current directory..\n"
          ],
          "name": "stdout"
        }
      ]
    },
    {
      "cell_type": "markdown",
      "metadata": {
        "id": "wJqcz3PTvGeB",
        "colab_type": "text"
      },
      "source": [
        "## Load Data and Clean it up\n",
        "\n",
        "__Load the data__"
      ]
    },
    {
      "cell_type": "code",
      "metadata": {
        "id": "8jRtCNwpvGeH",
        "colab_type": "code",
        "outputId": "b0070ffa-08f3-48fd-ac23-c50a208d7ec4",
        "colab": {
          "base_uri": "https://localhost:8080/",
          "height": 278
        }
      },
      "source": [
        "df = pd.read_csv(COMPAS_INPUT_FILE)\n",
        "\n",
        "# The keys of the dataframe\n",
        "print(df.keys())"
      ],
      "execution_count": 3,
      "outputs": [
        {
          "output_type": "stream",
          "text": [
            "Index(['id', 'name', 'first', 'last', 'compas_screening_date', 'sex', 'dob',\n",
            "       'age', 'age_cat', 'race', 'juv_fel_count', 'decile_score',\n",
            "       'juv_misd_count', 'juv_other_count', 'priors_count',\n",
            "       'days_b_screening_arrest', 'c_jail_in', 'c_jail_out', 'c_case_number',\n",
            "       'c_offense_date', 'c_arrest_date', 'c_days_from_compas',\n",
            "       'c_charge_degree', 'c_charge_desc', 'is_recid', 'r_case_number',\n",
            "       'r_charge_degree', 'r_days_from_arrest', 'r_offense_date',\n",
            "       'r_charge_desc', 'r_jail_in', 'r_jail_out', 'violent_recid',\n",
            "       'is_violent_recid', 'vr_case_number', 'vr_charge_degree',\n",
            "       'vr_offense_date', 'vr_charge_desc', 'type_of_assessment',\n",
            "       'decile_score.1', 'score_text', 'screening_date',\n",
            "       'v_type_of_assessment', 'v_decile_score', 'v_score_text',\n",
            "       'v_screening_date', 'in_custody', 'out_custody', 'priors_count.1',\n",
            "       'start', 'end', 'event', 'two_year_recid'],\n",
            "      dtype='object')\n"
          ],
          "name": "stdout"
        }
      ]
    },
    {
      "cell_type": "markdown",
      "metadata": {
        "id": "2MqZsvhnvGeX",
        "colab_type": "text"
      },
      "source": [
        "__Cleanup the data__"
      ]
    },
    {
      "cell_type": "code",
      "metadata": {
        "id": "9OafpZHvvGea",
        "colab_type": "code",
        "outputId": "2da46dcb-20af-4dda-bd3d-9f1b5db3bff2",
        "colab": {
          "base_uri": "https://localhost:8080/",
          "height": 72
        }
      },
      "source": [
        "# The missing values\n",
        "print(\"The columns with missing values:\")\n",
        "\n",
        "mis_val_keys = []\n",
        "mis_val_df = df.isnull()\n",
        "for k in mis_val_df.keys():\n",
        "    missing = False\n",
        "    for cell in mis_val_df[k]:\n",
        "        missing = missing or cell\n",
        "    if missing:\n",
        "        mis_val_keys.append(k)\n",
        "print(mis_val_keys)"
      ],
      "execution_count": 4,
      "outputs": [
        {
          "output_type": "stream",
          "text": [
            "The columns with missing values:\n",
            "['days_b_screening_arrest', 'c_jail_in', 'c_jail_out', 'c_case_number', 'c_offense_date', 'c_arrest_date', 'c_days_from_compas', 'c_charge_desc', 'r_case_number', 'r_charge_degree', 'r_days_from_arrest', 'r_offense_date', 'r_charge_desc', 'r_jail_in', 'r_jail_out', 'violent_recid', 'vr_case_number', 'vr_charge_degree', 'vr_offense_date', 'vr_charge_desc', 'in_custody', 'out_custody']\n"
          ],
          "name": "stdout"
        }
      ]
    },
    {
      "cell_type": "code",
      "metadata": {
        "id": "pRjpIvwgvGeo",
        "colab_type": "code",
        "colab": {}
      },
      "source": [
        "df = df.dropna(subset=[\"days_b_screening_arrest\"]) # dropping missing vals\n",
        "\n",
        "df = df[ (df.days_b_screening_arrest <= 30) &\n",
        "(df.days_b_screening_arrest >= -30) &\n",
        "(df.is_recid != -1) & (df.c_charge_degree != 'O') & (df.score_text != 'N/A') ]\n",
        "\n",
        "df.reset_index(inplace=True, drop=True) # renumber the rows from 0 again"
      ],
      "execution_count": 0,
      "outputs": []
    },
    {
      "cell_type": "markdown",
      "metadata": {
        "id": "OPfLlMO4vGey",
        "colab_type": "text"
      },
      "source": [
        "## Basic Analysis of Demographics"
      ]
    },
    {
      "cell_type": "code",
      "metadata": {
        "id": "FeFx1AG5vGe1",
        "colab_type": "code",
        "outputId": "9f864ca2-f05b-4ab5-9177-469c5f9071dc",
        "colab": {
          "base_uri": "https://localhost:8080/",
          "height": 729
        }
      },
      "source": [
        "print(\"Races in the database: \", df.race.unique())\n",
        "print(\"Sexes in the database: \", df.sex.unique())\n",
        "\n",
        "print(\"\\nNumber of people by age category:\")\n",
        "print(df.groupby(['age_cat']).count()['id'])\n",
        "\n",
        "print(\"\\nNumber of people by race:\")\n",
        "print(df.groupby(['race']).count()['id'])\n",
        "\n",
        "print(\"\\nNumber of people by COMPAS score:\")\n",
        "print(df.groupby(['decile_score']).count()['id'])\n",
        "\n",
        "print(\"\\nNumber of people by COMPAS risk category:\")\n",
        "print(df.groupby(['score_text']).count()['id'])"
      ],
      "execution_count": 6,
      "outputs": [
        {
          "output_type": "stream",
          "text": [
            "Races in the database:  ['Other' 'African-American' 'Caucasian' 'Hispanic' 'Asian'\n",
            " 'Native American']\n",
            "Sexes in the database:  ['Male' 'Female']\n",
            "\n",
            "Number of people by age category:\n",
            "age_cat\n",
            "25 - 45            3532\n",
            "Greater than 45    1293\n",
            "Less than 25       1347\n",
            "Name: id, dtype: int64\n",
            "\n",
            "Number of people by race:\n",
            "race\n",
            "African-American    3175\n",
            "Asian                 31\n",
            "Caucasian           2103\n",
            "Hispanic             509\n",
            "Native American       11\n",
            "Other                343\n",
            "Name: id, dtype: int64\n",
            "\n",
            "Number of people by COMPAS score:\n",
            "decile_score\n",
            "1     1286\n",
            "2      822\n",
            "3      647\n",
            "4      666\n",
            "5      582\n",
            "6      529\n",
            "7      496\n",
            "8      420\n",
            "9      420\n",
            "10     304\n",
            "Name: id, dtype: int64\n",
            "\n",
            "Number of people by COMPAS risk category:\n",
            "score_text\n",
            "High      1144\n",
            "Low       3421\n",
            "Medium    1607\n",
            "Name: id, dtype: int64\n"
          ],
          "name": "stdout"
        }
      ]
    },
    {
      "cell_type": "markdown",
      "metadata": {
        "id": "M9XChHiwvGfC",
        "colab_type": "text"
      },
      "source": [
        "## Basic Investigations of Gender and Race biases in COMPAS Scores"
      ]
    },
    {
      "cell_type": "code",
      "metadata": {
        "id": "Tt8BYlzQvGfP",
        "colab_type": "code",
        "outputId": "f867d4e4-5acb-409a-b5e0-cebdb0a94cdd",
        "colab": {
          "base_uri": "https://localhost:8080/",
          "height": 1000
        }
      },
      "source": [
        "print(\"\\nMean COMPAS score of people by race:\")\n",
        "print(df.groupby(['race']).mean().decile_score)\n",
        "\n",
        "print(\"\\nMean COMPAS score of people by gender:\")\n",
        "print(df.groupby(['sex']).mean().decile_score)\n",
        "\n",
        "print(\"\\nMean COMPAS score of people by race and gender:\")\n",
        "print(df.groupby(['race', 'sex']).mean().decile_score)\n",
        "\n",
        "#hist = df.groupby(['race', 'sex']).score_text.hist(bins=df.shape[1])\n",
        "\n",
        "print(\"\\nNumber of recidivism cases:\", df.groupby(['two_year_recid']).count().id[1])\n",
        "\n",
        "print(\"\\nNumber of recidivism cases by race and gender:\")\n",
        "print(df.groupby(['race', 'sex']).count().two_year_recid)\n",
        "\n",
        "print(\"\\nCOMPAS Score by recidvism cases for different races:\")\n",
        "print(df.groupby(['race', 'decile_score']).count().two_year_recid)\n",
        "print(\"\\nCOMPAS Score by recidvism cases for different genders:\")\n",
        "print(df.groupby(['sex', 'decile_score']).count().two_year_recid)\n",
        "\n",
        "print(df.groupby(['race', 'sex']).count()['two_year_recid'])"
      ],
      "execution_count": 7,
      "outputs": [
        {
          "output_type": "stream",
          "text": [
            "\n",
            "Mean COMPAS score of people by race:\n",
            "race\n",
            "African-American    5.276850\n",
            "Asian               2.838710\n",
            "Caucasian           3.635283\n",
            "Hispanic            3.383104\n",
            "Native American     6.454545\n",
            "Other               2.889213\n",
            "Name: decile_score, dtype: float64\n",
            "\n",
            "Mean COMPAS score of people by gender:\n",
            "sex\n",
            "Female    4.063830\n",
            "Male      4.501901\n",
            "Name: decile_score, dtype: float64\n",
            "\n",
            "Mean COMPAS score of people by race and gender:\n",
            "race              sex   \n",
            "African-American  Female    4.639344\n",
            "                  Male      5.410129\n",
            "Asian             Female    2.000000\n",
            "                  Male      2.896552\n",
            "Caucasian         Female    3.792531\n",
            "                  Male      3.588526\n",
            "Hispanic          Female    2.682927\n",
            "                  Male      3.517564\n",
            "Native American   Female    8.500000\n",
            "                  Male      6.000000\n",
            "Other             Female    2.741379\n",
            "                  Male      2.919298\n",
            "Name: decile_score, dtype: float64\n",
            "\n",
            "Number of recidivism cases: 2809\n",
            "\n",
            "Number of recidivism cases by race and gender:\n",
            "race              sex   \n",
            "African-American  Female     549\n",
            "                  Male      2626\n",
            "Asian             Female       2\n",
            "                  Male        29\n",
            "Caucasian         Female     482\n",
            "                  Male      1621\n",
            "Hispanic          Female      82\n",
            "                  Male       427\n",
            "Native American   Female       2\n",
            "                  Male         9\n",
            "Other             Female      58\n",
            "                  Male       285\n",
            "Name: two_year_recid, dtype: int64\n",
            "\n",
            "COMPAS Score by recidvism cases for different races:\n",
            "race              decile_score\n",
            "African-American  1               365\n",
            "                  2               346\n",
            "                  3               298\n",
            "                  4               337\n",
            "                  5               323\n",
            "                  6               318\n",
            "                  7               343\n",
            "                  8               301\n",
            "                  9               317\n",
            "                  10              227\n",
            "Asian             1                15\n",
            "                  2                 4\n",
            "                  3                 5\n",
            "                  5                 1\n",
            "                  6                 2\n",
            "                  7                 1\n",
            "                  8                 2\n",
            "                  10                1\n",
            "Caucasian         1               605\n",
            "                  2               321\n",
            "                  3               238\n",
            "                  4               243\n",
            "                  5               200\n",
            "                  6               160\n",
            "                  7               113\n",
            "                  8                96\n",
            "                  9                77\n",
            "                  10               50\n",
            "Hispanic          1               159\n",
            "                  2                89\n",
            "                  3                73\n",
            "                  4                47\n",
            "                  5                39\n",
            "                  6                27\n",
            "                  7                28\n",
            "                  8                14\n",
            "                  9                17\n",
            "                  10               16\n",
            "Native American   2                 2\n",
            "                  3                 1\n",
            "                  6                 2\n",
            "                  7                 2\n",
            "                  9                 2\n",
            "                  10                2\n",
            "Other             1               142\n",
            "                  2                60\n",
            "                  3                32\n",
            "                  4                39\n",
            "                  5                19\n",
            "                  6                20\n",
            "                  7                 9\n",
            "                  8                 7\n",
            "                  9                 7\n",
            "                  10                8\n",
            "Name: two_year_recid, dtype: int64\n",
            "\n",
            "COMPAS Score by recidvism cases for different genders:\n",
            "sex     decile_score\n",
            "Female  1                261\n",
            "        2                175\n",
            "        3                140\n",
            "        4                123\n",
            "        5                127\n",
            "        6                114\n",
            "        7                 84\n",
            "        8                 56\n",
            "        9                 53\n",
            "        10                42\n",
            "Male    1               1025\n",
            "        2                647\n",
            "        3                507\n",
            "        4                543\n",
            "        5                455\n",
            "        6                415\n",
            "        7                412\n",
            "        8                364\n",
            "        9                367\n",
            "        10               262\n",
            "Name: two_year_recid, dtype: int64\n",
            "race              sex   \n",
            "African-American  Female     549\n",
            "                  Male      2626\n",
            "Asian             Female       2\n",
            "                  Male        29\n",
            "Caucasian         Female     482\n",
            "                  Male      1621\n",
            "Hispanic          Female      82\n",
            "                  Male       427\n",
            "Native American   Female       2\n",
            "                  Male         9\n",
            "Other             Female      58\n",
            "                  Male       285\n",
            "Name: two_year_recid, dtype: int64\n"
          ],
          "name": "stdout"
        }
      ]
    },
    {
      "cell_type": "code",
      "metadata": {
        "id": "EHVRDrEyvGfY",
        "colab_type": "code",
        "outputId": "eb223467-9bf4-479d-d035-9f796b8c12e0",
        "colab": {
          "base_uri": "https://localhost:8080/",
          "height": 473
        }
      },
      "source": [
        "df_recid = df[df.two_year_recid == 1]\n",
        "df_black = df_recid[df_recid.race == 'African-American']\n",
        "df_white = df_recid[df_recid.race == 'Caucasian']\n",
        "\n",
        "df_no_recid = df[df.two_year_recid == 0]\n",
        "df_black_no = df_no_recid[df_no_recid.race == 'African-American']\n",
        "df_white_no = df_no_recid[df_no_recid.race == 'Caucasian']\n",
        "\n",
        "df_black.reset_index(inplace=True, drop=True)\n",
        "df_white.reset_index(inplace=True, drop=True)\n",
        "\n",
        "print(df_black.groupby(['v_decile_score']).count().id)\n",
        "hist1 = df_black.groupby(['two_year_recid']).score_text.hist(bins=df_black.shape[1])"
      ],
      "execution_count": 8,
      "outputs": [
        {
          "output_type": "stream",
          "text": [
            "v_decile_score\n",
            "1     145\n",
            "2     172\n",
            "3     220\n",
            "4     206\n",
            "5     206\n",
            "6     197\n",
            "7     178\n",
            "8     142\n",
            "9     138\n",
            "10     57\n",
            "Name: id, dtype: int64\n"
          ],
          "name": "stdout"
        },
        {
          "output_type": "display_data",
          "data": {
            "image/png": "[encoded data removed]",
            "text/plain": [
              "<Figure size 432x288 with 1 Axes>"
            ]
          },
          "metadata": {
            "tags": [],
            "needs_background": "light"
          }
        }
      ]
    },
    {
      "cell_type": "code",
      "metadata": {
        "id": "Tv18ApGVFOUh",
        "colab_type": "code",
        "outputId": "239f524c-df4f-4254-f3d2-ea662155fa2c",
        "colab": {
          "base_uri": "https://localhost:8080/",
          "height": 473
        }
      },
      "source": [
        "#print(df_white.groupby(['v_decile_score']).count().id)\n",
        "print(df_white.groupby(['decile_score']).count().id)\n",
        "\n",
        "#hist2 = df_white.groupby(['two_year_recid']).v_decile_score.hist(bins=df_white.shape[1])\n",
        "#hist2 = df_white.groupby(['two_year_recid']).v_score_text.hist(bins=df_white.shape[1])\n",
        "\n",
        "#hist2 = df_white.groupby(['two_year_recid']).decile_score.hist(bins=df_white.shape[1])\n",
        "hist2 = df_white.groupby(['two_year_recid']).score_text.hist(bins=df_white.shape[1])"
      ],
      "execution_count": 9,
      "outputs": [
        {
          "output_type": "stream",
          "text": [
            "decile_score\n",
            "1     128\n",
            "2     100\n",
            "3      82\n",
            "4      98\n",
            "5      91\n",
            "6      93\n",
            "7      68\n",
            "8      72\n",
            "9      55\n",
            "10     35\n",
            "Name: id, dtype: int64\n"
          ],
          "name": "stdout"
        },
        {
          "output_type": "display_data",
          "data": {
            "image/png": "[encoded data removed]",
            "text/plain": [
              "<Figure size 432x288 with 1 Axes>"
            ]
          },
          "metadata": {
            "tags": [],
            "needs_background": "light"
          }
        }
      ]
    },
    {
      "cell_type": "markdown",
      "metadata": {
        "id": "4AEO_GF-I2ak",
        "colab_type": "text"
      },
      "source": [
        "The majority of African-American people who recidivated were given high COMPAS scores, which is to be expected. Whereas the majority of Caucasians who recidivated were given low COMPAS scores, which is the exact opposite of what the COMPAS classifier should be doing. We can argue that there is a clear bias that favors Caucasians (If you are a Caucasian who is going to recidivate, you are more likely to be given a low COMPAS recidivation risk score).\n",
        "\n",
        "By comparing the data people who did not recidivate, and plotting it, we find that the COMPAS calssifier is not biased against people who did not recidivate."
      ]
    },
    {
      "cell_type": "code",
      "metadata": {
        "id": "zS6ksUOoLfAS",
        "colab_type": "code",
        "outputId": "9d065c15-97e7-4bc5-8b90-9fd24433206a",
        "colab": {
          "base_uri": "https://localhost:8080/",
          "height": 473
        }
      },
      "source": [
        "df_men = df_recid[df_recid.sex == 'Male']\n",
        "df_women = df_recid[df_recid.sex == 'Female']\n",
        "df_men_no = df_no_recid[df_no_recid.sex == 'Male']\n",
        "df_women_no = df_no_recid[df_no_recid.sex == 'Female']\n",
        "df_men.reset_index(inplace=True, drop=True)\n",
        "df_women.reset_index(inplace=True, drop=True)\n",
        "\n",
        "print(df_men.groupby(['decile_score']).count().id)\n",
        "\n",
        "#hist1 = df_men.groupby(['two_year_recid']).decile_score.hist(bins=df_men.shape[1])\n",
        "hist2 = df_men.groupby(['two_year_recid']).score_text.hist(bins=df_men.shape[1])"
      ],
      "execution_count": 10,
      "outputs": [
        {
          "output_type": "stream",
          "text": [
            "decile_score\n",
            "1     230\n",
            "2     233\n",
            "3     200\n",
            "4     246\n",
            "5     229\n",
            "6     254\n",
            "7     255\n",
            "8     270\n",
            "9     265\n",
            "10    214\n",
            "Name: id, dtype: int64\n"
          ],
          "name": "stdout"
        },
        {
          "output_type": "display_data",
          "data": {
            "image/png": "[encoded data removed]",
            "text/plain": [
              "<Figure size 432x288 with 1 Axes>"
            ]
          },
          "metadata": {
            "tags": [],
            "needs_background": "light"
          }
        }
      ]
    },
    {
      "cell_type": "code",
      "metadata": {
        "id": "pko_BblPNSIX",
        "colab_type": "code",
        "outputId": "261945ba-6058-4a1c-c2a8-f892f5d5b6c3",
        "colab": {
          "base_uri": "https://localhost:8080/",
          "height": 473
        }
      },
      "source": [
        "print(df_women.groupby(['decile_score']).count().id)\n",
        "\n",
        "#hist1 = df_women.groupby(['two_year_recid']).decile_score.hist(bins=df_women.shape[1])\n",
        "hist2 = df_women.groupby(['two_year_recid']).score_text.hist(bins=df_women.shape[1])"
      ],
      "execution_count": 11,
      "outputs": [
        {
          "output_type": "stream",
          "text": [
            "decile_score\n",
            "1     47\n",
            "2     31\n",
            "3     44\n",
            "4     45\n",
            "5     51\n",
            "6     54\n",
            "7     43\n",
            "8     32\n",
            "9     35\n",
            "10    31\n",
            "Name: id, dtype: int64\n"
          ],
          "name": "stdout"
        },
        {
          "output_type": "display_data",
          "data": {
            "image/png": "[encoded data removed]",
            "text/plain": [
              "<Figure size 432x288 with 1 Axes>"
            ]
          },
          "metadata": {
            "tags": [],
            "needs_background": "light"
          }
        }
      ]
    },
    {
      "cell_type": "markdown",
      "metadata": {
        "id": "wDhMSjpOOZtp",
        "colab_type": "text"
      },
      "source": [
        "We tried to look for biases against sex alone, and while the differences are not big, women who recidivate are still having better chances of getting low to medium COMPAS scores compared to men."
      ]
    },
    {
      "cell_type": "markdown",
      "metadata": {
        "id": "JykJ4P-vdBH9",
        "colab_type": "text"
      },
      "source": [
        "## Fairness Investigation"
      ]
    },
    {
      "cell_type": "markdown",
      "metadata": {
        "id": "cOdgmlIX-1Be",
        "colab_type": "text"
      },
      "source": [
        "### Independence"
      ]
    },
    {
      "cell_type": "markdown",
      "metadata": {
        "id": "0UcJVwy3CNqy",
        "colab_type": "text"
      },
      "source": [
        "#### Race"
      ]
    },
    {
      "cell_type": "code",
      "metadata": {
        "id": "LdmOKVZm-36z",
        "colab_type": "code",
        "outputId": "776f2ff1-62cc-49d4-ddde-7ee304348905",
        "colab": {
          "base_uri": "https://localhost:8080/",
          "height": 295
        }
      },
      "source": [
        "xbins = np.linspace(0, 10, 2**10)\n",
        "x = (xbins[1:] + xbins[:-1])/2  # midpoint of each bin\n",
        "dx = xbins[1:] - xbins[:-1]\n",
        "yb, _ = np.histogram(df[df.race == 'African-American'].decile_score, density=True, bins=xbins)\n",
        "yw, _ = np.histogram(df[df.race == 'Caucasian'].decile_score, density=True, bins=xbins)\n",
        "\n",
        "# Cumulative distributions:\n",
        "fb = yb.cumsum()*dx\n",
        "fw = yw.cumsum()*dx\n",
        "\n",
        "plt.plot(x, fb, label='Black defendents')\n",
        "plt.plot(x, fw, label='White defendents')\n",
        "\n",
        "plt.title('Cumulative Distribution of Scores per Race')\n",
        "plt.xlabel('Score')\n",
        "plt.ylabel('Cumulative Distribution of Scores')\n",
        "plt.legend(loc='lower center', bbox_to_anchor=(0.75, 0.0), ncol=1, fancybox=True, shadow=True)\n",
        "\n",
        "plt.show()"
      ],
      "execution_count": 12,
      "outputs": [
        {
          "output_type": "display_data",
          "data": {
            "image/png": "[encoded data removed]",
            "text/plain": [
              "<Figure size 432x288 with 1 Axes>"
            ]
          },
          "metadata": {
            "tags": [],
            "needs_background": "light"
          }
        }
      ]
    },
    {
      "cell_type": "markdown",
      "metadata": {
        "id": "7iW7UY06aXaT",
        "colab_type": "text"
      },
      "source": [
        "The plot above showcases that the COMPAS score relies on the race to scorea person. The probability for a certain defendant to be given a certain score is not equal for different races."
      ]
    },
    {
      "cell_type": "markdown",
      "metadata": {
        "id": "IwX9fH9ha1pN",
        "colab_type": "text"
      },
      "source": [
        "**Conclusion** Independence is not achieved on the race criteria."
      ]
    },
    {
      "cell_type": "markdown",
      "metadata": {
        "id": "qVQ9xXO8CQYC",
        "colab_type": "text"
      },
      "source": [
        "#### Sex"
      ]
    },
    {
      "cell_type": "code",
      "metadata": {
        "id": "xNtYGOGOFXl3",
        "colab_type": "code",
        "outputId": "9422718e-43e0-4771-a909-29b084020b91",
        "colab": {
          "base_uri": "https://localhost:8080/",
          "height": 295
        }
      },
      "source": [
        "xbins = np.linspace(0, 10, 2**10)\n",
        "x = (xbins[1:] + xbins[:-1])/2  # midpoint of each bin\n",
        "dx = xbins[1:] - xbins[:-1]\n",
        "yb, _ = np.histogram(df[df.sex == 'Male'].decile_score, density=True, bins=xbins)\n",
        "yw, _ = np.histogram(df[df.sex == 'Female'].decile_score, density=True, bins=xbins)\n",
        "\n",
        "# Cumulative distributions:\n",
        "fb = yb.cumsum()*dx\n",
        "fw = yw.cumsum()*dx\n",
        "\n",
        "plt.plot(x, fb, label='Male defendents')\n",
        "plt.plot(x, fw, label='Female defendents')\n",
        "\n",
        "plt.title('Cumulative Distribution of Scores per Race')\n",
        "plt.xlabel('Score')\n",
        "plt.ylabel('Cumulative Distribution of Scores')\n",
        "plt.legend(loc='lower center', bbox_to_anchor=(0.75, 0.0), ncol=1, fancybox=True, shadow=True)\n",
        "\n",
        "plt.show()"
      ],
      "execution_count": 13,
      "outputs": [
        {
          "output_type": "display_data",
          "data": {
            "image/png": "[encoded data removed]",
            "text/plain": [
              "<Figure size 432x288 with 1 Axes>"
            ]
          },
          "metadata": {
            "tags": [],
            "needs_background": "light"
          }
        }
      ]
    },
    {
      "cell_type": "markdown",
      "metadata": {
        "id": "DUdITUW5a-KQ",
        "colab_type": "text"
      },
      "source": [
        "It is clear from the plot above that the COMPAS score depends, more or less, on the sex of the defendants. The probability for a defendant to be given a certain score is not equal for different sexes. This difference is however small and could be acceptable with respect to the noise of the dataset."
      ]
    },
    {
      "cell_type": "markdown",
      "metadata": {
        "id": "J6-IkDuNbd2i",
        "colab_type": "text"
      },
      "source": [
        "**Conclusion** Even though independence is not 100% achieved among different sexes, it is close enough for us to accept it."
      ]
    },
    {
      "cell_type": "markdown",
      "metadata": {
        "id": "rElHGEXYxUbq",
        "colab_type": "text"
      },
      "source": [
        "### Separation"
      ]
    },
    {
      "cell_type": "markdown",
      "metadata": {
        "id": "CA-P5TAF1k45",
        "colab_type": "text"
      },
      "source": [
        "#### Race"
      ]
    },
    {
      "cell_type": "code",
      "metadata": {
        "id": "rYLMlig5xx5T",
        "colab_type": "code",
        "outputId": "a7582084-9dba-4c97-9933-a9289f97d7da",
        "colab": {
          "base_uri": "https://localhost:8080/",
          "height": 295
        }
      },
      "source": [
        "df_black_sep = df_black.groupby(['decile_score']).two_year_recid.count() / df_black.shape[0]\n",
        "df_white_sep = df_white.groupby(['decile_score']).two_year_recid.count() / df_white.shape[0]\n",
        "df_black_sep = df_black_sep.reset_index()\n",
        "df_white_sep = df_white_sep.reset_index()\n",
        "\n",
        "plt.plot(df_black_sep.decile_score, df_black_sep.two_year_recid, label='Black defendants')\n",
        "plt.plot(df_white_sep.decile_score, df_white_sep.two_year_recid, label='White defendants')\n",
        "plt.title('Distribution of scores among recidivists')\n",
        "plt.xlabel('COMPAS score')\n",
        "plt.ylabel('Percentage of recidivists')\n",
        "plt.legend(loc='lower center', bbox_to_anchor=(0.5, 0.0), ncol=1, fancybox=True, shadow=True)\n",
        "plt.show()"
      ],
      "execution_count": 14,
      "outputs": [
        {
          "output_type": "display_data",
          "data": {
            "image/png": "[encoded data removed]",
            "text/plain": [
              "<Figure size 432x288 with 1 Axes>"
            ]
          },
          "metadata": {
            "tags": [],
            "needs_background": "light"
          }
        }
      ]
    },
    {
      "cell_type": "markdown",
      "metadata": {
        "id": "XUYM2F7sj9hj",
        "colab_type": "text"
      },
      "source": [
        "This plot shows the discrepency between the the distributions of scores among black and white recidivating individuals. For black people, the higher the score, the more defendants do indeed recidivate (which is the expected behavior) whereas for the white defendants, it's quite the opposite of the desired behavior of the COMPAS calssifier: The lower the COMPAS score, the more likely white defendants will recidivate."
      ]
    },
    {
      "cell_type": "code",
      "metadata": {
        "id": "yUyivzmCoqTU",
        "colab_type": "code",
        "outputId": "0edf16fa-364e-48b2-f2eb-365e20dc5bce",
        "colab": {
          "base_uri": "https://localhost:8080/",
          "height": 295
        }
      },
      "source": [
        "df_black_sep_no = df_black_no.groupby(['decile_score']).two_year_recid.count() / df_black_no.shape[0]\n",
        "df_white_sep_no = df_white_no.groupby(['decile_score']).two_year_recid.count() / df_white_no.shape[0]\n",
        "df_black_sep_no = df_black_sep_no.reset_index()\n",
        "df_white_sep_no = df_white_sep_no.reset_index()\n",
        "\n",
        "plt.plot(df_black_sep_no.decile_score, df_black_sep_no.two_year_recid, label='Black defendants')\n",
        "plt.plot(df_white_sep_no.decile_score, df_white_sep_no.two_year_recid, label='White defendants')\n",
        "plt.title('Distribution of scores among non-recidivists')\n",
        "plt.xlabel('COMPAS score')\n",
        "plt.ylabel('Percentage of non-recidivists')\n",
        "plt.legend(loc='lower center', bbox_to_anchor=(0.5, 0.5), ncol=1, fancybox=True, shadow=True)\n",
        "plt.show()"
      ],
      "execution_count": 15,
      "outputs": [
        {
          "output_type": "display_data",
          "data": {
            "image/png": "[encoded data removed]",
            "text/plain": [
              "<Figure size 432x288 with 1 Axes>"
            ]
          },
          "metadata": {
            "tags": [],
            "needs_background": "light"
          }
        }
      ]
    },
    {
      "cell_type": "markdown",
      "metadata": {
        "id": "y3MvhYBspdM0",
        "colab_type": "text"
      },
      "source": [
        "Once again, this plot shows that the white non-recidivating defendants are more likely to be classified as non-recidivists (COMPAS score < 4) and less likely to be classified as recidivists (COMPAS score >= 4) in comparison to their balck non-recidvist counterparts."
      ]
    },
    {
      "cell_type": "markdown",
      "metadata": {
        "id": "Su0wMAKV--0z",
        "colab_type": "text"
      },
      "source": [
        "**Conclusion:** Separation is not achieved by the COMPAS classifier among different races."
      ]
    },
    {
      "cell_type": "code",
      "metadata": {
        "id": "eSVYRsDL_9eo",
        "colab_type": "code",
        "outputId": "56ecd5c4-9719-4fa6-e62d-4e440b5ed85c",
        "colab": {
          "base_uri": "https://localhost:8080/",
          "height": 399
        }
      },
      "source": [
        "# Threshold for all defendants = 4\n",
        "print('\\nSame threshold for both sensitive races')\n",
        "print('\\tFPR:')\n",
        "print('\\tBlack defendants:', df_black_no[df_black_no.decile_score >= 4].shape[0] / df_black_no.shape[0])\n",
        "print('\\tWhite defendants:', df_white_no[df_white_no.decile_score >= 4].shape[0] / df_white_no.shape[0])\n",
        "print('\\tFNR:')\n",
        "print('\\tBlack defendants:', df_black[df_black.decile_score < 4].shape[0] / df_black.shape[0])\n",
        "print('\\tWhite defendants:', df_white[df_white.decile_score < 4].shape[0] / df_white.shape[0])\n",
        "print('\\tPPV:')\n",
        "print('\\tBlack defendants:', df_black[df_black.decile_score >= 4].shape[0] / df[(df.race == 'African-American') & (df.decile_score >= 4)].shape[0])\n",
        "print('\\tWhite defendants:', df_white[df_white.decile_score >= 4].shape[0] / df[(df.race == 'Caucasian') & (df.decile_score >= 4)].shape[0])\n",
        "\n",
        "# Threshold for black defendants = 6\n",
        "# Threshold for white defendants = 4\n",
        "print('\\nDifferent threshold for each race')\n",
        "print('\\tFPR:')\n",
        "print('\\tBlack defendants:', df_black_no[df_black_no.decile_score >= 6].shape[0] / df_black_no.shape[0])\n",
        "print('\\tWhite defendants:', df_white_no[df_white_no.decile_score >= 4].shape[0] / df_white_no.shape[0])\n",
        "print('\\tFNR:')\n",
        "print('\\tBlack defendants:', df_black[df_black.decile_score < 6].shape[0] / df_black.shape[0])\n",
        "print('\\tWhite defendants:', df_white[df_white.decile_score < 4].shape[0] / df_white.shape[0])\n",
        "print('\\tPPV:')\n",
        "print('\\tBlack defendants:', df_black[df_black.decile_score >= 6].shape[0] / df[(df.race == 'African-American') & (df.decile_score >= 6)].shape[0])\n",
        "print('\\tWhite defendants:', df_white[df_white.decile_score >= 4].shape[0] / df[(df.race == 'Caucasian') & (df.decile_score >= 4)].shape[0])\n",
        "\n"
      ],
      "execution_count": 16,
      "outputs": [
        {
          "output_type": "stream",
          "text": [
            "\n",
            "Same threshold for both sensitive races\n",
            "\tFPR:\n",
            "\tBlack defendants: 0.5416116248348745\n",
            "\tWhite defendants: 0.3333333333333333\n",
            "\tFNR:\n",
            "\tBlack defendants: 0.1896447922937989\n",
            "\tWhite defendants: 0.3771289537712895\n",
            "\tPPV:\n",
            "\tBlack defendants: 0.6214219759926131\n",
            "\tWhite defendants: 0.5452609158679447\n",
            "\n",
            "Different threshold for each race\n",
            "\tFPR:\n",
            "\tBlack defendants: 0.3143989431968296\n",
            "\tWhite defendants: 0.3333333333333333\n",
            "\tFNR:\n",
            "\tBlack defendants: 0.3798916315472607\n",
            "\tWhite defendants: 0.3771289537712895\n",
            "\tPPV:\n",
            "\tBlack defendants: 0.6839309428950863\n",
            "\tWhite defendants: 0.5452609158679447\n"
          ],
          "name": "stdout"
        }
      ]
    },
    {
      "cell_type": "markdown",
      "metadata": {
        "id": "Qg9OAJ9sbBeo",
        "colab_type": "text"
      },
      "source": [
        "**Conclusion:** One way to achieve separation is to change the thresholds so that False Positive Rates and False Negative Rates are close to each other across different groups of the sensitive attribute. In this case, setting the classification threshold for black defendants to `6` instead of `4` fixes that. This means that for black defendants, we need a stronger evidence to classify him/her as a high recidivation risk."
      ]
    },
    {
      "cell_type": "markdown",
      "metadata": {
        "id": "Ja0ZRjtL1qHh",
        "colab_type": "text"
      },
      "source": [
        "#### Sex"
      ]
    },
    {
      "cell_type": "code",
      "metadata": {
        "id": "jH24BebjrPZZ",
        "colab_type": "code",
        "outputId": "6afb7f4b-1a86-437e-bd6b-33af31ee0b2b",
        "colab": {
          "base_uri": "https://localhost:8080/",
          "height": 295
        }
      },
      "source": [
        "df_men_sep = df_men.groupby(['decile_score']).two_year_recid.count() / df_men.shape[0]\n",
        "df_women_sep = df_women.groupby(['decile_score']).two_year_recid.count() / df_women.shape[0]\n",
        "\n",
        "df_men_sep = df_men_sep.reset_index()\n",
        "df_women_sep = df_women_sep.reset_index()\n",
        "\n",
        "plt.plot(df_men_sep.decile_score, df_men_sep.two_year_recid, label='Male defendants')\n",
        "plt.plot(df_women_sep.decile_score, df_women_sep.two_year_recid, label='Female defendants')\n",
        "plt.title('Distribution of scores among recidivists')\n",
        "plt.xlabel('COMPAS score')\n",
        "plt.ylabel('Percentage of recidivists')\n",
        "plt.legend(loc='lower center', bbox_to_anchor=(0.5, 0.0), ncol=1, fancybox=True, shadow=True)\n",
        "plt.show()"
      ],
      "execution_count": 17,
      "outputs": [
        {
          "output_type": "display_data",
          "data": {
            "image/png": "[encoded data removed]",
            "text/plain": [
              "<Figure size 432x288 with 1 Axes>"
            ]
          },
          "metadata": {
            "tags": [],
            "needs_background": "light"
          }
        }
      ]
    },
    {
      "cell_type": "markdown",
      "metadata": {
        "id": "m0sV94sbrS5Z",
        "colab_type": "text"
      },
      "source": [
        "This plot shows the discrepency between the the distributions of scores among male and female recidivists. For male defendants, the number of recidivists is roughly around 1/10 in each score level. For female defendants, however, most of the recidivists receive COMPAS scores of 6 or below, living the highest scores with the smallest amount of recidivists."
      ]
    },
    {
      "cell_type": "code",
      "metadata": {
        "id": "Z_TChhb_rSiB",
        "colab_type": "code",
        "outputId": "142d2c4a-5cc1-4c1d-da78-9a217c99c28e",
        "colab": {
          "base_uri": "https://localhost:8080/",
          "height": 295
        }
      },
      "source": [
        "df_no_recid = df[df.two_year_recid == 0]\n",
        "df_men_no = df_no_recid[df_no_recid.sex == 'Male']\n",
        "df_women_no = df_no_recid[df_no_recid.sex == 'Female']\n",
        "\n",
        "df_men_sep_no = df_men_no.groupby(['decile_score']).two_year_recid.count() / df_men_no.shape[0]\n",
        "df_women_sep_no = df_women_no.groupby(['decile_score']).two_year_recid.count() / df_women_no.shape[0]\n",
        "df_men_sep_no = df_men_sep_no.reset_index()\n",
        "df_women_sep_no = df_women_sep_no.reset_index()\n",
        "\n",
        "plt.plot(df_men_sep_no.decile_score, df_men_sep_no.two_year_recid, label='Male defendants')\n",
        "plt.plot(df_women_sep_no.decile_score, df_women_sep_no.two_year_recid, label='Female defendants')\n",
        "plt.title('Distribution of scores among non-recidivists')\n",
        "plt.xlabel('COMPAS score')\n",
        "plt.ylabel('Percentage of non-recidivists')\n",
        "plt.legend(loc='lower center', bbox_to_anchor=(0.5, 0.5), ncol=1, fancybox=True, shadow=True)\n",
        "plt.show()"
      ],
      "execution_count": 18,
      "outputs": [
        {
          "output_type": "display_data",
          "data": {
            "image/png": "[encoded data removed]",
            "text/plain": [
              "<Figure size 432x288 with 1 Axes>"
            ]
          },
          "metadata": {
            "tags": [],
            "needs_background": "light"
          }
        }
      ]
    },
    {
      "cell_type": "markdown",
      "metadata": {
        "id": "ctJSs8Q9tw55",
        "colab_type": "text"
      },
      "source": [
        "For the non-recidivists, it appears that the distribution of scores among male and female defendants is roughly the same. The lower the score, the more unlikely a defendant to recidivate, which is to be expected."
      ]
    },
    {
      "cell_type": "markdown",
      "metadata": {
        "id": "-hvJXKxl0JTo",
        "colab_type": "text"
      },
      "source": [
        "**Conclusion:** Even though the separation appears to be achieved among the non-recidivists, it is clearly not the case among the recidivists. Female defendants appear to have a some advantage over male ones."
      ]
    },
    {
      "cell_type": "markdown",
      "metadata": {
        "id": "twu-0qC_in9s",
        "colab_type": "text"
      },
      "source": [
        "### Sufficiency"
      ]
    },
    {
      "cell_type": "markdown",
      "metadata": {
        "id": "mBT1S4RF2FVA",
        "colab_type": "text"
      },
      "source": [
        "#### Race"
      ]
    },
    {
      "cell_type": "code",
      "metadata": {
        "id": "9IFP-OgR_jKy",
        "colab_type": "code",
        "outputId": "774e3746-54bd-4925-c502-783d6b20811f",
        "colab": {
          "base_uri": "https://localhost:8080/",
          "height": 295
        }
      },
      "source": [
        "import matplotlib.pyplot as plt\n",
        "\n",
        "df_black_calib = df_black.groupby(['decile_score']).two_year_recid.count().reset_index()\n",
        "df_black_calib['cum_sum'] = df_black_calib['two_year_recid'].cumsum() / df_black.shape[0]\n",
        "df_white_calib = df_white.groupby(['decile_score']).two_year_recid.count().reset_index()\n",
        "df_white_calib['cum_sum'] = df_white_calib['two_year_recid'].cumsum() / df_white.shape[0]\n",
        "\n",
        "plt.plot(df_black_calib.decile_score, df_black_calib.cum_sum, label='Black defendants')\n",
        "plt.plot(df_white_calib.decile_score, df_white_calib.cum_sum, label='White defendants')\n",
        "plt.title('Sufficiency plot')\n",
        "plt.xlabel('COMPAS score')\n",
        "plt.ylabel('Fraction of recidivists')\n",
        "plt.legend(loc='lower center', bbox_to_anchor=(0.5, 0.0), ncol=1, fancybox=True, shadow=True)\n",
        "plt.show()"
      ],
      "execution_count": 19,
      "outputs": [
        {
          "output_type": "display_data",
          "data": {
            "image/png": "[encoded data removed]",
            "text/plain": [
              "<Figure size 432x288 with 1 Axes>"
            ]
          },
          "metadata": {
            "tags": [],
            "needs_background": "light"
          }
        }
      ]
    },
    {
      "cell_type": "markdown",
      "metadata": {
        "id": "4T7ke3Ca4OGi",
        "colab_type": "text"
      },
      "source": [
        "The plot shows clearly that the white defendants have an advantage over the black defendants with respect to the sufficiency metric.\n",
        "\n",
        "The probability of actually recidivating is not equal for black and white defendants who were given the same COMPAS score."
      ]
    },
    {
      "cell_type": "markdown",
      "metadata": {
        "id": "mCbwsbPM6uwi",
        "colab_type": "text"
      },
      "source": [
        "**Conclusion:** Sufficiency is not achieved within different races."
      ]
    },
    {
      "cell_type": "markdown",
      "metadata": {
        "id": "7daNzfPU2Dw8",
        "colab_type": "text"
      },
      "source": [
        "#### Sex"
      ]
    },
    {
      "cell_type": "code",
      "metadata": {
        "id": "bCyTV0SC007I",
        "colab_type": "code",
        "outputId": "e1a23adf-824a-412c-96c6-b0f34ca6eda9",
        "colab": {
          "base_uri": "https://localhost:8080/",
          "height": 295
        }
      },
      "source": [
        "df_men_calib = df_men.groupby(['decile_score']).two_year_recid.count().reset_index()\n",
        "df_men_calib['cum_sum'] = df_men_calib['two_year_recid'].cumsum() / df_men.shape[0]\n",
        "df_women_calib = df_women.groupby(['decile_score']).two_year_recid.count().reset_index()\n",
        "df_women_calib['cum_sum'] = df_women_calib['two_year_recid'].cumsum() / df_women.shape[0]\n",
        "\n",
        "plt.plot(df_men_calib.decile_score, df_men_calib.cum_sum, label='Male defendants')\n",
        "plt.plot(df_women_calib.decile_score, df_women_calib.cum_sum, label='Female defendants')\n",
        "plt.title('Sufficiency plot')\n",
        "plt.xlabel('COMPAS score')\n",
        "plt.ylabel('Fraction of recidivists')\n",
        "plt.legend(loc='lower center', bbox_to_anchor=(0.5, 0.0), ncol=1, fancybox=True, shadow=True)\n",
        "plt.show()"
      ],
      "execution_count": 20,
      "outputs": [
        {
          "output_type": "display_data",
          "data": {
            "image/png": "[encoded data removed]",
            "text/plain": [
              "<Figure size 432x288 with 1 Axes>"
            ]
          },
          "metadata": {
            "tags": [],
            "needs_background": "light"
          }
        }
      ]
    },
    {
      "cell_type": "markdown",
      "metadata": {
        "id": "Fta9fhon8i0E",
        "colab_type": "text"
      },
      "source": [
        "The plot shows a slight discrepancy that gives female defendants an advantage over the male defendants with respect to the sufficiency metric.\n",
        "\n",
        "The probability of actually recidivating is not equal for male and female defendants who were given the same COMPAS score. However, the differnce is not so sever like in the races case."
      ]
    },
    {
      "cell_type": "markdown",
      "metadata": {
        "id": "ApzfIhpUuQo7",
        "colab_type": "text"
      },
      "source": [
        "**Conclusion:** Even though it appears the female defendants have a slight sufficiency advantage over the male defendants, it is neverthelss not so significant and one could accept that sufficiency is achieved with some error margin."
      ]
    },
    {
      "cell_type": "markdown",
      "metadata": {
        "id": "BkWO_4ogcSD7",
        "colab_type": "text"
      },
      "source": [
        "### Conclusion\n",
        "The COMPAS classifier is biased with respect to both sex and gender attributes with respect to independence, separation, and sufficiency. While the bias toward female defendants may be marginal and could be accepted, the bias toward Caucasian defendants is too big and has to be mitigated."
      ]
    },
    {
      "cell_type": "markdown",
      "metadata": {
        "id": "SScL2c8v96pZ",
        "colab_type": "text"
      },
      "source": [
        "## Training a Classifier\n",
        "\n",
        "**Note:** Since it was shown that the biggest bias is among racial groups, we shall focus on mitigating the bias just among racial groups in what follows. The same techniques are applicable to other sensitive attributes, namely the gender. We will attempt to build a universally fair classifier at the end."
      ]
    },
    {
      "cell_type": "markdown",
      "metadata": {
        "id": "uERz7KQFd8Y_",
        "colab_type": "text"
      },
      "source": [
        "In this section, we clean the data and keep only the relevant attributes to our classification. Then, we try different types of classifiers to see which one is most fit for our problem"
      ]
    },
    {
      "cell_type": "markdown",
      "metadata": {
        "id": "KWyXwPMsyo1L",
        "colab_type": "text"
      },
      "source": [
        "### Cleaning the data"
      ]
    },
    {
      "cell_type": "markdown",
      "metadata": {
        "id": "yMp95TSse-rU",
        "colab_type": "text"
      },
      "source": [
        "In the cleaning process, we decided to get rid of metadata that either represent redundant information (like start and end dates of jail time and number of days in jail etc.) or irrelevant information to the problem (like names and dates of birth, etc.) that will just crowd the data for no reason. We want to focus on features that affect defendants behavior and could indicate tendency to recidivate (like juvenile felony count and priors count) as well as those that may put some bias into the data (like race and sex) so that we can investigate it further and see what we can do about it.\n",
        "\n",
        "The attributes that we decided to keep are: `age`, `sex`, `race`, `age_cat`, `priors_count`, `juv_fel_count`, `juv_misd_count`,  `juv_other_count`, `c_charge_degree`, and `two_year_recid`.\n",
        "\n",
        "\n",
        "We then use a `LabelEncoder` to encode string features into numbers. For example, the sex attribute values will change from `Female` and `Male` to `0` and `1` so that we can fit in our classifier.\n",
        "\n",
        "Finally, we split the data into training and testing sets and keep track of the whites and blacks in them."
      ]
    },
    {
      "cell_type": "code",
      "metadata": {
        "id": "AsGtrmg_vKSg",
        "colab_type": "code",
        "outputId": "05ea0383-df92-489e-f77b-0bcf983c527d",
        "colab": {
          "base_uri": "https://localhost:8080/",
          "height": 476
        }
      },
      "source": [
        "from sklearn.preprocessing import LabelEncoder\n",
        "from sklearn.model_selection import train_test_split\n",
        "\n",
        "dataset = df.filter(['age', 'sex', 'race', 'age_cat', 'priors_count', 'juv_fel_count', 'juv_misd_count',  'juv_other_count', 'c_charge_degree', 'two_year_recid'])\n",
        "\n",
        "le = LabelEncoder()\n",
        "dataset.sex = le.fit_transform(dataset.sex)\n",
        "print(\"Sexes in order of encoding:\", le.classes_)\n",
        "dataset.age_cat = le.fit_transform(dataset.age_cat)\n",
        "dataset.race = le.fit_transform(dataset.race)\n",
        "print(\"Races in order of encoding:\", le.classes_)\n",
        "dataset.c_charge_degree = le.fit_transform(dataset.c_charge_degree)\n",
        "\n",
        "\n",
        "X = dataset.drop(['two_year_recid'], axis=1)\n",
        "y = dataset.filter(['two_year_recid'])\n",
        "X_train, X_test, y_train, y_test = train_test_split(X, y.values.ravel(), test_size=0.3, random_state=1234)\n",
        "\n",
        "data_train = X_train\n",
        "X_train.insert(9, 'two_year_recid', y_train, False)\n",
        "X_train_black = X_train[X_train.race == 0]\n",
        "X_train_white = X_train[X_train.race == 2]\n",
        "y_train_black = X_train_black.filter(['two_year_recid'])\n",
        "X_train_black = X_train_black.drop(['two_year_recid'], axis=1)\n",
        "y_train_white = X_train_white.filter(['two_year_recid'])\n",
        "X_train_white = X_train_white.drop(['two_year_recid'], axis=1)\n",
        "X_train = X_train.drop(['two_year_recid'], axis=1)\n",
        "\n",
        "\n",
        "data_test = X_test\n",
        "X_test.insert(9, 'two_year_recid', y_test, False)\n",
        "X_test_black = X_test[X_test.race == 0]\n",
        "X_test_white = X_test[X_test.race == 2]\n",
        "y_test_black = X_test_black.filter(['two_year_recid'])\n",
        "X_test_black = X_test_black.drop(['two_year_recid'], axis=1)\n",
        "y_test_white = X_test_white.filter(['two_year_recid'])\n",
        "X_test_white = X_test_white.drop(['two_year_recid'], axis=1)\n",
        "X_test = X_test.drop(['two_year_recid'], axis=1)\n",
        "\n",
        "dataset"
      ],
      "execution_count": 21,
      "outputs": [
        {
          "output_type": "stream",
          "text": [
            "Sexes in order of encoding: ['Female' 'Male']\n",
            "Races in order of encoding: ['African-American' 'Asian' 'Caucasian' 'Hispanic' 'Native American'\n",
            " 'Other']\n"
          ],
          "name": "stdout"
        },
        {
          "output_type": "execute_result",
          "data": {
            "text/html": [
              "<div>\n",
              "<style scoped>\n",
              "    .dataframe tbody tr th:only-of-type {\n",
              "        vertical-align: middle;\n",
              "    }\n",
              "\n",
              "    .dataframe tbody tr th {\n",
              "        vertical-align: top;\n",
              "    }\n",
              "\n",
              "    .dataframe thead th {\n",
              "        text-align: right;\n",
              "    }\n",
              "</style>\n",
              "<table border=\"1\" class=\"dataframe\">\n",
              "  <thead>\n",
              "    <tr style=\"text-align: right;\">\n",
              "      <th></th>\n",
              "      <th>age</th>\n",
              "      <th>sex</th>\n",
              "      <th>race</th>\n",
              "      <th>age_cat</th>\n",
              "      <th>priors_count</th>\n",
              "      <th>juv_fel_count</th>\n",
              "      <th>juv_misd_count</th>\n",
              "      <th>juv_other_count</th>\n",
              "      <th>c_charge_degree</th>\n",
              "      <th>two_year_recid</th>\n",
              "    </tr>\n",
              "  </thead>\n",
              "  <tbody>\n",
              "    <tr>\n",
              "      <th>0</th>\n",
              "      <td>69</td>\n",
              "      <td>1</td>\n",
              "      <td>5</td>\n",
              "      <td>1</td>\n",
              "      <td>0</td>\n",
              "      <td>0</td>\n",
              "      <td>0</td>\n",
              "      <td>0</td>\n",
              "      <td>0</td>\n",
              "      <td>0</td>\n",
              "    </tr>\n",
              "    <tr>\n",
              "      <th>1</th>\n",
              "      <td>34</td>\n",
              "      <td>1</td>\n",
              "      <td>0</td>\n",
              "      <td>0</td>\n",
              "      <td>0</td>\n",
              "      <td>0</td>\n",
              "      <td>0</td>\n",
              "      <td>0</td>\n",
              "      <td>0</td>\n",
              "      <td>1</td>\n",
              "    </tr>\n",
              "    <tr>\n",
              "      <th>2</th>\n",
              "      <td>24</td>\n",
              "      <td>1</td>\n",
              "      <td>0</td>\n",
              "      <td>2</td>\n",
              "      <td>4</td>\n",
              "      <td>0</td>\n",
              "      <td>0</td>\n",
              "      <td>1</td>\n",
              "      <td>0</td>\n",
              "      <td>1</td>\n",
              "    </tr>\n",
              "    <tr>\n",
              "      <th>3</th>\n",
              "      <td>44</td>\n",
              "      <td>1</td>\n",
              "      <td>5</td>\n",
              "      <td>0</td>\n",
              "      <td>0</td>\n",
              "      <td>0</td>\n",
              "      <td>0</td>\n",
              "      <td>0</td>\n",
              "      <td>1</td>\n",
              "      <td>0</td>\n",
              "    </tr>\n",
              "    <tr>\n",
              "      <th>4</th>\n",
              "      <td>41</td>\n",
              "      <td>1</td>\n",
              "      <td>2</td>\n",
              "      <td>0</td>\n",
              "      <td>14</td>\n",
              "      <td>0</td>\n",
              "      <td>0</td>\n",
              "      <td>0</td>\n",
              "      <td>0</td>\n",
              "      <td>1</td>\n",
              "    </tr>\n",
              "    <tr>\n",
              "      <th>...</th>\n",
              "      <td>...</td>\n",
              "      <td>...</td>\n",
              "      <td>...</td>\n",
              "      <td>...</td>\n",
              "      <td>...</td>\n",
              "      <td>...</td>\n",
              "      <td>...</td>\n",
              "      <td>...</td>\n",
              "      <td>...</td>\n",
              "      <td>...</td>\n",
              "    </tr>\n",
              "    <tr>\n",
              "      <th>6167</th>\n",
              "      <td>23</td>\n",
              "      <td>1</td>\n",
              "      <td>0</td>\n",
              "      <td>2</td>\n",
              "      <td>0</td>\n",
              "      <td>0</td>\n",
              "      <td>0</td>\n",
              "      <td>0</td>\n",
              "      <td>0</td>\n",
              "      <td>0</td>\n",
              "    </tr>\n",
              "    <tr>\n",
              "      <th>6168</th>\n",
              "      <td>23</td>\n",
              "      <td>1</td>\n",
              "      <td>0</td>\n",
              "      <td>2</td>\n",
              "      <td>0</td>\n",
              "      <td>0</td>\n",
              "      <td>0</td>\n",
              "      <td>0</td>\n",
              "      <td>0</td>\n",
              "      <td>0</td>\n",
              "    </tr>\n",
              "    <tr>\n",
              "      <th>6169</th>\n",
              "      <td>57</td>\n",
              "      <td>1</td>\n",
              "      <td>5</td>\n",
              "      <td>1</td>\n",
              "      <td>0</td>\n",
              "      <td>0</td>\n",
              "      <td>0</td>\n",
              "      <td>0</td>\n",
              "      <td>0</td>\n",
              "      <td>0</td>\n",
              "    </tr>\n",
              "    <tr>\n",
              "      <th>6170</th>\n",
              "      <td>33</td>\n",
              "      <td>0</td>\n",
              "      <td>0</td>\n",
              "      <td>0</td>\n",
              "      <td>3</td>\n",
              "      <td>0</td>\n",
              "      <td>0</td>\n",
              "      <td>0</td>\n",
              "      <td>1</td>\n",
              "      <td>0</td>\n",
              "    </tr>\n",
              "    <tr>\n",
              "      <th>6171</th>\n",
              "      <td>23</td>\n",
              "      <td>0</td>\n",
              "      <td>3</td>\n",
              "      <td>2</td>\n",
              "      <td>2</td>\n",
              "      <td>0</td>\n",
              "      <td>0</td>\n",
              "      <td>0</td>\n",
              "      <td>0</td>\n",
              "      <td>1</td>\n",
              "    </tr>\n",
              "  </tbody>\n",
              "</table>\n",
              "<p>6172 rows × 10 columns</p>\n",
              "</div>"
            ],
            "text/plain": [
              "      age  sex  race  ...  juv_other_count  c_charge_degree  two_year_recid\n",
              "0      69    1     5  ...                0                0               0\n",
              "1      34    1     0  ...                0                0               1\n",
              "2      24    1     0  ...                1                0               1\n",
              "3      44    1     5  ...                0                1               0\n",
              "4      41    1     2  ...                0                0               1\n",
              "...   ...  ...   ...  ...              ...              ...             ...\n",
              "6167   23    1     0  ...                0                0               0\n",
              "6168   23    1     0  ...                0                0               0\n",
              "6169   57    1     5  ...                0                0               0\n",
              "6170   33    0     0  ...                0                1               0\n",
              "6171   23    0     3  ...                0                0               1\n",
              "\n",
              "[6172 rows x 10 columns]"
            ]
          },
          "metadata": {
            "tags": []
          },
          "execution_count": 21
        }
      ]
    },
    {
      "cell_type": "markdown",
      "metadata": {
        "id": "ekI-m7aozd6G",
        "colab_type": "text"
      },
      "source": [
        "### Deciding on the suitable type of classifiers for the problem"
      ]
    },
    {
      "cell_type": "markdown",
      "metadata": {
        "id": "_wOgJ-iFFPeV",
        "colab_type": "text"
      },
      "source": [
        "#### Logestic Regression"
      ]
    },
    {
      "cell_type": "code",
      "metadata": {
        "id": "pJxqYx8i1dhX",
        "colab_type": "code",
        "outputId": "e93c7047-8a1f-4a20-ed4e-23316739faab",
        "colab": {
          "base_uri": "https://localhost:8080/",
          "height": 104
        }
      },
      "source": [
        "from sklearn.linear_model import LogisticRegression\n",
        "\n",
        "log_reg = LogisticRegression()\n",
        "log_reg.fit(X_train, y_train)"
      ],
      "execution_count": 22,
      "outputs": [
        {
          "output_type": "execute_result",
          "data": {
            "text/plain": [
              "LogisticRegression(C=1.0, class_weight=None, dual=False, fit_intercept=True,\n",
              "                   intercept_scaling=1, l1_ratio=None, max_iter=100,\n",
              "                   multi_class='auto', n_jobs=None, penalty='l2',\n",
              "                   random_state=None, solver='lbfgs', tol=0.0001, verbose=0,\n",
              "                   warm_start=False)"
            ]
          },
          "metadata": {
            "tags": []
          },
          "execution_count": 22
        }
      ]
    },
    {
      "cell_type": "code",
      "metadata": {
        "id": "SFa1brhs2YjU",
        "colab_type": "code",
        "outputId": "fec427aa-c90b-43f0-d36e-cb5bb040084d",
        "colab": {
          "base_uri": "https://localhost:8080/",
          "height": 34
        }
      },
      "source": [
        "from sklearn.metrics import accuracy_score\n",
        "\n",
        "y_pred = log_reg.predict(X_test)\n",
        "print('Accuracy:', accuracy_score(y_test, y_pred))"
      ],
      "execution_count": 23,
      "outputs": [
        {
          "output_type": "stream",
          "text": [
            "Accuracy: 0.6787257019438445\n"
          ],
          "name": "stdout"
        }
      ]
    },
    {
      "cell_type": "markdown",
      "metadata": {
        "id": "11kwK6Srispl",
        "colab_type": "text"
      },
      "source": [
        "**Conclusion:** `LogisticRegression` calssifier is cheap in training and gives comparable accuracy results to what it was proposed by COMPAS accuracy."
      ]
    },
    {
      "cell_type": "markdown",
      "metadata": {
        "id": "lpRnsH5EYC7j",
        "colab_type": "text"
      },
      "source": [
        "#### Decision Trees"
      ]
    },
    {
      "cell_type": "code",
      "metadata": {
        "id": "8rTL6AHFd6AX",
        "colab_type": "code",
        "outputId": "ec630c84-25a9-40da-f189-29639b7a518f",
        "colab": {
          "base_uri": "https://localhost:8080/",
          "height": 34
        }
      },
      "source": [
        "from sklearn import tree\n",
        "\n",
        "dec_tree = tree.DecisionTreeClassifier()\n",
        "dec_tree.fit(X_train, y_train)\n",
        "\n",
        "y_pred_tree = dec_tree.predict(X_test)\n",
        "print('Accuracy:', accuracy_score(y_test, y_pred_tree))"
      ],
      "execution_count": 24,
      "outputs": [
        {
          "output_type": "stream",
          "text": [
            "Accuracy: 0.6274298056155507\n"
          ],
          "name": "stdout"
        }
      ]
    },
    {
      "cell_type": "markdown",
      "metadata": {
        "id": "B_8O5BS7i4YU",
        "colab_type": "text"
      },
      "source": [
        "**Conclusion:** `DecisionTreeClassfier` is slightly down on the accuracy compared to the `LogisticRegression` calssifier for this problem and thus is eliminated."
      ]
    },
    {
      "cell_type": "markdown",
      "metadata": {
        "id": "6a114gnCFckH",
        "colab_type": "text"
      },
      "source": [
        "#### Neural Network"
      ]
    },
    {
      "cell_type": "code",
      "metadata": {
        "id": "rBmHbXwhFeu5",
        "colab_type": "code",
        "outputId": "a438ac89-cb4a-4fe2-b8ad-0269c8c077e3",
        "colab": {
          "base_uri": "https://localhost:8080/",
          "height": 1000
        }
      },
      "source": [
        "from tensorflow.keras.models import Sequential\n",
        "from tensorflow.keras.layers import Dense\n",
        "\n",
        "model = Sequential()\n",
        "model.add(Dense(12, input_dim=9, activation='relu'))\n",
        "model.add(Dense(8, activation='tanh'))\n",
        "model.add(Dense(1, activation='relu'))\n",
        "# compile the keras model\n",
        "model.compile(loss='mse', optimizer='adam', metrics=['accuracy'])\n",
        "# fit the keras model on the dataset\n",
        "model.fit(X_train, y_train, validation_split=0.2, epochs=100, batch_size=10)"
      ],
      "execution_count": 25,
      "outputs": [
        {
          "output_type": "stream",
          "text": [
            "WARNING:tensorflow:From /tensorflow-1.15.2/python3.6/tensorflow_core/python/ops/resource_variable_ops.py:1630: calling BaseResourceVariable.__init__ (from tensorflow.python.ops.resource_variable_ops) with constraint is deprecated and will be removed in a future version.\n",
            "Instructions for updating:\n",
            "If using Keras pass *_constraint arguments to layers.\n",
            "Train on 3456 samples, validate on 864 samples\n",
            "Epoch 1/100\n",
            "3456/3456 [==============================] - 1s 171us/sample - loss: 0.4601 - acc: 0.5399 - val_loss: 0.4595 - val_acc: 0.5405\n",
            "Epoch 2/100\n",
            "3456/3456 [==============================] - 0s 143us/sample - loss: 0.4601 - acc: 0.5399 - val_loss: 0.4595 - val_acc: 0.5405\n",
            "Epoch 3/100\n",
            "3456/3456 [==============================] - 1s 148us/sample - loss: 0.4601 - acc: 0.5399 - val_loss: 0.4595 - val_acc: 0.5405\n",
            "Epoch 4/100\n",
            "3456/3456 [==============================] - 0s 141us/sample - loss: 0.4601 - acc: 0.5399 - val_loss: 0.4595 - val_acc: 0.5405\n",
            "Epoch 5/100\n",
            "3456/3456 [==============================] - 0s 141us/sample - loss: 0.4601 - acc: 0.5399 - val_loss: 0.4595 - val_acc: 0.5405\n",
            "Epoch 6/100\n",
            "3456/3456 [==============================] - 0s 142us/sample - loss: 0.4601 - acc: 0.5399 - val_loss: 0.4595 - val_acc: 0.5405\n",
            "Epoch 7/100\n",
            "3456/3456 [==============================] - 0s 144us/sample - loss: 0.4601 - acc: 0.5399 - val_loss: 0.4595 - val_acc: 0.5405\n",
            "Epoch 8/100\n",
            "3456/3456 [==============================] - 0s 138us/sample - loss: 0.4601 - acc: 0.5399 - val_loss: 0.4595 - val_acc: 0.5405\n",
            "Epoch 9/100\n",
            "3456/3456 [==============================] - 0s 143us/sample - loss: 0.4601 - acc: 0.5399 - val_loss: 0.4595 - val_acc: 0.5405\n",
            "Epoch 10/100\n",
            "3456/3456 [==============================] - 1s 146us/sample - loss: 0.4601 - acc: 0.5399 - val_loss: 0.4595 - val_acc: 0.5405\n",
            "Epoch 11/100\n",
            "3456/3456 [==============================] - 0s 142us/sample - loss: 0.4601 - acc: 0.5399 - val_loss: 0.4595 - val_acc: 0.5405\n",
            "Epoch 12/100\n",
            "3456/3456 [==============================] - 0s 145us/sample - loss: 0.4601 - acc: 0.5399 - val_loss: 0.4595 - val_acc: 0.5405\n",
            "Epoch 13/100\n",
            "3456/3456 [==============================] - 0s 137us/sample - loss: 0.4601 - acc: 0.5399 - val_loss: 0.4595 - val_acc: 0.5405\n",
            "Epoch 14/100\n",
            "3456/3456 [==============================] - 0s 142us/sample - loss: 0.4601 - acc: 0.5399 - val_loss: 0.4595 - val_acc: 0.5405\n",
            "Epoch 15/100\n",
            "3456/3456 [==============================] - 1s 155us/sample - loss: 0.4601 - acc: 0.5399 - val_loss: 0.4595 - val_acc: 0.5405\n",
            "Epoch 16/100\n",
            "3456/3456 [==============================] - 1s 156us/sample - loss: 0.4601 - acc: 0.5399 - val_loss: 0.4595 - val_acc: 0.5405\n",
            "Epoch 17/100\n",
            "3456/3456 [==============================] - 1s 149us/sample - loss: 0.4601 - acc: 0.5399 - val_loss: 0.4595 - val_acc: 0.5405\n",
            "Epoch 18/100\n",
            "3456/3456 [==============================] - 1s 148us/sample - loss: 0.4601 - acc: 0.5399 - val_loss: 0.4595 - val_acc: 0.5405\n",
            "Epoch 19/100\n",
            "3456/3456 [==============================] - 1s 151us/sample - loss: 0.4601 - acc: 0.5399 - val_loss: 0.4595 - val_acc: 0.5405\n",
            "Epoch 20/100\n",
            "3456/3456 [==============================] - 1s 152us/sample - loss: 0.4601 - acc: 0.5399 - val_loss: 0.4595 - val_acc: 0.5405\n",
            "Epoch 21/100\n",
            "3456/3456 [==============================] - 1s 155us/sample - loss: 0.4601 - acc: 0.5399 - val_loss: 0.4595 - val_acc: 0.5405\n",
            "Epoch 22/100\n",
            "3456/3456 [==============================] - 1s 158us/sample - loss: 0.4601 - acc: 0.5399 - val_loss: 0.4595 - val_acc: 0.5405\n",
            "Epoch 23/100\n",
            "3456/3456 [==============================] - 0s 142us/sample - loss: 0.4601 - acc: 0.5399 - val_loss: 0.4595 - val_acc: 0.5405\n",
            "Epoch 24/100\n",
            "3456/3456 [==============================] - 0s 144us/sample - loss: 0.4601 - acc: 0.5399 - val_loss: 0.4595 - val_acc: 0.5405\n",
            "Epoch 25/100\n",
            "3456/3456 [==============================] - 0s 144us/sample - loss: 0.4601 - acc: 0.5399 - val_loss: 0.4595 - val_acc: 0.5405\n",
            "Epoch 26/100\n",
            "3456/3456 [==============================] - 1s 146us/sample - loss: 0.4601 - acc: 0.5399 - val_loss: 0.4595 - val_acc: 0.5405\n",
            "Epoch 27/100\n",
            "3456/3456 [==============================] - 0s 143us/sample - loss: 0.4601 - acc: 0.5399 - val_loss: 0.4595 - val_acc: 0.5405\n",
            "Epoch 28/100\n",
            "3456/3456 [==============================] - 1s 153us/sample - loss: 0.4601 - acc: 0.5399 - val_loss: 0.4595 - val_acc: 0.5405\n",
            "Epoch 29/100\n",
            "3456/3456 [==============================] - 1s 165us/sample - loss: 0.4601 - acc: 0.5399 - val_loss: 0.4595 - val_acc: 0.5405\n",
            "Epoch 30/100\n",
            "3456/3456 [==============================] - 1s 159us/sample - loss: 0.4601 - acc: 0.5399 - val_loss: 0.4595 - val_acc: 0.5405\n",
            "Epoch 31/100\n",
            "3456/3456 [==============================] - 1s 168us/sample - loss: 0.4601 - acc: 0.5399 - val_loss: 0.4595 - val_acc: 0.5405\n",
            "Epoch 32/100\n",
            "3456/3456 [==============================] - 1s 145us/sample - loss: 0.4601 - acc: 0.5399 - val_loss: 0.4595 - val_acc: 0.5405\n",
            "Epoch 33/100\n",
            "3456/3456 [==============================] - 1s 146us/sample - loss: 0.4601 - acc: 0.5399 - val_loss: 0.4595 - val_acc: 0.5405\n",
            "Epoch 34/100\n",
            "3456/3456 [==============================] - 0s 144us/sample - loss: 0.4601 - acc: 0.5399 - val_loss: 0.4595 - val_acc: 0.5405\n",
            "Epoch 35/100\n",
            "3456/3456 [==============================] - 1s 149us/sample - loss: 0.4601 - acc: 0.5399 - val_loss: 0.4595 - val_acc: 0.5405\n",
            "Epoch 36/100\n",
            "3456/3456 [==============================] - 1s 147us/sample - loss: 0.4601 - acc: 0.5399 - val_loss: 0.4595 - val_acc: 0.5405\n",
            "Epoch 37/100\n",
            "3456/3456 [==============================] - 1s 145us/sample - loss: 0.4601 - acc: 0.5399 - val_loss: 0.4595 - val_acc: 0.5405\n",
            "Epoch 38/100\n",
            "3456/3456 [==============================] - 1s 155us/sample - loss: 0.4601 - acc: 0.5399 - val_loss: 0.4595 - val_acc: 0.5405\n",
            "Epoch 39/100\n",
            "3456/3456 [==============================] - 1s 160us/sample - loss: 0.4601 - acc: 0.5399 - val_loss: 0.4595 - val_acc: 0.5405\n",
            "Epoch 40/100\n",
            "3456/3456 [==============================] - 1s 151us/sample - loss: 0.4601 - acc: 0.5399 - val_loss: 0.4595 - val_acc: 0.5405\n",
            "Epoch 41/100\n",
            "3456/3456 [==============================] - 1s 157us/sample - loss: 0.4601 - acc: 0.5399 - val_loss: 0.4595 - val_acc: 0.5405\n",
            "Epoch 42/100\n",
            "3456/3456 [==============================] - 1s 146us/sample - loss: 0.4601 - acc: 0.5399 - val_loss: 0.4595 - val_acc: 0.5405\n",
            "Epoch 43/100\n",
            "3456/3456 [==============================] - 0s 144us/sample - loss: 0.4601 - acc: 0.5399 - val_loss: 0.4595 - val_acc: 0.5405\n",
            "Epoch 44/100\n",
            "3456/3456 [==============================] - 0s 143us/sample - loss: 0.4601 - acc: 0.5399 - val_loss: 0.4595 - val_acc: 0.5405\n",
            "Epoch 45/100\n",
            "3456/3456 [==============================] - 1s 149us/sample - loss: 0.4601 - acc: 0.5399 - val_loss: 0.4595 - val_acc: 0.5405\n",
            "Epoch 46/100\n",
            "3456/3456 [==============================] - 0s 140us/sample - loss: 0.4601 - acc: 0.5399 - val_loss: 0.4595 - val_acc: 0.5405\n",
            "Epoch 47/100\n",
            "3456/3456 [==============================] - 1s 150us/sample - loss: 0.4601 - acc: 0.5399 - val_loss: 0.4595 - val_acc: 0.5405\n",
            "Epoch 48/100\n",
            "3456/3456 [==============================] - 1s 148us/sample - loss: 0.4601 - acc: 0.5399 - val_loss: 0.4595 - val_acc: 0.5405\n",
            "Epoch 49/100\n",
            "3456/3456 [==============================] - 0s 144us/sample - loss: 0.4601 - acc: 0.5399 - val_loss: 0.4595 - val_acc: 0.5405\n",
            "Epoch 50/100\n",
            "3456/3456 [==============================] - 0s 141us/sample - loss: 0.4601 - acc: 0.5399 - val_loss: 0.4595 - val_acc: 0.5405\n",
            "Epoch 51/100\n",
            "3456/3456 [==============================] - 1s 150us/sample - loss: 0.4601 - acc: 0.5399 - val_loss: 0.4595 - val_acc: 0.5405\n",
            "Epoch 52/100\n",
            "3456/3456 [==============================] - 0s 142us/sample - loss: 0.4601 - acc: 0.5399 - val_loss: 0.4595 - val_acc: 0.5405\n",
            "Epoch 53/100\n",
            "3456/3456 [==============================] - 0s 144us/sample - loss: 0.4601 - acc: 0.5399 - val_loss: 0.4595 - val_acc: 0.5405\n",
            "Epoch 54/100\n",
            "3456/3456 [==============================] - 1s 159us/sample - loss: 0.4601 - acc: 0.5399 - val_loss: 0.4595 - val_acc: 0.5405\n",
            "Epoch 55/100\n",
            "3456/3456 [==============================] - 1s 156us/sample - loss: 0.4601 - acc: 0.5399 - val_loss: 0.4595 - val_acc: 0.5405\n",
            "Epoch 56/100\n",
            "3456/3456 [==============================] - 0s 145us/sample - loss: 0.4601 - acc: 0.5399 - val_loss: 0.4595 - val_acc: 0.5405\n",
            "Epoch 57/100\n",
            "3456/3456 [==============================] - 1s 154us/sample - loss: 0.4601 - acc: 0.5399 - val_loss: 0.4595 - val_acc: 0.5405\n",
            "Epoch 58/100\n",
            "3456/3456 [==============================] - 1s 163us/sample - loss: 0.4601 - acc: 0.5399 - val_loss: 0.4595 - val_acc: 0.5405\n",
            "Epoch 59/100\n",
            "3456/3456 [==============================] - 1s 147us/sample - loss: 0.4601 - acc: 0.5399 - val_loss: 0.4595 - val_acc: 0.5405\n",
            "Epoch 60/100\n",
            "3456/3456 [==============================] - 1s 167us/sample - loss: 0.4601 - acc: 0.5399 - val_loss: 0.4595 - val_acc: 0.5405\n",
            "Epoch 61/100\n",
            "3456/3456 [==============================] - 1s 147us/sample - loss: 0.4601 - acc: 0.5399 - val_loss: 0.4595 - val_acc: 0.5405\n",
            "Epoch 62/100\n",
            "3456/3456 [==============================] - 1s 146us/sample - loss: 0.4601 - acc: 0.5399 - val_loss: 0.4595 - val_acc: 0.5405\n",
            "Epoch 63/100\n",
            "3456/3456 [==============================] - 0s 144us/sample - loss: 0.4601 - acc: 0.5399 - val_loss: 0.4595 - val_acc: 0.5405\n",
            "Epoch 64/100\n",
            "3456/3456 [==============================] - 1s 147us/sample - loss: 0.4601 - acc: 0.5399 - val_loss: 0.4595 - val_acc: 0.5405\n",
            "Epoch 65/100\n",
            "3456/3456 [==============================] - 1s 150us/sample - loss: 0.4601 - acc: 0.5399 - val_loss: 0.4595 - val_acc: 0.5405\n",
            "Epoch 66/100\n",
            "3456/3456 [==============================] - 1s 161us/sample - loss: 0.4601 - acc: 0.5399 - val_loss: 0.4595 - val_acc: 0.5405\n",
            "Epoch 67/100\n",
            "3456/3456 [==============================] - 1s 155us/sample - loss: 0.4601 - acc: 0.5399 - val_loss: 0.4595 - val_acc: 0.5405\n",
            "Epoch 68/100\n",
            "3456/3456 [==============================] - 1s 158us/sample - loss: 0.4601 - acc: 0.5399 - val_loss: 0.4595 - val_acc: 0.5405\n",
            "Epoch 69/100\n",
            "3456/3456 [==============================] - 1s 170us/sample - loss: 0.4601 - acc: 0.5399 - val_loss: 0.4595 - val_acc: 0.5405\n",
            "Epoch 70/100\n",
            "3456/3456 [==============================] - 1s 166us/sample - loss: 0.4601 - acc: 0.5399 - val_loss: 0.4595 - val_acc: 0.5405\n",
            "Epoch 71/100\n",
            "3456/3456 [==============================] - 1s 166us/sample - loss: 0.4601 - acc: 0.5399 - val_loss: 0.4595 - val_acc: 0.5405\n",
            "Epoch 72/100\n",
            "3456/3456 [==============================] - 1s 160us/sample - loss: 0.4601 - acc: 0.5399 - val_loss: 0.4595 - val_acc: 0.5405\n",
            "Epoch 73/100\n",
            "3456/3456 [==============================] - 1s 162us/sample - loss: 0.4601 - acc: 0.5399 - val_loss: 0.4595 - val_acc: 0.5405\n",
            "Epoch 74/100\n",
            "3456/3456 [==============================] - 1s 159us/sample - loss: 0.4601 - acc: 0.5399 - val_loss: 0.4595 - val_acc: 0.5405\n",
            "Epoch 75/100\n",
            "3456/3456 [==============================] - 1s 148us/sample - loss: 0.4601 - acc: 0.5399 - val_loss: 0.4595 - val_acc: 0.5405\n",
            "Epoch 76/100\n",
            "3456/3456 [==============================] - 0s 141us/sample - loss: 0.4601 - acc: 0.5399 - val_loss: 0.4595 - val_acc: 0.5405\n",
            "Epoch 77/100\n",
            "3456/3456 [==============================] - 1s 150us/sample - loss: 0.4601 - acc: 0.5399 - val_loss: 0.4595 - val_acc: 0.5405\n",
            "Epoch 78/100\n",
            "3456/3456 [==============================] - 1s 157us/sample - loss: 0.4601 - acc: 0.5399 - val_loss: 0.4595 - val_acc: 0.5405\n",
            "Epoch 79/100\n",
            "3456/3456 [==============================] - 1s 161us/sample - loss: 0.4601 - acc: 0.5399 - val_loss: 0.4595 - val_acc: 0.5405\n",
            "Epoch 80/100\n",
            "3456/3456 [==============================] - 0s 144us/sample - loss: 0.4601 - acc: 0.5399 - val_loss: 0.4595 - val_acc: 0.5405\n",
            "Epoch 81/100\n",
            "3456/3456 [==============================] - 1s 150us/sample - loss: 0.4601 - acc: 0.5399 - val_loss: 0.4595 - val_acc: 0.5405\n",
            "Epoch 82/100\n",
            "3456/3456 [==============================] - 1s 151us/sample - loss: 0.4601 - acc: 0.5399 - val_loss: 0.4595 - val_acc: 0.5405\n",
            "Epoch 83/100\n",
            "3456/3456 [==============================] - 1s 150us/sample - loss: 0.4601 - acc: 0.5399 - val_loss: 0.4595 - val_acc: 0.5405\n",
            "Epoch 84/100\n",
            "3456/3456 [==============================] - 0s 144us/sample - loss: 0.4601 - acc: 0.5399 - val_loss: 0.4595 - val_acc: 0.5405\n",
            "Epoch 85/100\n",
            "3456/3456 [==============================] - 1s 147us/sample - loss: 0.4601 - acc: 0.5399 - val_loss: 0.4595 - val_acc: 0.5405\n",
            "Epoch 86/100\n",
            "3456/3456 [==============================] - 1s 146us/sample - loss: 0.4601 - acc: 0.5399 - val_loss: 0.4595 - val_acc: 0.5405\n",
            "Epoch 87/100\n",
            "3456/3456 [==============================] - 1s 159us/sample - loss: 0.4601 - acc: 0.5399 - val_loss: 0.4595 - val_acc: 0.5405\n",
            "Epoch 88/100\n",
            "3456/3456 [==============================] - 1s 162us/sample - loss: 0.4601 - acc: 0.5399 - val_loss: 0.4595 - val_acc: 0.5405\n",
            "Epoch 89/100\n",
            "3456/3456 [==============================] - 1s 158us/sample - loss: 0.4601 - acc: 0.5399 - val_loss: 0.4595 - val_acc: 0.5405\n",
            "Epoch 90/100\n",
            "3456/3456 [==============================] - 1s 155us/sample - loss: 0.4601 - acc: 0.5399 - val_loss: 0.4595 - val_acc: 0.5405\n",
            "Epoch 91/100\n",
            "3456/3456 [==============================] - 0s 144us/sample - loss: 0.4601 - acc: 0.5399 - val_loss: 0.4595 - val_acc: 0.5405\n",
            "Epoch 92/100\n",
            "3456/3456 [==============================] - 1s 155us/sample - loss: 0.4601 - acc: 0.5399 - val_loss: 0.4595 - val_acc: 0.5405\n",
            "Epoch 93/100\n",
            "3456/3456 [==============================] - 1s 150us/sample - loss: 0.4601 - acc: 0.5399 - val_loss: 0.4595 - val_acc: 0.5405\n",
            "Epoch 94/100\n",
            "3456/3456 [==============================] - 1s 158us/sample - loss: 0.4601 - acc: 0.5399 - val_loss: 0.4595 - val_acc: 0.5405\n",
            "Epoch 95/100\n",
            "3456/3456 [==============================] - 1s 147us/sample - loss: 0.4601 - acc: 0.5399 - val_loss: 0.4595 - val_acc: 0.5405\n",
            "Epoch 96/100\n",
            "3456/3456 [==============================] - 1s 146us/sample - loss: 0.4601 - acc: 0.5399 - val_loss: 0.4595 - val_acc: 0.5405\n",
            "Epoch 97/100\n",
            "3456/3456 [==============================] - 0s 143us/sample - loss: 0.4601 - acc: 0.5399 - val_loss: 0.4595 - val_acc: 0.5405\n",
            "Epoch 98/100\n",
            "3456/3456 [==============================] - 1s 162us/sample - loss: 0.4601 - acc: 0.5399 - val_loss: 0.4595 - val_acc: 0.5405\n",
            "Epoch 99/100\n",
            "3456/3456 [==============================] - 1s 150us/sample - loss: 0.4601 - acc: 0.5399 - val_loss: 0.4595 - val_acc: 0.5405\n",
            "Epoch 100/100\n",
            "3456/3456 [==============================] - 1s 156us/sample - loss: 0.4601 - acc: 0.5399 - val_loss: 0.4595 - val_acc: 0.5405\n"
          ],
          "name": "stdout"
        },
        {
          "output_type": "execute_result",
          "data": {
            "text/plain": [
              "<tensorflow.python.keras.callbacks.History at 0x7fe42b904be0>"
            ]
          },
          "metadata": {
            "tags": []
          },
          "execution_count": 25
        }
      ]
    },
    {
      "cell_type": "code",
      "metadata": {
        "id": "-ALGkowqVgz_",
        "colab_type": "code",
        "outputId": "62a0a45d-3629-439a-9f70-f53891388a8d",
        "colab": {
          "base_uri": "https://localhost:8080/",
          "height": 52
        }
      },
      "source": [
        "# evaluate the keras model\n",
        "_, accuracy = model.evaluate(X_test, y_test)\n",
        "print('Accuracy:', accuracy)"
      ],
      "execution_count": 26,
      "outputs": [
        {
          "output_type": "stream",
          "text": [
            "1852/1852 [==============================] - 0s 21us/sample - loss: 0.4438 - acc: 0.5562\n",
            "Accuracy: 0.5561555\n"
          ],
          "name": "stdout"
        }
      ]
    },
    {
      "cell_type": "markdown",
      "metadata": {
        "id": "ybhvIqPy8X--",
        "colab_type": "text"
      },
      "source": [
        "**Conclusion:** A neural network gives comparable accuracy to the what it is given in the literature and to what the `LogisticRegression` produces. It is however more expensive to train."
      ]
    },
    {
      "cell_type": "markdown",
      "metadata": {
        "id": "qWlLuOqGkOO9",
        "colab_type": "text"
      },
      "source": [
        "#### Conclusion"
      ]
    },
    {
      "cell_type": "markdown",
      "metadata": {
        "id": "h23mR__3kuhL",
        "colab_type": "text"
      },
      "source": [
        "We conclude that `LogisticRegression` is a good classifier for the data that we have and performs very well on both the training cost and classification performance levels."
      ]
    },
    {
      "cell_type": "markdown",
      "metadata": {
        "id": "9xLpwNjz0a5D",
        "colab_type": "text"
      },
      "source": [
        "### The Impact of Removing Sensitive Attributes"
      ]
    },
    {
      "cell_type": "markdown",
      "metadata": {
        "id": "qlYe_7WxmhEH",
        "colab_type": "text"
      },
      "source": [
        "In this subsection, we investigate the impact of removing sensitive attributes from the dataset. We observe the impact on accuracy as well as model independence as it is often expected that removing sensitive attributes from the data will result into a \"blind\" justice and independent classification results from those sensitive attributes."
      ]
    },
    {
      "cell_type": "code",
      "metadata": {
        "id": "ij8wFe0d0q88",
        "colab_type": "code",
        "colab": {}
      },
      "source": [
        "X_train_n = X_train.drop(['race', 'sex'], axis=1)\n",
        "X_test_n = X_test.drop(['race', 'sex'], axis=1)\n",
        "X_train_black_n = X_train_black.drop(['race', 'sex'], axis=1)\n",
        "X_train_white_n = X_train_white.drop(['race', 'sex'], axis=1)\n",
        "X_test_black_n = X_test_black.drop(['race', 'sex'], axis=1)\n",
        "X_test_white_n = X_test_white.drop(['race', 'sex'], axis=1)"
      ],
      "execution_count": 0,
      "outputs": []
    },
    {
      "cell_type": "code",
      "metadata": {
        "id": "LAAVe_cqcfQ4",
        "colab_type": "code",
        "colab": {
          "base_uri": "https://localhost:8080/",
          "height": 104
        },
        "outputId": "4545e1ea-1ec8-4d57-b1bd-a0ab1cf62e7a"
      },
      "source": [
        "log_reg_neutral = LogisticRegression()\n",
        "log_reg_neutral.fit(X_train_n, y_train)"
      ],
      "execution_count": 28,
      "outputs": [
        {
          "output_type": "execute_result",
          "data": {
            "text/plain": [
              "LogisticRegression(C=1.0, class_weight=None, dual=False, fit_intercept=True,\n",
              "                   intercept_scaling=1, l1_ratio=None, max_iter=100,\n",
              "                   multi_class='auto', n_jobs=None, penalty='l2',\n",
              "                   random_state=None, solver='lbfgs', tol=0.0001, verbose=0,\n",
              "                   warm_start=False)"
            ]
          },
          "metadata": {
            "tags": []
          },
          "execution_count": 28
        }
      ]
    },
    {
      "cell_type": "code",
      "metadata": {
        "id": "3q0t9ZxfmFGA",
        "colab_type": "code",
        "colab": {
          "base_uri": "https://localhost:8080/",
          "height": 312
        },
        "outputId": "7599ca8b-6a94-4514-b588-e45af0e14be9"
      },
      "source": [
        "y_pred_n = log_reg_neutral.predict(X_test_n)\n",
        "print('Accuracy for the original model:', accuracy_score(y_test, y_pred))\n",
        "y_pred_black = log_reg.predict_proba(X_test_black)[:, 1]\n",
        "y_pred_white = log_reg.predict_proba(X_test_white)[:, 1]\n",
        "y_pred_black_n = log_reg_neutral.predict_proba(X_test_black_n)[:, 1]\n",
        "y_pred_white_n = log_reg_neutral.predict_proba(X_test_white_n)[:, 1]\n",
        "\n",
        "xbins = np.linspace(0, 1, 2**10)\n",
        "x = (xbins[1:] + xbins[:-1])/2  # midpoint of each bin\n",
        "dx = xbins[1:] - xbins[:-1]\n",
        "yb, _ = np.histogram(y_pred_black, density=True, bins=xbins)\n",
        "yw, _ = np.histogram(y_pred_white, density=True, bins=xbins)\n",
        "\n",
        "# Cumulative distributions:\n",
        "fb = yb.cumsum()*dx\n",
        "fw = yw.cumsum()*dx\n",
        "\n",
        "# Median\n",
        "f_med = (fb + fw) / 2\n",
        "plt.plot(x, fb, label='Black defendents')\n",
        "plt.plot(x, fw, label='White defendents')\n",
        "plt.plot(x, f_med, label='Median')\n",
        "\n",
        "plt.title('Cumulative Distribution of Scores per Race')\n",
        "plt.xlabel('Score')\n",
        "plt.ylabel('Cumulative Distribution of Scores')\n",
        "plt.legend(loc='lower center', bbox_to_anchor=(0.75, 0.0), ncol=1, fancybox=True, shadow=True)\n",
        "\n",
        "plt.show()"
      ],
      "execution_count": 29,
      "outputs": [
        {
          "output_type": "stream",
          "text": [
            "Accuracy for the original model: 0.6787257019438445\n"
          ],
          "name": "stdout"
        },
        {
          "output_type": "display_data",
          "data": {
            "image/png": "[encoded data removed]",
            "text/plain": [
              "<Figure size 432x288 with 1 Axes>"
            ]
          },
          "metadata": {
            "tags": [],
            "needs_background": "light"
          }
        }
      ]
    },
    {
      "cell_type": "code",
      "metadata": {
        "id": "5AnE5zfSWH4d",
        "colab_type": "code",
        "colab": {
          "base_uri": "https://localhost:8080/",
          "height": 312
        },
        "outputId": "eec92e39-a36e-4b80-954f-621d1e502b66"
      },
      "source": [
        "print('Accuracy for the \"neutral\" model:', accuracy_score(y_test, y_pred_n))\n",
        "\n",
        "xbins = np.linspace(0, 1, 2**10)\n",
        "x = (xbins[1:] + xbins[:-1])/2  # midpoint of each bin\n",
        "dx = xbins[1:] - xbins[:-1]\n",
        "yb, _ = np.histogram(y_pred_black_n, density=True, bins=xbins)\n",
        "yw, _ = np.histogram(y_pred_white_n, density=True, bins=xbins)\n",
        "\n",
        "# Cumulative distributions:\n",
        "fb = yb.cumsum()*dx\n",
        "fw = yw.cumsum()*dx\n",
        "\n",
        "# Median\n",
        "f_med = (fb + fw) / 2\n",
        "plt.plot(x, fb, label='Black defendents')\n",
        "plt.plot(x, fw, label='White defendents')\n",
        "plt.plot(x, f_med, label='Median')\n",
        "\n",
        "plt.title('Cumulative Distribution of Scores per Race')\n",
        "plt.xlabel('Score')\n",
        "plt.ylabel('Cumulative Distribution of Scores')\n",
        "plt.legend(loc='lower center', bbox_to_anchor=(0.75, 0.0), ncol=1, fancybox=True, shadow=True)\n",
        "\n",
        "plt.show()"
      ],
      "execution_count": 30,
      "outputs": [
        {
          "output_type": "stream",
          "text": [
            "Accuracy for the \"neutral\" model: 0.677645788336933\n"
          ],
          "name": "stdout"
        },
        {
          "output_type": "display_data",
          "data": {
            "image/png": "[encoded data removed]",
            "text/plain": [
              "<Figure size 432x288 with 1 Axes>"
            ]
          },
          "metadata": {
            "tags": [],
            "needs_background": "light"
          }
        }
      ]
    },
    {
      "cell_type": "markdown",
      "metadata": {
        "id": "GpYuZlzrI1zB",
        "colab_type": "text"
      },
      "source": [
        "**Conclusion:** Removing the sensitive attributes from the dataset did not result in an accuracy decrease. However, it also did very little to help with independence. It is therefore and as expected a bad technique to achieve independence."
      ]
    },
    {
      "cell_type": "markdown",
      "metadata": {
        "id": "0ij4mSx2lYKx",
        "colab_type": "text"
      },
      "source": [
        "### Tackling Fairness in our Classifier"
      ]
    },
    {
      "cell_type": "markdown",
      "metadata": {
        "id": "QkOHMGH2Ns00",
        "colab_type": "text"
      },
      "source": [
        "#### Independence"
      ]
    },
    {
      "cell_type": "markdown",
      "metadata": {
        "id": "n796o1GuKEoN",
        "colab_type": "text"
      },
      "source": [
        "In this section, we show one good method of achieving independence based on the [paper](https://arxiv.org/abs/1412.3756) by Feldman et. al. and display how we can repair the score partially (or completely to achieve perfect independence over accuracy) inspired by this [tutorial](https://faculty.ai/blog/how-to-repair-an-unfair-classifier-part-1)."
      ]
    },
    {
      "cell_type": "code",
      "metadata": {
        "id": "1BX9uS5PbL-Y",
        "colab_type": "code",
        "colab": {
          "base_uri": "https://localhost:8080/",
          "height": 312
        },
        "outputId": "47dd8425-a115-459d-d8a2-725d21d0aff0"
      },
      "source": [
        "print('Original accuracy:', accuracy_score(y_test, y_pred))\n",
        "\n",
        "xbins = np.linspace(0, 1, 2**10)\n",
        "x = (xbins[1:] + xbins[:-1])/2  # midpoint of each bin\n",
        "dx = xbins[1:] - xbins[:-1]\n",
        "yb, _ = np.histogram(y_pred_black, density=True, bins=xbins)\n",
        "yw, _ = np.histogram(y_pred_white, density=True, bins=xbins)\n",
        "\n",
        "# Cumulative distributions:\n",
        "fb = yb.cumsum()*dx\n",
        "fw = yw.cumsum()*dx\n",
        "\n",
        "# Median\n",
        "f_med = (fb + fw) / 2\n",
        "\n",
        "plt.plot(x, fb, label='Black defendents')\n",
        "plt.plot(x, fw, label='White defendents')\n",
        "plt.plot(x, f_med, label='Median')\n",
        "\n",
        "plt.title('Cumulative Distribution of Scores per Race')\n",
        "plt.xlabel('Score')\n",
        "plt.ylabel('Cumulative Distribution of Scores')\n",
        "plt.legend(loc='lower center', bbox_to_anchor=(0.75, 0.0), ncol=1, fancybox=True, shadow=True)\n",
        "\n",
        "plt.show()"
      ],
      "execution_count": 31,
      "outputs": [
        {
          "output_type": "stream",
          "text": [
            "Original accuracy: 0.6787257019438445\n"
          ],
          "name": "stdout"
        },
        {
          "output_type": "display_data",
          "data": {
            "image/png": "[encoded data removed]",
            "text/plain": [
              "<Figure size 432x288 with 1 Axes>"
            ]
          },
          "metadata": {
            "tags": [],
            "needs_background": "light"
          }
        }
      ]
    },
    {
      "cell_type": "markdown",
      "metadata": {
        "id": "5XcdtJgGq6BA",
        "colab_type": "text"
      },
      "source": [
        "In an ideal world where the independence criterion is fully met, both distributions from the plot above should be identical to the median. Below, we remove disparate impact and try to get both distributions closer to the median distribution."
      ]
    },
    {
      "cell_type": "markdown",
      "metadata": {
        "id": "i3iA5aB0SVme",
        "colab_type": "text"
      },
      "source": [
        "##### Repairing the scores"
      ]
    },
    {
      "cell_type": "code",
      "metadata": {
        "id": "3YTHGTVtWmY1",
        "colab_type": "code",
        "colab": {}
      },
      "source": [
        "# Repair the score up until a degree gamma\n",
        "def repair_score(groups, y_pred_arg, gamma=0.5):\n",
        "  y_repair = np.zeros(y_pred_arg.size)\n",
        "  \n",
        "  for i in range(y_pred_arg.size):\n",
        "    score = y_pred_arg[i]\n",
        "    race = groups[i]\n",
        "\n",
        "    x_arg = np.abs(x - score).argmin()\n",
        "\n",
        "    if race == 0:    \n",
        "        f_val = fb[x_arg]\n",
        "    elif race == 2:\n",
        "        f_val = fw[x_arg]\n",
        "    else:\n",
        "        y_repair[i] = y_pred_arg[i]\n",
        "        continue\n",
        "    f_arg = np.abs(f_space - f_val).argmin()\n",
        "    y_repair[i] = y_pred_arg[i] + gamma * (x_med[f_arg] - y_pred_arg[i])\n",
        "\n",
        "  return y_repair"
      ],
      "execution_count": 0,
      "outputs": []
    },
    {
      "cell_type": "code",
      "metadata": {
        "id": "r6xNaqeHdrcR",
        "colab_type": "code",
        "colab": {
          "base_uri": "https://localhost:8080/",
          "height": 282
        },
        "outputId": "0aa7c637-0555-413e-842e-411567ddf178"
      },
      "source": [
        "# Compute the median distribution\n",
        "f_space = np.linspace(0,1, 2**9) \n",
        "x_med = np.zeros_like(f_space)\n",
        "for i, f in enumerate(f_space):\n",
        "    b_arg = np.abs(fb - f).argmin()\n",
        "    w_arg = np.abs(fw - f).argmin()\n",
        "    x_med[i] = np.median([x[b_arg], x[w_arg]])\n",
        "\n",
        "y_pred_proba = log_reg.predict_proba(X_test)[:,1]\n",
        "y_pred_r = repair_score(np.array(X_test.race), y_pred_proba, gamma=0.7)\n",
        "\n",
        "for i in range(y_pred_r.size):\n",
        "  if y_pred_r[i] < 0.5:\n",
        "    y_pred_r[i] = 0\n",
        "  else:\n",
        "    y_pred_r[i] = 1\n",
        "\n",
        "print('Repaired accuracy:', accuracy_score(y_test, y_pred_r))\n",
        "\n",
        "xbins = np.linspace(0, 1, 2**10)\n",
        "x = (xbins[1:] + xbins[:-1])/2  # midpoint of each bin\n",
        "dx = xbins[1:] - xbins[:-1]\n",
        "y_pred_black_rep = repair_score(np.array(X_test_black.race), y_pred_black, gamma=0.7)\n",
        "y_pred_white_rep = repair_score(np.array(X_test_white.race), y_pred_white, gamma=0.7)\n",
        "ybr, _ = np.histogram(y_pred_black_rep, density=True, bins=xbins)\n",
        "ywr, _ = np.histogram(y_pred_white_rep, density=True, bins=xbins)\n",
        "\n",
        "# Cumulative distributions:\n",
        "fbr = ybr.cumsum()*dx\n",
        "fwr = ywr.cumsum()*dx\n",
        "fmr = (fbr + fwr) / 2\n",
        "\n",
        "plt.plot(x, fbr, label='Black defendents')\n",
        "plt.plot(x, fwr, label='White defendents')\n",
        "plt.plot(x, fmr, label='Median')\n",
        "\n",
        "plt.legend(loc='lower center', bbox_to_anchor=(0.75, 0.0), ncol=1, fancybox=True, shadow=True)\n",
        "plt.show()"
      ],
      "execution_count": 33,
      "outputs": [
        {
          "output_type": "stream",
          "text": [
            "Repaired accuracy: 0.6695464362850972\n"
          ],
          "name": "stdout"
        },
        {
          "output_type": "display_data",
          "data": {
            "image/png": "[encoded data removed]",
            "text/plain": [
              "<Figure size 432x288 with 1 Axes>"
            ]
          },
          "metadata": {
            "tags": [],
            "needs_background": "light"
          }
        }
      ]
    },
    {
      "cell_type": "markdown",
      "metadata": {
        "id": "ORt06gM1rilr",
        "colab_type": "text"
      },
      "source": [
        "**Conclusion:** By sacrificing about 2% of our model's accuracy, we have achieved independence. The idea behind the algorithm is to find the median distribution and promote scores from distributions of both sensitive groups closer to it up to a certain degree thus achieving a statistically independent model."
      ]
    },
    {
      "cell_type": "markdown",
      "metadata": {
        "id": "6wbgngPJJzwf",
        "colab_type": "text"
      },
      "source": [
        "#### Separation"
      ]
    },
    {
      "cell_type": "markdown",
      "metadata": {
        "id": "9e5gDfa5s19T",
        "colab_type": "text"
      },
      "source": [
        "Independence may not be interesting in certain contexts. In fact, it is not in most contexts. What if the value of a sensitive group has to do with the classification result? In that case, we resort to separation criterion. In this subsection, we show one good method of achieving separation based on the [paper](https://arxiv.org/abs/1610.02413) by Hardt et. al. The code in this section is heavily inspired by this [tutorial](https://faculty.ai/blog/how-to-repair-an-unfair-classifier-part-2).\n",
        "\n",
        "The idea here is to force the classifier to have certain true positive and true negative rates that suite the problem very well."
      ]
    },
    {
      "cell_type": "code",
      "metadata": {
        "id": "D9jtuErgJ76C",
        "colab_type": "code",
        "colab": {}
      },
      "source": [
        "def check_lengths(*arrays):\n",
        "    \"\"\"\n",
        "    Check that all arrays have the same length.\n",
        "    Parameters\n",
        "    ----------\n",
        "    *arrays : list or tuple of input objects.\n",
        "        Objects that will be checked.\n",
        "    \"\"\"\n",
        "    lengths = [len(X) for X in arrays if X is not None]\n",
        "    uniques = np.unique(lengths)\n",
        "    if len(uniques) > 1:\n",
        "        message = \"Input arrays should all be the same length.\"\n",
        "        raise ValueError(message)\n",
        "\n",
        "\n",
        "def check_binaries(*arrays):\n",
        "    \"\"\"\n",
        "    Check that all values in the arrays are 0s or 1s.\n",
        "    Parameters\n",
        "    ----------\n",
        "    *arrays : list or tuple of input objects.\n",
        "        Objects that will be checked.\n",
        "    \"\"\"\n",
        "    values = [set(X) for X in arrays if X is not None]\n",
        "    all_valid = all(v.issubset({0, 1}) for v in values)\n",
        "    if not all_valid:\n",
        "        message = \"Input arrays should only contain 0s and/or 1s.\"\n",
        "        raise ValueError(message)\n",
        "\n",
        "\n",
        "def tp_rate(y_true, y_pred) -> float:\n",
        "    \"\"\"\n",
        "    True positive rate.\n",
        "    Parameters\n",
        "    ----------\n",
        "    y_true : 1d array-like of binaries\n",
        "        Ground truth (correct) target values.\n",
        "    y_pred : 1d array-like of binaries\n",
        "        Estimated targets as returned by a classifier.\n",
        "    \"\"\"\n",
        "    check_lengths(y_true, y_pred)\n",
        "    check_binaries(y_true, y_pred)\n",
        "    y_true = np.array(y_true)\n",
        "    y_pred = np.array(y_pred)\n",
        "    if all(y_true == 0):\n",
        "        return np.nan\n",
        "\n",
        "    rate = (y_true @ y_pred) / (y_true @ y_true)\n",
        "    return rate\n",
        "\n",
        "\n",
        "def fp_rate(y_true, y_pred) -> float:\n",
        "    \"\"\"\n",
        "    False positive rate.\n",
        "    Parameters\n",
        "    ----------\n",
        "    y_true : 1d array-like of binaries\n",
        "        Ground truth (correct) target values.\n",
        "    y_pred : 1d array-like of binaries\n",
        "        Estimated targets as returned by a classifier.\n",
        "    \"\"\"\n",
        "    check_lengths(y_true, y_pred)\n",
        "    check_binaries(y_true, y_pred)\n",
        "    y_false = 1 - np.array(y_true)\n",
        "    y_pred = np.array(y_pred)\n",
        "    if all(y_false == 0):\n",
        "        return np.nan\n",
        "\n",
        "    rate = (y_false @ (y_pred)) / (y_false @ y_false)\n",
        "    return rate\n",
        "\n",
        "\n",
        "def classification_report(y_true, y_pred, A) -> str:\n",
        "    \"\"\"\n",
        "    String showing the true positive rate and false\n",
        "    positive rate for each group.\n",
        "    Parameters\n",
        "    ----------\n",
        "    y_true : 1d array-like of binaries\n",
        "        Ground truth (correct) target values.\n",
        "    y_pred : 1d array-like of binaries\n",
        "        Estimated targets as returned by a classifier.\n",
        "    A: 1d array like\n",
        "        Labels for the different groups.\n",
        "    \"\"\"\n",
        "    check_lengths(y_true, y_pred, A)\n",
        "    check_binaries(y_true, y_pred)\n",
        "    groups = np.unique(A)\n",
        "    header = \"{:<4}{:^6}{:^6}\".format(\"A\", \"TPR\", \"FPR\")\n",
        "    row_fmt = \"{:<4}{:^6.2f}{:^6.2f}\"\n",
        "    lines = [header, \"-\" * len(header)]\n",
        "    for g in groups:\n",
        "        y_true_g = y_true[A == g]\n",
        "        y_pred_g = y_pred[A == g]\n",
        "        tpr_g = tp_rate(y_true_g, y_pred_g)\n",
        "        fpr_g = fp_rate(y_true_g, y_pred_g)\n",
        "        lines.append(row_fmt.format(g, tpr_g, fpr_g))\n",
        "\n",
        "    tpr = tp_rate(y_true, y_pred)\n",
        "    fpr = fp_rate(y_true, y_pred)\n",
        "    lines.append(row_fmt.format(\"All\", tpr, fpr))\n",
        "    report = \"\\n\".join(lines)\n",
        "    return report"
      ],
      "execution_count": 0,
      "outputs": []
    },
    {
      "cell_type": "code",
      "metadata": {
        "id": "UN7Xwg-xM6R2",
        "colab_type": "code",
        "colab": {}
      },
      "source": [
        "from scipy.optimize import minimize\n",
        "from sklearn.metrics import roc_curve\n",
        "\n",
        "class SeparatedClassifier:\n",
        "    def __init__(self, y_train, score_train, group_train):\n",
        "        check_lengths(y_train, score_train, group_train)\n",
        "        check_binaries(y_train)\n",
        "        self.y_train = np.array(y_train)\n",
        "        self.score_train = np.array(score_train)\n",
        "        self.group_train = np.array(group_train)\n",
        "\n",
        "    def fit(self, goal_fpr, goal_tpr):\n",
        "        groups = np.unique(self.group_train)\n",
        "        self.randomized_thresholds = dict()\n",
        "        for g in groups:\n",
        "            y_true_g = self.y_train[self.group_train == g]\n",
        "            score_g = self.score_train[self.group_train == g]\n",
        "            self.randomized_thresholds[g] = self._find_thresholds_and_probas(\n",
        "                y_true_g, score_g, goal_fpr, goal_tpr\n",
        "            )\n",
        "\n",
        "    def fair_predict(self, score_test, group_test):\n",
        "        groups = np.unique(group_test)\n",
        "        y_pred = []\n",
        "        for score, g in zip(score_test, group_test):\n",
        "            *a, p = self.randomized_thresholds[g]\n",
        "            t = np.random.choice(a, p=[1 - p, p])\n",
        "            y_pred.append(1 if score >= t else 0)\n",
        "\n",
        "        return np.array(y_pred)\n",
        "\n",
        "    def _find_thresholds_and_probas(self, y_true, scores, goal_fpr, goal_tpr):\n",
        "        fpr, tpr, thresholds = roc_curve(y_true, scores, drop_intermediate=False)\n",
        "\n",
        "        def distance(d3array):\n",
        "            t0, t1, p = d3array\n",
        "            i = np.argmin(abs(t0 - thresholds))\n",
        "            j = np.argmin(abs(t1 - thresholds))\n",
        "            x = fpr[i] + p * (fpr[j] - fpr[i])\n",
        "            y = tpr[i] + p * (tpr[j] - tpr[i])\n",
        "            return np.hypot(x - goal_fpr, y - goal_tpr)\n",
        "\n",
        "        initial_guess = np.array([0.3, 0.5, 0.5])\n",
        "        res = minimize(\n",
        "            distance, initial_guess, method=\"nelder-mead\", options={\"xtol\": 1e-10}\n",
        "        )\n",
        "        t0, t1, p = res[\"x\"]\n",
        "        return t0, t1, p"
      ],
      "execution_count": 0,
      "outputs": []
    },
    {
      "cell_type": "code",
      "metadata": {
        "id": "-xSBBllIKsUQ",
        "colab_type": "code",
        "colab": {
          "base_uri": "https://localhost:8080/",
          "height": 469
        },
        "outputId": "5330e1ff-4591-4357-fe11-0e080524f581"
      },
      "source": [
        "from sklearn import metrics\n",
        "\n",
        "X_train, X_test, y_train, y_test, group_train, group_test = train_test_split(\n",
        "    dataset.drop(columns='two_year_recid'),\n",
        "    dataset['two_year_recid'],\n",
        "    dataset['race'],\n",
        "    test_size=0.3,\n",
        "    random_state=SEED,\n",
        ")\n",
        "\n",
        "X_test.insert(0, 'two_year_recid', y_test)\n",
        "X_test_black = X_test[X_test.race == 0]\n",
        "X_test_white = X_test[X_test.race == 2]\n",
        "y_test_black = X_test_black['two_year_recid']\n",
        "y_test_white= X_test_white['two_year_recid']\n",
        "X_test = X_test.drop('two_year_recid', axis=1)\n",
        "X_test_black = X_test_black.drop('two_year_recid', axis=1)\n",
        "X_test_white = X_test_white.drop('two_year_recid', axis=1)\n",
        "\n",
        "log_reg.fit(X_train, y_train)\n",
        "y_pred = log_reg.predict(X_test)\n",
        "print(classification_report(y_test, y_pred, group_test))\n",
        "\n",
        "y_pred_black = log_reg.predict_proba(X_test_black)[:, 1]\n",
        "y_pred_white = log_reg.predict_proba(X_test_white)[:, 1]\n",
        "fpr, tpr, _ = metrics.roc_curve(y_test_black, y_pred_black)\n",
        "plt.plot(fpr, tpr, label='Black defendants')\n",
        "fpr, tpr, _ = metrics.roc_curve(y_test_white, y_pred_white)\n",
        "plt.plot(fpr, tpr, label='White defendants')\n",
        "\n",
        "print('Original accuracy:', accuracy_score(y_test, y_pred))\n",
        "\n",
        "plt.title('ROC')\n",
        "plt.xlabel(\"FPR\")\n",
        "plt.ylabel(\"TPR\")\n",
        "plt.legend(loc='lower center', bbox_to_anchor=(0.75, 0.0), ncol=1, fancybox=True, shadow=True)\n",
        "plt.show()"
      ],
      "execution_count": 36,
      "outputs": [
        {
          "output_type": "stream",
          "text": [
            "A    TPR   FPR  \n",
            "----------------\n",
            "0    0.75  0.37 \n",
            "1    0.40  0.00 \n",
            "2    0.39  0.15 \n",
            "3    0.33  0.17 \n",
            "4    1.00  0.20 \n",
            "5    0.14  0.04 \n",
            "All  0.58  0.24 \n",
            "Original accuracy: 0.6787257019438445\n"
          ],
          "name": "stdout"
        },
        {
          "output_type": "display_data",
          "data": {
            "image/png": "[encoded data removed]",
            "text/plain": [
              "<Figure size 432x288 with 1 Axes>"
            ]
          },
          "metadata": {
            "tags": [],
            "needs_background": "light"
          }
        }
      ]
    },
    {
      "cell_type": "markdown",
      "metadata": {
        "id": "dKZ-2qTG9LX5",
        "colab_type": "text"
      },
      "source": [
        "As we can see from the ROC curve, the white defendants are judged more leniently. We choose our goal true positive rate to be `0.6` and our goal false positive rate to be `0.4`."
      ]
    },
    {
      "cell_type": "code",
      "metadata": {
        "id": "sphvm2-PKosy",
        "colab_type": "code",
        "colab": {
          "base_uri": "https://localhost:8080/",
          "height": 295
        },
        "outputId": "44f1b5e7-4e93-4e68-b3a3-aaed28172c62"
      },
      "source": [
        "score_train = log_reg.predict_proba(X_train)[:, 1]\n",
        "score_test = log_reg.predict_proba(X_test)[:, 1]\n",
        "goal_tpr, goal_fpr = 0.6, 0.4\n",
        "\n",
        "fair_clf = SeparatedClassifier(y_train, score_train, group_train)\n",
        "fair_clf.fit(goal_fpr, goal_tpr)\n",
        "\n",
        "for k, v in fair_clf.randomized_thresholds.items():\n",
        "    print(f\"Group {k}: t0={v[0]:.2f}, t1={v[1]:.2f}, p={v[2]:.2f}\")\n",
        "\n",
        "y_pred_fair = fair_clf.fair_predict(score_test, group_test)\n",
        "print(classification_report(y_test, y_pred_fair, group_test))\n",
        "print('Repaired accuracy:', accuracy_score(y_test, y_pred_fair))"
      ],
      "execution_count": 37,
      "outputs": [
        {
          "output_type": "stream",
          "text": [
            "Group 0: t0=0.35, t1=0.72, p=0.48\n",
            "Group 1: t0=0.31, t1=0.61, p=0.22\n",
            "Group 2: t0=0.24, t1=0.55, p=0.49\n",
            "Group 3: t0=0.24, t1=0.56, p=0.48\n",
            "Group 4: t0=0.22, t1=0.49, p=0.66\n",
            "Group 5: t0=0.18, t1=0.50, p=0.55\n",
            "A    TPR   FPR  \n",
            "----------------\n",
            "0    0.62  0.42 \n",
            "1    0.80  0.60 \n",
            "2    0.59  0.40 \n",
            "3    0.55  0.50 \n",
            "4    1.00  0.40 \n",
            "5    0.59  0.44 \n",
            "All  0.61  0.42 \n",
            "Repaired accuracy: 0.5912526997840173\n"
          ],
          "name": "stdout"
        }
      ]
    },
    {
      "cell_type": "markdown",
      "metadata": {
        "id": "7t4iYtr8x19y",
        "colab_type": "text"
      },
      "source": [
        "**Conclusion:** Although we lost some accuracy, we achieved a certain degree of separation by forcing both True and False Positive rates to be roughly equal to a certain value across all groups."
      ]
    },
    {
      "cell_type": "markdown",
      "metadata": {
        "id": "sU0JPmspJDS7",
        "colab_type": "text"
      },
      "source": [
        "## AI Fairness in Practice: AIF360"
      ]
    },
    {
      "cell_type": "markdown",
      "metadata": {
        "id": "6lI-nPbQ0adI",
        "colab_type": "text"
      },
      "source": [
        "As we have seen, reparing classification is a cumbersome work that requires a lot of hacky tricks as of now. We hoped that we find a mature library for this novel field and we stumbled upon IBM's [AIF360](https://github.com/IBM/AIF360).\n",
        "\n",
        "Below, we use this library to optimize fairness using one Pre-processing approach, one in-processing approach, and one post-processing approach.\n",
        "\n",
        "The code below is heavily inspired by the example notebooks published by IBM [here](https://github.com/IBM/AIF360/blob/master/examples)."
      ]
    },
    {
      "cell_type": "markdown",
      "metadata": {
        "id": "4272SmZ3EM5d",
        "colab_type": "text"
      },
      "source": [
        "### Prepare the Library"
      ]
    },
    {
      "cell_type": "code",
      "metadata": {
        "id": "xnsgF7BWUlMj",
        "colab_type": "code",
        "colab": {
          "base_uri": "https://localhost:8080/",
          "height": 173
        },
        "outputId": "df626080-64f2-49f4-9db4-30e6417741bb"
      },
      "source": [
        "!pip install aif360"
      ],
      "execution_count": 38,
      "outputs": [
        {
          "output_type": "stream",
          "text": [
            "Requirement already satisfied: aif360 in /usr/local/lib/python3.6/dist-packages (0.2.3)\n",
            "Requirement already satisfied: scikit-learn in /usr/local/lib/python3.6/dist-packages (from aif360) (0.22.2.post1)\n",
            "Requirement already satisfied: pandas>=0.23.3 in /usr/local/lib/python3.6/dist-packages (from aif360) (1.0.3)\n",
            "Requirement already satisfied: numpy>=1.16 in /usr/local/lib/python3.6/dist-packages (from aif360) (1.18.3)\n",
            "Requirement already satisfied: scipy in /usr/local/lib/python3.6/dist-packages (from aif360) (1.4.1)\n",
            "Requirement already satisfied: joblib>=0.11 in /usr/local/lib/python3.6/dist-packages (from scikit-learn->aif360) (0.14.1)\n",
            "Requirement already satisfied: pytz>=2017.2 in /usr/local/lib/python3.6/dist-packages (from pandas>=0.23.3->aif360) (2018.9)\n",
            "Requirement already satisfied: python-dateutil>=2.6.1 in /usr/local/lib/python3.6/dist-packages (from pandas>=0.23.3->aif360) (2.8.1)\n",
            "Requirement already satisfied: six>=1.5 in /usr/local/lib/python3.6/dist-packages (from python-dateutil>=2.6.1->pandas>=0.23.3->aif360) (1.12.0)\n"
          ],
          "name": "stdout"
        }
      ]
    },
    {
      "cell_type": "code",
      "metadata": {
        "id": "IUGc3S0BYvDg",
        "colab_type": "code",
        "colab": {}
      },
      "source": [
        "# Metrics function\n",
        "from collections import OrderedDict\n",
        "from aif360.metrics import ClassificationMetric\n",
        "from aif360.metrics import BinaryLabelDatasetMetric\n",
        "from aif360.metrics import ClassificationMetric\n",
        "from aif360.datasets import BinaryLabelDataset\n",
        "from aif360.datasets import CompasDataset\n",
        "from aif360.algorithms.preprocessing.optim_preproc_helpers.data_preproc_functions\\\n",
        "        import load_preproc_data_compas\n",
        "from aif360.algorithms.preprocessing.optim_preproc_helpers.distortion_functions\\\n",
        "            import get_distortion_adult, get_distortion_german, get_distortion_compas\n",
        "from aif360.algorithms.preprocessing.optim_preproc_helpers.opt_tools import OptTools\n",
        "from aif360.algorithms.preprocessing.optim_preproc import OptimPreproc\n",
        "from aif360.algorithms.postprocessing.reject_option_classification\\\n",
        "        import RejectOptionClassification\n",
        "from aif360.algorithms.inprocessing.adversarial_debiasing import AdversarialDebiasing\n",
        "from aif360.algorithms.preprocessing.optim_preproc_helpers.data_preproc_functions import load_preproc_data_compas\n",
        "\n",
        "\n",
        "from sklearn.preprocessing import StandardScaler, MaxAbsScaler\n",
        "\n",
        "def compute_metrics(dataset_true, dataset_pred, \n",
        "                    unprivileged_groups, privileged_groups,\n",
        "                    disp = True):\n",
        "    \"\"\" Compute the key metrics \"\"\"\n",
        "    classified_metric_pred = ClassificationMetric(dataset_true,\n",
        "                                                 dataset_pred, \n",
        "                                                 unprivileged_groups=unprivileged_groups,\n",
        "                                                 privileged_groups=privileged_groups)\n",
        "    metrics = OrderedDict()\n",
        "    metrics[\"Balanced accuracy\"] = 0.5*(classified_metric_pred.true_positive_rate()+\n",
        "                                             classified_metric_pred.true_negative_rate())\n",
        "    metrics[\"Statistical parity difference\"] = classified_metric_pred.statistical_parity_difference()\n",
        "    metrics[\"Disparate impact\"] = classified_metric_pred.disparate_impact()\n",
        "    metrics[\"Average odds difference\"] = classified_metric_pred.average_odds_difference()\n",
        "    metrics[\"Equal opportunity difference\"] = classified_metric_pred.equal_opportunity_difference()\n",
        "    metrics[\"Theil index\"] = classified_metric_pred.theil_index()\n",
        "    \n",
        "    if disp:\n",
        "        for k in metrics:\n",
        "            print(\"%s = %.4f\" % (k, metrics[k]))\n",
        "    \n",
        "    return metrics"
      ],
      "execution_count": 0,
      "outputs": []
    },
    {
      "cell_type": "markdown",
      "metadata": {
        "id": "ErRAUFUE35RS",
        "colab_type": "text"
      },
      "source": [
        "### Load and Clean the Data"
      ]
    },
    {
      "cell_type": "code",
      "metadata": {
        "id": "RFXoZJOz98ZP",
        "colab_type": "code",
        "colab": {
          "base_uri": "https://localhost:8080/",
          "height": 0
        },
        "outputId": "5ad397b8-745f-4f57-859b-ea012d856851"
      },
      "source": [
        "\n",
        "dataset_orig = load_preproc_data_compas(['race'])\n",
        "compas, d = dataset_orig.convert_to_dataframe()\n",
        "\n",
        "unprivileged_races, privileged_races = [{'race': 0}], [{'race': 1}]\n",
        "unprivileged_sex, privileged_sex = [{'sex': 0}], [{'sex': 1}]\n",
        "unprivileged_groups, privileged_groups = [{'race': 0}, {'sex': 0}], [{'race': 1}, {'sex': 1}]\n",
        "\n",
        "compas"
      ],
      "execution_count": 40,
      "outputs": [
        {
          "output_type": "execute_result",
          "data": {
            "text/html": [
              "<div>\n",
              "<style scoped>\n",
              "    .dataframe tbody tr th:only-of-type {\n",
              "        vertical-align: middle;\n",
              "    }\n",
              "\n",
              "    .dataframe tbody tr th {\n",
              "        vertical-align: top;\n",
              "    }\n",
              "\n",
              "    .dataframe thead th {\n",
              "        text-align: right;\n",
              "    }\n",
              "</style>\n",
              "<table border=\"1\" class=\"dataframe\">\n",
              "  <thead>\n",
              "    <tr style=\"text-align: right;\">\n",
              "      <th></th>\n",
              "      <th>sex</th>\n",
              "      <th>race</th>\n",
              "      <th>age_cat=25 to 45</th>\n",
              "      <th>age_cat=Greater than 45</th>\n",
              "      <th>age_cat=Less than 25</th>\n",
              "      <th>priors_count=0</th>\n",
              "      <th>priors_count=1 to 3</th>\n",
              "      <th>priors_count=More than 3</th>\n",
              "      <th>c_charge_degree=F</th>\n",
              "      <th>c_charge_degree=M</th>\n",
              "      <th>two_year_recid</th>\n",
              "    </tr>\n",
              "  </thead>\n",
              "  <tbody>\n",
              "    <tr>\n",
              "      <th>3</th>\n",
              "      <td>0.0</td>\n",
              "      <td>0.0</td>\n",
              "      <td>1.0</td>\n",
              "      <td>0.0</td>\n",
              "      <td>0.0</td>\n",
              "      <td>1.0</td>\n",
              "      <td>0.0</td>\n",
              "      <td>0.0</td>\n",
              "      <td>1.0</td>\n",
              "      <td>0.0</td>\n",
              "      <td>1.0</td>\n",
              "    </tr>\n",
              "    <tr>\n",
              "      <th>4</th>\n",
              "      <td>0.0</td>\n",
              "      <td>0.0</td>\n",
              "      <td>0.0</td>\n",
              "      <td>0.0</td>\n",
              "      <td>1.0</td>\n",
              "      <td>0.0</td>\n",
              "      <td>0.0</td>\n",
              "      <td>1.0</td>\n",
              "      <td>1.0</td>\n",
              "      <td>0.0</td>\n",
              "      <td>1.0</td>\n",
              "    </tr>\n",
              "    <tr>\n",
              "      <th>8</th>\n",
              "      <td>0.0</td>\n",
              "      <td>1.0</td>\n",
              "      <td>1.0</td>\n",
              "      <td>0.0</td>\n",
              "      <td>0.0</td>\n",
              "      <td>0.0</td>\n",
              "      <td>0.0</td>\n",
              "      <td>1.0</td>\n",
              "      <td>1.0</td>\n",
              "      <td>0.0</td>\n",
              "      <td>1.0</td>\n",
              "    </tr>\n",
              "    <tr>\n",
              "      <th>10</th>\n",
              "      <td>1.0</td>\n",
              "      <td>1.0</td>\n",
              "      <td>1.0</td>\n",
              "      <td>0.0</td>\n",
              "      <td>0.0</td>\n",
              "      <td>1.0</td>\n",
              "      <td>0.0</td>\n",
              "      <td>0.0</td>\n",
              "      <td>0.0</td>\n",
              "      <td>1.0</td>\n",
              "      <td>0.0</td>\n",
              "    </tr>\n",
              "    <tr>\n",
              "      <th>14</th>\n",
              "      <td>0.0</td>\n",
              "      <td>1.0</td>\n",
              "      <td>1.0</td>\n",
              "      <td>0.0</td>\n",
              "      <td>0.0</td>\n",
              "      <td>1.0</td>\n",
              "      <td>0.0</td>\n",
              "      <td>0.0</td>\n",
              "      <td>1.0</td>\n",
              "      <td>0.0</td>\n",
              "      <td>0.0</td>\n",
              "    </tr>\n",
              "    <tr>\n",
              "      <th>...</th>\n",
              "      <td>...</td>\n",
              "      <td>...</td>\n",
              "      <td>...</td>\n",
              "      <td>...</td>\n",
              "      <td>...</td>\n",
              "      <td>...</td>\n",
              "      <td>...</td>\n",
              "      <td>...</td>\n",
              "      <td>...</td>\n",
              "      <td>...</td>\n",
              "      <td>...</td>\n",
              "    </tr>\n",
              "    <tr>\n",
              "      <th>10994</th>\n",
              "      <td>0.0</td>\n",
              "      <td>0.0</td>\n",
              "      <td>1.0</td>\n",
              "      <td>0.0</td>\n",
              "      <td>0.0</td>\n",
              "      <td>1.0</td>\n",
              "      <td>0.0</td>\n",
              "      <td>0.0</td>\n",
              "      <td>0.0</td>\n",
              "      <td>1.0</td>\n",
              "      <td>1.0</td>\n",
              "    </tr>\n",
              "    <tr>\n",
              "      <th>10995</th>\n",
              "      <td>0.0</td>\n",
              "      <td>0.0</td>\n",
              "      <td>0.0</td>\n",
              "      <td>0.0</td>\n",
              "      <td>1.0</td>\n",
              "      <td>1.0</td>\n",
              "      <td>0.0</td>\n",
              "      <td>0.0</td>\n",
              "      <td>1.0</td>\n",
              "      <td>0.0</td>\n",
              "      <td>0.0</td>\n",
              "    </tr>\n",
              "    <tr>\n",
              "      <th>10996</th>\n",
              "      <td>0.0</td>\n",
              "      <td>0.0</td>\n",
              "      <td>0.0</td>\n",
              "      <td>0.0</td>\n",
              "      <td>1.0</td>\n",
              "      <td>1.0</td>\n",
              "      <td>0.0</td>\n",
              "      <td>0.0</td>\n",
              "      <td>1.0</td>\n",
              "      <td>0.0</td>\n",
              "      <td>0.0</td>\n",
              "    </tr>\n",
              "    <tr>\n",
              "      <th>10997</th>\n",
              "      <td>0.0</td>\n",
              "      <td>0.0</td>\n",
              "      <td>0.0</td>\n",
              "      <td>0.0</td>\n",
              "      <td>1.0</td>\n",
              "      <td>1.0</td>\n",
              "      <td>0.0</td>\n",
              "      <td>0.0</td>\n",
              "      <td>1.0</td>\n",
              "      <td>0.0</td>\n",
              "      <td>0.0</td>\n",
              "    </tr>\n",
              "    <tr>\n",
              "      <th>11000</th>\n",
              "      <td>1.0</td>\n",
              "      <td>0.0</td>\n",
              "      <td>1.0</td>\n",
              "      <td>0.0</td>\n",
              "      <td>0.0</td>\n",
              "      <td>0.0</td>\n",
              "      <td>1.0</td>\n",
              "      <td>0.0</td>\n",
              "      <td>0.0</td>\n",
              "      <td>1.0</td>\n",
              "      <td>0.0</td>\n",
              "    </tr>\n",
              "  </tbody>\n",
              "</table>\n",
              "<p>5278 rows × 11 columns</p>\n",
              "</div>"
            ],
            "text/plain": [
              "       sex  race  ...  c_charge_degree=M  two_year_recid\n",
              "3      0.0   0.0  ...                0.0             1.0\n",
              "4      0.0   0.0  ...                0.0             1.0\n",
              "8      0.0   1.0  ...                0.0             1.0\n",
              "10     1.0   1.0  ...                1.0             0.0\n",
              "14     0.0   1.0  ...                0.0             0.0\n",
              "...    ...   ...  ...                ...             ...\n",
              "10994  0.0   0.0  ...                1.0             1.0\n",
              "10995  0.0   0.0  ...                0.0             0.0\n",
              "10996  0.0   0.0  ...                0.0             0.0\n",
              "10997  0.0   0.0  ...                0.0             0.0\n",
              "11000  1.0   0.0  ...                1.0             0.0\n",
              "\n",
              "[5278 rows x 11 columns]"
            ]
          },
          "metadata": {
            "tags": []
          },
          "execution_count": 40
        }
      ]
    },
    {
      "cell_type": "markdown",
      "metadata": {
        "id": "hXox3Yw8j1yk",
        "colab_type": "text"
      },
      "source": [
        "### Pre-processing"
      ]
    },
    {
      "cell_type": "markdown",
      "metadata": {
        "id": "ypQZ8pkcoidT",
        "colab_type": "text"
      },
      "source": [
        "#### Optimized Pre-processing"
      ]
    },
    {
      "cell_type": "markdown",
      "metadata": {
        "id": "1m79AgI5_Kjz",
        "colab_type": "text"
      },
      "source": [
        "This is one of the data pre-processing methods available in the library that allows the user to mitigate biases in the data before starting the learning process. This is based on the [paper](http://papers.nips.cc/paper/6988-optimized-pre-processing-for-discrimination-prevention) by Calmon and al."
      ]
    },
    {
      "cell_type": "code",
      "metadata": {
        "id": "qX28wqF-jnRT",
        "colab_type": "code",
        "colab": {}
      },
      "source": [
        "all_metrics =  [\"Statistical parity difference\",\n",
        "                   \"Average odds difference\",\n",
        "                   \"Equal opportunity difference\"]\n",
        "dataset_orig_train, dataset_orig_vt = dataset_orig.split([0.7], shuffle=True)\n",
        "dataset_orig_valid, dataset_orig_test = dataset_orig_vt.split([0.5], shuffle=True)\n",
        "\n",
        "optim_options = {\n",
        "        \"distortion_fun\": get_distortion_compas,\n",
        "        \"epsilon\": 0.05,\n",
        "        \"clist\": [0.99, 1.99, 2.99],\n",
        "        \"dlist\": [.1, 0.05, 0]\n",
        "}"
      ],
      "execution_count": 0,
      "outputs": []
    },
    {
      "cell_type": "code",
      "metadata": {
        "id": "VmOPARt_ok8I",
        "colab_type": "code",
        "colab": {}
      },
      "source": [
        "# Get the dataset and split into train and test\n",
        "dataset_orig_train, dataset_orig_vt = dataset_orig.split([0.7], shuffle=True)\n",
        "dataset_orig_valid, dataset_orig_test = dataset_orig_vt.split([0.5], shuffle=True)"
      ],
      "execution_count": 0,
      "outputs": []
    },
    {
      "cell_type": "code",
      "metadata": {
        "id": "-Ow1ufNzkRqK",
        "colab_type": "code",
        "colab": {
          "base_uri": "https://localhost:8080/",
          "height": 0
        },
        "outputId": "8b60fbf7-f19d-4e1a-ddcd-455fea2b74ea"
      },
      "source": [
        "# Metric for the original dataset\n",
        "metric_orig_train = BinaryLabelDatasetMetric(dataset_orig_train, \n",
        "                                             unprivileged_groups=unprivileged_races,\n",
        "                                             privileged_groups=privileged_races)\n",
        "print(\"Original training dataset:\")\n",
        "print(\"Difference in mean outcomes between unprivileged and privileged groups = %f\" % metric_orig_train.mean_difference())"
      ],
      "execution_count": 43,
      "outputs": [
        {
          "output_type": "stream",
          "text": [
            "Original training dataset:\n",
            "Difference in mean outcomes between unprivileged and privileged groups = -0.112661\n"
          ],
          "name": "stdout"
        }
      ]
    },
    {
      "cell_type": "code",
      "metadata": {
        "id": "P7mFj8Ce7HlW",
        "colab_type": "code",
        "colab": {
          "base_uri": "https://localhost:8080/",
          "height": 0
        },
        "outputId": "0a930a1f-e26f-40b1-f49c-1c43676656fb"
      },
      "source": [
        "OP = OptimPreproc(OptTools, optim_options,\n",
        "                  unprivileged_groups = unprivileged_races,\n",
        "                  privileged_groups = privileged_races)\n",
        "\n",
        "OP = OP.fit(dataset_orig_train)\n",
        "\n",
        "# Transform training data and align features\n",
        "dataset_transf_train = OP.transform(dataset_orig_train, transform_Y=True)\n",
        "dataset_transf_train = dataset_orig_train.align_datasets(dataset_transf_train)"
      ],
      "execution_count": 44,
      "outputs": [
        {
          "output_type": "stream",
          "text": [
            "/usr/local/lib/python3.6/dist-packages/aif360/algorithms/preprocessing/optim_preproc.py:68: UserWarning: Privileged and unprivileged groups specified will not be used. The protected attributes are directly specified in the data preprocessing function. The current implementation automatically adjusts for discrimination across all groups. This can be changed by changing the optimization code.\n",
            "  warn(\"Privileged and unprivileged groups specified will not be \"\n"
          ],
          "name": "stderr"
        },
        {
          "output_type": "stream",
          "text": [
            "Optimized Preprocessing: Objective converged to 0.000000\n"
          ],
          "name": "stdout"
        }
      ]
    },
    {
      "cell_type": "code",
      "metadata": {
        "id": "iJt0oFdFpAf9",
        "colab_type": "code",
        "colab": {
          "base_uri": "https://localhost:8080/",
          "height": 0
        },
        "outputId": "ac50d145-c549-4658-c798-817ae7cd47b9"
      },
      "source": [
        "metric_transf_train = BinaryLabelDatasetMetric(dataset_transf_train, \n",
        "                                         unprivileged_groups=unprivileged_races,\n",
        "                                         privileged_groups=privileged_races)\n",
        "print(\"Transformed training dataset\")\n",
        "print(\"Difference in mean outcomes between unprivileged and privileged groups = %f\" % metric_transf_train.mean_difference())"
      ],
      "execution_count": 45,
      "outputs": [
        {
          "output_type": "stream",
          "text": [
            "Transformed training dataset\n",
            "Difference in mean outcomes between unprivileged and privileged groups = -0.045080\n"
          ],
          "name": "stdout"
        }
      ]
    },
    {
      "cell_type": "code",
      "metadata": {
        "id": "mYqDwB6PK4Wa",
        "colab_type": "code",
        "colab": {
          "base_uri": "https://localhost:8080/",
          "height": 0
        },
        "outputId": "54b04daa-9c18-449c-e83d-668742d5ece7"
      },
      "source": [
        "dataset_orig_test = dataset_transf_train.align_datasets(dataset_orig_test)\n",
        "\n",
        "metric_orig_test = BinaryLabelDatasetMetric(dataset_orig_test, \n",
        "                                         unprivileged_groups=unprivileged_races,\n",
        "                                         privileged_groups=privileged_races)\n",
        "print(\"Original test dataset\")\n",
        "print(\"Difference in mean outcomes between unprivileged and privileged races = %f\" % metric_orig_test.mean_difference())"
      ],
      "execution_count": 46,
      "outputs": [
        {
          "output_type": "stream",
          "text": [
            "Original test dataset\n",
            "Difference in mean outcomes between unprivileged and privileged races = -0.193562\n"
          ],
          "name": "stdout"
        }
      ]
    },
    {
      "cell_type": "code",
      "metadata": {
        "id": "aA2-l5U4MrD4",
        "colab_type": "code",
        "colab": {
          "base_uri": "https://localhost:8080/",
          "height": 0
        },
        "outputId": "1f7c83dd-0cf4-44f2-f650-fb7efa2224f3"
      },
      "source": [
        "dataset_transf_test = OP.transform(dataset_orig_test, transform_Y = True)\n",
        "dataset_transf_test = dataset_orig_test.align_datasets(dataset_transf_test)\n",
        "\n",
        "metric_transf_test = BinaryLabelDatasetMetric(dataset_transf_test, \n",
        "                                         unprivileged_groups=unprivileged_races,\n",
        "                                         privileged_groups=privileged_races)\n",
        "print(\"Transformed test dataset\")\n",
        "print(\"Difference in mean outcomes between unprivileged and privileged races = %f\" % metric_transf_test.mean_difference())"
      ],
      "execution_count": 47,
      "outputs": [
        {
          "output_type": "stream",
          "text": [
            "Transformed test dataset\n",
            "Difference in mean outcomes between unprivileged and privileged races = -0.114978\n"
          ],
          "name": "stdout"
        }
      ]
    },
    {
      "cell_type": "markdown",
      "metadata": {
        "id": "t0i-98q2_2JD",
        "colab_type": "text"
      },
      "source": [
        "**Conclusion:** Although this approach mitigates some of the bias in the dataset, this is not the most powerful technique of them all. It only optimizes the difference in mean outcome between privileged and unprivileged groups before the training."
      ]
    },
    {
      "cell_type": "markdown",
      "metadata": {
        "id": "BZlkhRMk_QZA",
        "colab_type": "text"
      },
      "source": [
        "### In-processing\n",
        "#### Adversarial debiasing "
      ]
    },
    {
      "cell_type": "markdown",
      "metadata": {
        "id": "MpoiaxIhAkfy",
        "colab_type": "text"
      },
      "source": [
        "This is a fairly complex technique described by the [paper](https://arxiv.org/abs/1801.07593) from Zhang et al. where the optimization happens while training the classifier.\n",
        "\n",
        "The idea here is to train two classifiers: One that computes the score, and another adversary classifier that tries to predict the the sensitive group all while minimizing the loss one loss function for each."
      ]
    },
    {
      "cell_type": "code",
      "metadata": {
        "id": "gdI0WsyVQtg-",
        "colab_type": "code",
        "colab": {}
      },
      "source": [
        "dataset_orig = load_preproc_data_compas()\n",
        "dataset_orig_train, dataset_orig_test = dataset_orig.split([0.7], shuffle=True)"
      ],
      "execution_count": 0,
      "outputs": []
    },
    {
      "cell_type": "code",
      "metadata": {
        "id": "XkbJKwpuY7jA",
        "colab_type": "code",
        "colab": {
          "base_uri": "https://localhost:8080/",
          "height": 0
        },
        "outputId": "81e5425e-f995-4653-f21a-bcb2a260db4b"
      },
      "source": [
        "# Metric for the original dataset\n",
        "metric_orig_train = BinaryLabelDatasetMetric(dataset_orig_train, \n",
        "                                             unprivileged_groups=unprivileged_races,\n",
        "                                             privileged_groups=privileged_races)\n",
        "print(\"Original training dataset\")\n",
        "print(\"Train set: Difference in mean outcomes between unprivileged and privileged groups = %f\" % metric_orig_train.mean_difference())\n",
        "metric_orig_test = BinaryLabelDatasetMetric(dataset_orig_test, \n",
        "                                             unprivileged_groups=unprivileged_races,\n",
        "                                             privileged_groups=privileged_races)\n",
        "print(\"Test set: Difference in mean outcomes between unprivileged and privileged groups = %f\" % metric_orig_test.mean_difference())"
      ],
      "execution_count": 49,
      "outputs": [
        {
          "output_type": "stream",
          "text": [
            "Original training dataset\n",
            "Train set: Difference in mean outcomes between unprivileged and privileged groups = -0.138989\n",
            "Test set: Difference in mean outcomes between unprivileged and privileged groups = -0.116667\n"
          ],
          "name": "stdout"
        }
      ]
    },
    {
      "cell_type": "code",
      "metadata": {
        "id": "HjPrsju4ZDCG",
        "colab_type": "code",
        "colab": {
          "base_uri": "https://localhost:8080/",
          "height": 0
        },
        "outputId": "d1750391-34d6-44db-d2ac-70b928e46650"
      },
      "source": [
        "min_max_scaler = MaxAbsScaler()\n",
        "dataset_orig_train.features = min_max_scaler.fit_transform(dataset_orig_train.features)\n",
        "dataset_orig_test.features = min_max_scaler.transform(dataset_orig_test.features)\n",
        "metric_scaled_train = BinaryLabelDatasetMetric(dataset_orig_train, \n",
        "                             unprivileged_groups=unprivileged_races,\n",
        "                             privileged_groups=privileged_races)\n",
        "print(\"Scaled dataset - Verify that the scaling does not affect the group label statistics\")\n",
        "print(\"Train set: Difference in mean outcomes between unprivileged and privileged groups = %f\" % metric_scaled_train.mean_difference())\n",
        "metric_scaled_test = BinaryLabelDatasetMetric(dataset_orig_test, \n",
        "                             unprivileged_groups=unprivileged_races,\n",
        "                             privileged_groups=privileged_races)\n",
        "print(\"Test set: Difference in mean outcomes between unprivileged and privileged groups = %f\" % metric_scaled_test.mean_difference())"
      ],
      "execution_count": 50,
      "outputs": [
        {
          "output_type": "stream",
          "text": [
            "Scaled dataset - Verify that the scaling does not affect the group label statistics\n",
            "Train set: Difference in mean outcomes between unprivileged and privileged groups = -0.138989\n",
            "Test set: Difference in mean outcomes between unprivileged and privileged groups = -0.116667\n"
          ],
          "name": "stdout"
        }
      ]
    },
    {
      "cell_type": "markdown",
      "metadata": {
        "id": "LmPUEe6lZaft",
        "colab_type": "text"
      },
      "source": [
        "**Learn without debiasing**"
      ]
    },
    {
      "cell_type": "code",
      "metadata": {
        "id": "aq1sgshdZdRO",
        "colab_type": "code",
        "colab": {}
      },
      "source": [
        "# Load post-processing algorithm that equalizes the odds\n",
        "# Learn parameters with debias set to False\n",
        "sess = tf.Session()\n",
        "plain_model = AdversarialDebiasing(privileged_groups = privileged_races,\n",
        "                          unprivileged_groups = unprivileged_races,\n",
        "                          scope_name='plain_classifier',\n",
        "                          debias=False,\n",
        "                          sess=sess)"
      ],
      "execution_count": 0,
      "outputs": []
    },
    {
      "cell_type": "code",
      "metadata": {
        "id": "GzrJWS-rZ-8W",
        "colab_type": "code",
        "colab": {
          "base_uri": "https://localhost:8080/",
          "height": 0
        },
        "outputId": "78a52cd9-ef4f-4289-d888-8357bf993a57"
      },
      "source": [
        "plain_model.fit(dataset_orig_train)"
      ],
      "execution_count": 52,
      "outputs": [
        {
          "output_type": "stream",
          "text": [
            "WARNING:tensorflow:From /usr/local/lib/python3.6/dist-packages/aif360/algorithms/inprocessing/adversarial_debiasing.py:133: The name tf.variable_scope is deprecated. Please use tf.compat.v1.variable_scope instead.\n",
            "\n",
            "WARNING:tensorflow:From /usr/local/lib/python3.6/dist-packages/aif360/algorithms/inprocessing/adversarial_debiasing.py:137: The name tf.placeholder is deprecated. Please use tf.compat.v1.placeholder instead.\n",
            "\n",
            "WARNING:tensorflow:From /usr/local/lib/python3.6/dist-packages/aif360/algorithms/inprocessing/adversarial_debiasing.py:82: The name tf.get_variable is deprecated. Please use tf.compat.v1.get_variable instead.\n",
            "\n",
            "WARNING:tensorflow:\n",
            "The TensorFlow contrib module will not be included in TensorFlow 2.0.\n",
            "For more information, please see:\n",
            "  * https://github.com/tensorflow/community/blob/master/rfcs/20180907-contrib-sunset.md\n",
            "  * https://github.com/tensorflow/addons\n",
            "  * https://github.com/tensorflow/io (for I/O related ops)\n",
            "If you depend on functionality not listed there, please file an issue.\n",
            "\n",
            "WARNING:tensorflow:From /usr/local/lib/python3.6/dist-packages/aif360/algorithms/inprocessing/adversarial_debiasing.py:87: calling dropout (from tensorflow.python.ops.nn_ops) with keep_prob is deprecated and will be removed in a future version.\n",
            "Instructions for updating:\n",
            "Please use `rate` instead of `keep_prob`. Rate should be set to `rate = 1 - keep_prob`.\n",
            "WARNING:tensorflow:From /tensorflow-1.15.2/python3.6/tensorflow_core/python/ops/nn_impl.py:183: where (from tensorflow.python.ops.array_ops) is deprecated and will be removed in a future version.\n",
            "Instructions for updating:\n",
            "Use tf.where in 2.0, which has the same broadcast rule as np.where\n",
            "WARNING:tensorflow:From /usr/local/lib/python3.6/dist-packages/aif360/algorithms/inprocessing/adversarial_debiasing.py:155: The name tf.train.exponential_decay is deprecated. Please use tf.compat.v1.train.exponential_decay instead.\n",
            "\n",
            "WARNING:tensorflow:From /usr/local/lib/python3.6/dist-packages/aif360/algorithms/inprocessing/adversarial_debiasing.py:157: The name tf.train.AdamOptimizer is deprecated. Please use tf.compat.v1.train.AdamOptimizer instead.\n",
            "\n",
            "WARNING:tensorflow:From /usr/local/lib/python3.6/dist-packages/aif360/algorithms/inprocessing/adversarial_debiasing.py:161: The name tf.trainable_variables is deprecated. Please use tf.compat.v1.trainable_variables instead.\n",
            "\n",
            "WARNING:tensorflow:From /usr/local/lib/python3.6/dist-packages/aif360/algorithms/inprocessing/adversarial_debiasing.py:182: The name tf.global_variables_initializer is deprecated. Please use tf.compat.v1.global_variables_initializer instead.\n",
            "\n",
            "WARNING:tensorflow:From /usr/local/lib/python3.6/dist-packages/aif360/algorithms/inprocessing/adversarial_debiasing.py:183: The name tf.local_variables_initializer is deprecated. Please use tf.compat.v1.local_variables_initializer instead.\n",
            "\n",
            "epoch 0; iter: 0; batch classifier loss: 0.693906\n",
            "epoch 1; iter: 0; batch classifier loss: 0.661016\n",
            "epoch 2; iter: 0; batch classifier loss: 0.673051\n",
            "epoch 3; iter: 0; batch classifier loss: 0.624207\n",
            "epoch 4; iter: 0; batch classifier loss: 0.631822\n",
            "epoch 5; iter: 0; batch classifier loss: 0.602759\n",
            "epoch 6; iter: 0; batch classifier loss: 0.584767\n",
            "epoch 7; iter: 0; batch classifier loss: 0.610823\n",
            "epoch 8; iter: 0; batch classifier loss: 0.588946\n",
            "epoch 9; iter: 0; batch classifier loss: 0.662349\n",
            "epoch 10; iter: 0; batch classifier loss: 0.573992\n",
            "epoch 11; iter: 0; batch classifier loss: 0.591115\n",
            "epoch 12; iter: 0; batch classifier loss: 0.630531\n",
            "epoch 13; iter: 0; batch classifier loss: 0.575314\n",
            "epoch 14; iter: 0; batch classifier loss: 0.577262\n",
            "epoch 15; iter: 0; batch classifier loss: 0.635464\n",
            "epoch 16; iter: 0; batch classifier loss: 0.573171\n",
            "epoch 17; iter: 0; batch classifier loss: 0.587994\n",
            "epoch 18; iter: 0; batch classifier loss: 0.618279\n",
            "epoch 19; iter: 0; batch classifier loss: 0.645909\n",
            "epoch 20; iter: 0; batch classifier loss: 0.614538\n",
            "epoch 21; iter: 0; batch classifier loss: 0.680438\n",
            "epoch 22; iter: 0; batch classifier loss: 0.636088\n",
            "epoch 23; iter: 0; batch classifier loss: 0.584561\n",
            "epoch 24; iter: 0; batch classifier loss: 0.639641\n",
            "epoch 25; iter: 0; batch classifier loss: 0.600554\n",
            "epoch 26; iter: 0; batch classifier loss: 0.651328\n",
            "epoch 27; iter: 0; batch classifier loss: 0.636223\n",
            "epoch 28; iter: 0; batch classifier loss: 0.595807\n",
            "epoch 29; iter: 0; batch classifier loss: 0.605219\n",
            "epoch 30; iter: 0; batch classifier loss: 0.665486\n",
            "epoch 31; iter: 0; batch classifier loss: 0.613300\n",
            "epoch 32; iter: 0; batch classifier loss: 0.603968\n",
            "epoch 33; iter: 0; batch classifier loss: 0.636817\n",
            "epoch 34; iter: 0; batch classifier loss: 0.619749\n",
            "epoch 35; iter: 0; batch classifier loss: 0.645921\n",
            "epoch 36; iter: 0; batch classifier loss: 0.610518\n",
            "epoch 37; iter: 0; batch classifier loss: 0.627343\n",
            "epoch 38; iter: 0; batch classifier loss: 0.679439\n",
            "epoch 39; iter: 0; batch classifier loss: 0.587938\n",
            "epoch 40; iter: 0; batch classifier loss: 0.586653\n",
            "epoch 41; iter: 0; batch classifier loss: 0.580453\n",
            "epoch 42; iter: 0; batch classifier loss: 0.554661\n",
            "epoch 43; iter: 0; batch classifier loss: 0.613371\n",
            "epoch 44; iter: 0; batch classifier loss: 0.638182\n",
            "epoch 45; iter: 0; batch classifier loss: 0.621452\n",
            "epoch 46; iter: 0; batch classifier loss: 0.608430\n",
            "epoch 47; iter: 0; batch classifier loss: 0.657308\n",
            "epoch 48; iter: 0; batch classifier loss: 0.597055\n",
            "epoch 49; iter: 0; batch classifier loss: 0.601740\n"
          ],
          "name": "stdout"
        },
        {
          "output_type": "execute_result",
          "data": {
            "text/plain": [
              "<aif360.algorithms.inprocessing.adversarial_debiasing.AdversarialDebiasing at 0x7fe40db2b320>"
            ]
          },
          "metadata": {
            "tags": []
          },
          "execution_count": 52
        }
      ]
    },
    {
      "cell_type": "code",
      "metadata": {
        "id": "ZRZnbclKdWd5",
        "colab_type": "code",
        "colab": {}
      },
      "source": [
        "# Apply the plain model to test data\n",
        "dataset_nodebiasing_train = plain_model.predict(dataset_orig_train)\n",
        "dataset_nodebiasing_test = plain_model.predict(dataset_orig_test)"
      ],
      "execution_count": 0,
      "outputs": []
    },
    {
      "cell_type": "code",
      "metadata": {
        "id": "W8XFDx7ZdZdO",
        "colab_type": "code",
        "colab": {
          "base_uri": "https://localhost:8080/",
          "height": 0
        },
        "outputId": "7ae2cce8-026a-4962-a560-883e22e20f4b"
      },
      "source": [
        "# Metrics for the dataset from plain model (without debiasing)\n",
        "print(\"Plain model - without debiasing - dataset metrics\")\n",
        "metric_dataset_nodebiasing_train = BinaryLabelDatasetMetric(dataset_nodebiasing_train, \n",
        "                                             unprivileged_groups=unprivileged_races,\n",
        "                                             privileged_groups=privileged_races)\n",
        "\n",
        "print(\"Train set: Difference in mean outcomes between unprivileged and privileged groups = %f\" % metric_dataset_nodebiasing_train.mean_difference())\n",
        "\n",
        "metric_dataset_nodebiasing_test = BinaryLabelDatasetMetric(dataset_nodebiasing_test, \n",
        "                                             unprivileged_groups=unprivileged_races,\n",
        "                                             privileged_groups=privileged_races)\n",
        "\n",
        "print(\"Test set: Difference in mean outcomes between unprivileged and privileged groups = %f\" % metric_dataset_nodebiasing_test.mean_difference())\n",
        "\n",
        "print(\"Plain model - without debiasing - classification metrics\")\n",
        "classified_metric_nodebiasing_test = ClassificationMetric(dataset_orig_test, \n",
        "                                                 dataset_nodebiasing_test,\n",
        "                                                 unprivileged_groups=unprivileged_races,\n",
        "                                                 privileged_groups=privileged_races)\n",
        "print(\"Test set: Classification accuracy = %f\" % classified_metric_nodebiasing_test.accuracy())\n",
        "TPR = classified_metric_nodebiasing_test.true_positive_rate()\n",
        "TNR = classified_metric_nodebiasing_test.true_negative_rate()\n",
        "bal_acc_nodebiasing_test = 0.5*(TPR+TNR)\n",
        "print(\"Test set: Balanced classification accuracy = %f\" % bal_acc_nodebiasing_test)\n",
        "print(\"Test set: Disparate impact = %f\" % classified_metric_nodebiasing_test.disparate_impact())\n",
        "print(\"Test set: Equal opportunity difference = %f\" % classified_metric_nodebiasing_test.equal_opportunity_difference())\n",
        "print(\"Test set: Average odds difference = %f\" % classified_metric_nodebiasing_test.average_odds_difference())\n",
        "print(\"Test set: Theil_index = %f\" % classified_metric_nodebiasing_test.theil_index())"
      ],
      "execution_count": 54,
      "outputs": [
        {
          "output_type": "stream",
          "text": [
            "Plain model - without debiasing - dataset metrics\n",
            "Train set: Difference in mean outcomes between unprivileged and privileged groups = -0.304663\n",
            "Test set: Difference in mean outcomes between unprivileged and privileged groups = -0.269071\n",
            "Plain model - without debiasing - classification metrics\n",
            "Test set: Classification accuracy = 0.656566\n",
            "Test set: Balanced classification accuracy = 0.651965\n",
            "Test set: Disparate impact = 0.637365\n",
            "Test set: Equal opportunity difference = -0.226496\n",
            "Test set: Average odds difference = -0.238079\n",
            "Test set: Theil_index = 0.213386\n"
          ],
          "name": "stdout"
        }
      ]
    },
    {
      "cell_type": "markdown",
      "metadata": {
        "id": "DT6XeHC2dwB9",
        "colab_type": "text"
      },
      "source": [
        "**Learning with debiasing**"
      ]
    },
    {
      "cell_type": "code",
      "metadata": {
        "id": "ci_IFg4gdzUN",
        "colab_type": "code",
        "colab": {}
      },
      "source": [
        "sess.close()\n",
        "tf.reset_default_graph()\n",
        "sess = tf.Session()"
      ],
      "execution_count": 0,
      "outputs": []
    },
    {
      "cell_type": "code",
      "metadata": {
        "id": "eue2Q8OJd2Qb",
        "colab_type": "code",
        "colab": {}
      },
      "source": [
        "# Learn parameters with debias set to True\n",
        "debiased_model = AdversarialDebiasing(privileged_groups = privileged_races,\n",
        "                          unprivileged_groups = unprivileged_races,\n",
        "                          scope_name='debiased_classifier',\n",
        "                          debias=True,\n",
        "                          sess=sess)"
      ],
      "execution_count": 0,
      "outputs": []
    },
    {
      "cell_type": "code",
      "metadata": {
        "id": "Q1J9OHLCd8GY",
        "colab_type": "code",
        "colab": {
          "base_uri": "https://localhost:8080/",
          "height": 0
        },
        "outputId": "0b5eafb7-1bd9-4b89-d290-a9b9cac352c5"
      },
      "source": [
        "debiased_model.fit(dataset_orig_train)"
      ],
      "execution_count": 57,
      "outputs": [
        {
          "output_type": "stream",
          "text": [
            "epoch 0; iter: 0; batch classifier loss: 0.700128; batch adversarial loss: 0.788289\n",
            "epoch 1; iter: 0; batch classifier loss: 0.631376; batch adversarial loss: 0.807773\n",
            "epoch 2; iter: 0; batch classifier loss: 0.613992; batch adversarial loss: 0.840894\n",
            "epoch 3; iter: 0; batch classifier loss: 0.641198; batch adversarial loss: 0.807954\n",
            "epoch 4; iter: 0; batch classifier loss: 0.646652; batch adversarial loss: 0.819806\n",
            "epoch 5; iter: 0; batch classifier loss: 0.671288; batch adversarial loss: 0.857024\n",
            "epoch 6; iter: 0; batch classifier loss: 0.717095; batch adversarial loss: 0.876232\n",
            "epoch 7; iter: 0; batch classifier loss: 0.762086; batch adversarial loss: 0.824050\n",
            "epoch 8; iter: 0; batch classifier loss: 0.740915; batch adversarial loss: 0.832519\n",
            "epoch 9; iter: 0; batch classifier loss: 0.670616; batch adversarial loss: 0.829632\n",
            "epoch 10; iter: 0; batch classifier loss: 0.762637; batch adversarial loss: 0.803002\n",
            "epoch 11; iter: 0; batch classifier loss: 0.835775; batch adversarial loss: 0.787572\n",
            "epoch 12; iter: 0; batch classifier loss: 0.746754; batch adversarial loss: 0.779543\n",
            "epoch 13; iter: 0; batch classifier loss: 0.793605; batch adversarial loss: 0.771534\n",
            "epoch 14; iter: 0; batch classifier loss: 0.723800; batch adversarial loss: 0.755391\n",
            "epoch 15; iter: 0; batch classifier loss: 0.894341; batch adversarial loss: 0.739756\n",
            "epoch 16; iter: 0; batch classifier loss: 0.823124; batch adversarial loss: 0.731055\n",
            "epoch 17; iter: 0; batch classifier loss: 0.848119; batch adversarial loss: 0.710384\n",
            "epoch 18; iter: 0; batch classifier loss: 0.867449; batch adversarial loss: 0.722032\n",
            "epoch 19; iter: 0; batch classifier loss: 0.867557; batch adversarial loss: 0.693737\n",
            "epoch 20; iter: 0; batch classifier loss: 0.832357; batch adversarial loss: 0.690946\n",
            "epoch 21; iter: 0; batch classifier loss: 0.875991; batch adversarial loss: 0.683425\n",
            "epoch 22; iter: 0; batch classifier loss: 0.913478; batch adversarial loss: 0.689683\n",
            "epoch 23; iter: 0; batch classifier loss: 0.816677; batch adversarial loss: 0.670075\n",
            "epoch 24; iter: 0; batch classifier loss: 0.634656; batch adversarial loss: 0.670997\n",
            "epoch 25; iter: 0; batch classifier loss: 0.616750; batch adversarial loss: 0.658965\n",
            "epoch 26; iter: 0; batch classifier loss: 0.637830; batch adversarial loss: 0.670583\n",
            "epoch 27; iter: 0; batch classifier loss: 0.635293; batch adversarial loss: 0.652936\n",
            "epoch 28; iter: 0; batch classifier loss: 0.666034; batch adversarial loss: 0.663757\n",
            "epoch 29; iter: 0; batch classifier loss: 0.640922; batch adversarial loss: 0.682293\n",
            "epoch 30; iter: 0; batch classifier loss: 0.597548; batch adversarial loss: 0.664730\n",
            "epoch 31; iter: 0; batch classifier loss: 0.554944; batch adversarial loss: 0.670464\n",
            "epoch 32; iter: 0; batch classifier loss: 0.617525; batch adversarial loss: 0.696680\n",
            "epoch 33; iter: 0; batch classifier loss: 0.640960; batch adversarial loss: 0.675026\n",
            "epoch 34; iter: 0; batch classifier loss: 0.682765; batch adversarial loss: 0.684221\n",
            "epoch 35; iter: 0; batch classifier loss: 0.567968; batch adversarial loss: 0.688434\n",
            "epoch 36; iter: 0; batch classifier loss: 0.612913; batch adversarial loss: 0.662498\n",
            "epoch 37; iter: 0; batch classifier loss: 0.585809; batch adversarial loss: 0.668346\n",
            "epoch 38; iter: 0; batch classifier loss: 0.620716; batch adversarial loss: 0.637551\n",
            "epoch 39; iter: 0; batch classifier loss: 0.652796; batch adversarial loss: 0.682968\n",
            "epoch 40; iter: 0; batch classifier loss: 0.634147; batch adversarial loss: 0.673522\n",
            "epoch 41; iter: 0; batch classifier loss: 0.573676; batch adversarial loss: 0.691266\n",
            "epoch 42; iter: 0; batch classifier loss: 0.573053; batch adversarial loss: 0.674048\n",
            "epoch 43; iter: 0; batch classifier loss: 0.574881; batch adversarial loss: 0.669031\n",
            "epoch 44; iter: 0; batch classifier loss: 0.628843; batch adversarial loss: 0.667134\n",
            "epoch 45; iter: 0; batch classifier loss: 0.683106; batch adversarial loss: 0.668036\n",
            "epoch 46; iter: 0; batch classifier loss: 0.649773; batch adversarial loss: 0.666753\n",
            "epoch 47; iter: 0; batch classifier loss: 0.647562; batch adversarial loss: 0.654135\n",
            "epoch 48; iter: 0; batch classifier loss: 0.664654; batch adversarial loss: 0.657860\n",
            "epoch 49; iter: 0; batch classifier loss: 0.628201; batch adversarial loss: 0.670338\n"
          ],
          "name": "stdout"
        },
        {
          "output_type": "execute_result",
          "data": {
            "text/plain": [
              "<aif360.algorithms.inprocessing.adversarial_debiasing.AdversarialDebiasing at 0x7fe4075e7ef0>"
            ]
          },
          "metadata": {
            "tags": []
          },
          "execution_count": 57
        }
      ]
    },
    {
      "cell_type": "code",
      "metadata": {
        "id": "ZqjieLsZeCgM",
        "colab_type": "code",
        "colab": {}
      },
      "source": [
        "# Apply the plain model to test data\n",
        "dataset_debiasing_train = debiased_model.predict(dataset_orig_train)\n",
        "dataset_debiasing_test = debiased_model.predict(dataset_orig_test)"
      ],
      "execution_count": 0,
      "outputs": []
    },
    {
      "cell_type": "code",
      "metadata": {
        "id": "8WhbE5CAeJLz",
        "colab_type": "code",
        "colab": {
          "base_uri": "https://localhost:8080/",
          "height": 0
        },
        "outputId": "b0dc9d2f-512b-4700-e4af-f96d00d17c52"
      },
      "source": [
        "# Metrics for the dataset from plain model (without debiasing)\n",
        "print(\"Plain model - without debiasing - dataset metrics\")\n",
        "print(\"Train set: Difference in mean outcomes between unprivileged and privileged groups = %f\" % metric_dataset_nodebiasing_train.mean_difference())\n",
        "print(\"Test set: Difference in mean outcomes between unprivileged and privileged groups = %f\" % metric_dataset_nodebiasing_test.mean_difference())\n",
        "\n",
        "# Metrics for the dataset from model with debiasing\n",
        "print(\"\\nModel - with debiasing - dataset metrics\")\n",
        "metric_dataset_debiasing_train = BinaryLabelDatasetMetric(dataset_debiasing_train, \n",
        "                                             unprivileged_groups=unprivileged_races,\n",
        "                                             privileged_groups=privileged_races)\n",
        "\n",
        "print(\"Train set: Difference in mean outcomes between unprivileged and privileged groups = %f\" % metric_dataset_debiasing_train.mean_difference())\n",
        "\n",
        "metric_dataset_debiasing_test = BinaryLabelDatasetMetric(dataset_debiasing_test, \n",
        "                                             unprivileged_groups=unprivileged_races,\n",
        "                                             privileged_groups=privileged_races)\n",
        "\n",
        "print(\"Test set: Difference in mean outcomes between unprivileged and privileged groups = %f\" % metric_dataset_debiasing_test.mean_difference())\n",
        "\n",
        "\n",
        "\n",
        "print(\"\\nPlain model - without debiasing - classification metrics\")\n",
        "print(\"Test set: Classification accuracy = %f\" % classified_metric_nodebiasing_test.accuracy())\n",
        "TPR = classified_metric_nodebiasing_test.true_positive_rate()\n",
        "TNR = classified_metric_nodebiasing_test.true_negative_rate()\n",
        "bal_acc_nodebiasing_test = 0.5*(TPR+TNR)\n",
        "print(\"Test set: Balanced classification accuracy = %f\" % bal_acc_nodebiasing_test)\n",
        "print(\"Test set: Disparate impact = %f\" % classified_metric_nodebiasing_test.disparate_impact())\n",
        "print(\"Test set: Equal opportunity difference = %f\" % classified_metric_nodebiasing_test.equal_opportunity_difference())\n",
        "print(\"Test set: Average odds difference = %f\" % classified_metric_nodebiasing_test.average_odds_difference())\n",
        "print(\"Test set: Theil_index = %f\" % classified_metric_nodebiasing_test.theil_index())\n",
        "\n",
        "\n",
        "\n",
        "print(\"\\nModel - with debiasing - classification metrics\")\n",
        "classified_metric_debiasing_test = ClassificationMetric(dataset_orig_test, \n",
        "                                                 dataset_debiasing_test,\n",
        "                                                 unprivileged_groups=unprivileged_races,\n",
        "                                                 privileged_groups=privileged_races)\n",
        "print(\"Test set: Classification accuracy = %f\" % classified_metric_debiasing_test.accuracy())\n",
        "TPR = classified_metric_debiasing_test.true_positive_rate()\n",
        "TNR = classified_metric_debiasing_test.true_negative_rate()\n",
        "bal_acc_debiasing_test = 0.5*(TPR+TNR)\n",
        "print(\"Test set: Balanced classification accuracy = %f\" % bal_acc_debiasing_test)\n",
        "print(\"Test set: Disparate impact = %f\" % classified_metric_debiasing_test.disparate_impact())\n",
        "print(\"Test set: Equal opportunity difference = %f\" % classified_metric_debiasing_test.equal_opportunity_difference())\n",
        "print(\"Test set: Average odds difference = %f\" % classified_metric_debiasing_test.average_odds_difference())\n",
        "print(\"Test set: Theil_index = %f\" % classified_metric_debiasing_test.theil_index())"
      ],
      "execution_count": 59,
      "outputs": [
        {
          "output_type": "stream",
          "text": [
            "Plain model - without debiasing - dataset metrics\n",
            "Train set: Difference in mean outcomes between unprivileged and privileged groups = -0.304663\n",
            "Test set: Difference in mean outcomes between unprivileged and privileged groups = -0.269071\n",
            "\n",
            "Model - with debiasing - dataset metrics\n",
            "Train set: Difference in mean outcomes between unprivileged and privileged groups = -0.305108\n",
            "Test set: Difference in mean outcomes between unprivileged and privileged groups = -0.274519\n",
            "\n",
            "Plain model - without debiasing - classification metrics\n",
            "Test set: Classification accuracy = 0.656566\n",
            "Test set: Balanced classification accuracy = 0.651965\n",
            "Test set: Disparate impact = 0.637365\n",
            "Test set: Equal opportunity difference = -0.226496\n",
            "Test set: Average odds difference = -0.238079\n",
            "Test set: Theil_index = 0.213386\n",
            "\n",
            "Model - with debiasing - classification metrics\n",
            "Test set: Classification accuracy = 0.654040\n",
            "Test set: Balanced classification accuracy = 0.649004\n",
            "Test set: Disparate impact = 0.634755\n",
            "Test set: Equal opportunity difference = -0.220085\n",
            "Test set: Average odds difference = -0.246004\n",
            "Test set: Theil_index = 0.211642\n"
          ],
          "name": "stdout"
        }
      ]
    },
    {
      "cell_type": "markdown",
      "metadata": {
        "id": "iVa98gLBBP7v",
        "colab_type": "text"
      },
      "source": [
        "**Conclusion:** This model produces better metric results all overall with a better desparate impact (independence) and better equal opportunity difference (separation)."
      ]
    },
    {
      "cell_type": "markdown",
      "metadata": {
        "id": "RQpWdIZir3M0",
        "colab_type": "text"
      },
      "source": [
        "### Post-Processing"
      ]
    },
    {
      "cell_type": "markdown",
      "metadata": {
        "id": "4-Q2CtDm_YoH",
        "colab_type": "text"
      },
      "source": [
        "#### Reject Option Classification"
      ]
    },
    {
      "cell_type": "markdown",
      "metadata": {
        "id": "rtnU6_dpEGg9",
        "colab_type": "text"
      },
      "source": [
        "This is a fairly complex technique described by the [paper](https://ieeexplore.ieee.org/document/6413831) from Kamiran et al. where the optimization happens after training the classifier, much like we did earlier.\n",
        "\n",
        "The idea behind thsi classifier is to look at the classification score of each individual using a certain doubt threshold `d`. If the score of an individual is really close to 0 or 1, then their classification remains the same. However, if their score is close to the classification threshold `t` (+/- `d`) then we reject the classification and instead, we look at sensitive group this individual belongs to. If the group is unprvivilged, then we classify the individual a favorable classification. Otherwise, we classify them an unfavorable classification. Here, we choose `Equal opportunity difference` to be the metric that we want to optimize against as we want to optimize separation. "
      ]
    },
    {
      "cell_type": "code",
      "metadata": {
        "id": "AL36Zxjo_Z4u",
        "colab_type": "code",
        "colab": {}
      },
      "source": [
        "# Metric used (should be one of allowed_metrics)\n",
        "metric_name = \"Equal opportunity difference\"\n",
        "\n",
        "# Upper and lower bound on the fairness metric used\n",
        "metric_ub = 0.05\n",
        "metric_lb = -0.05"
      ],
      "execution_count": 0,
      "outputs": []
    },
    {
      "cell_type": "code",
      "metadata": {
        "id": "LGMaf-bs_4bO",
        "colab_type": "code",
        "colab": {
          "base_uri": "https://localhost:8080/",
          "height": 52
        },
        "outputId": "819e2498-21cd-48f2-ab38-c980400af025"
      },
      "source": [
        "# Metric for the original dataset\n",
        "metric_orig_train = BinaryLabelDatasetMetric(dataset_orig_train, \n",
        "                                             unprivileged_groups=unprivileged_races,\n",
        "                                             privileged_groups=privileged_races)\n",
        "print(\"Original training dataset\")\n",
        "print(\"Difference in mean outcomes between unprivileged and privileged groups = %f\" % metric_orig_train.mean_difference())"
      ],
      "execution_count": 61,
      "outputs": [
        {
          "output_type": "stream",
          "text": [
            "Original training dataset\n",
            "Difference in mean outcomes between unprivileged and privileged groups = -0.138989\n"
          ],
          "name": "stdout"
        }
      ]
    },
    {
      "cell_type": "code",
      "metadata": {
        "id": "8QEmfy9OAHi5",
        "colab_type": "code",
        "colab": {}
      },
      "source": [
        "# Logistic regression classifier and predictions\n",
        "scale_orig = StandardScaler()\n",
        "X_train = scale_orig.fit_transform(dataset_orig_train.features)\n",
        "y_train = dataset_orig_train.labels.ravel()\n",
        "\n",
        "lmod = LogisticRegression()\n",
        "lmod.fit(X_train, y_train)\n",
        "y_train_pred = lmod.predict(X_train)\n",
        "\n",
        "# positive class index\n",
        "pos_ind = np.where(lmod.classes_ == dataset_orig_train.favorable_label)[0][0]\n",
        "\n",
        "dataset_orig_train_pred = dataset_orig_train.copy(deepcopy=True)\n",
        "dataset_orig_train_pred.labels = y_train_pred"
      ],
      "execution_count": 0,
      "outputs": []
    },
    {
      "cell_type": "code",
      "metadata": {
        "id": "a41K6VYyAJQ8",
        "colab_type": "code",
        "colab": {}
      },
      "source": [
        "dataset_orig_valid_pred = dataset_orig_valid.copy(deepcopy=True)\n",
        "X_valid = scale_orig.transform(dataset_orig_valid_pred.features)\n",
        "y_valid = dataset_orig_valid_pred.labels\n",
        "dataset_orig_valid_pred.scores = lmod.predict_proba(X_valid)[:,pos_ind].reshape(-1,1)\n",
        "\n",
        "dataset_orig_test_pred = dataset_orig_test.copy(deepcopy=True)\n",
        "X_test = scale_orig.transform(dataset_orig_test_pred.features)\n",
        "y_test = dataset_orig_test_pred.labels\n",
        "dataset_orig_test_pred.scores = lmod.predict_proba(X_test)[:,pos_ind].reshape(-1,1)"
      ],
      "execution_count": 0,
      "outputs": []
    },
    {
      "cell_type": "code",
      "metadata": {
        "id": "DReWfRGsASoH",
        "colab_type": "code",
        "colab": {
          "base_uri": "https://localhost:8080/",
          "height": 52
        },
        "outputId": "71aa1e95-c444-407f-fa33-32a1e672057e"
      },
      "source": [
        "num_thresh = 100\n",
        "ba_arr = np.zeros(num_thresh)\n",
        "class_thresh_arr = np.linspace(0.01, 0.99, num_thresh)\n",
        "for idx, class_thresh in enumerate(class_thresh_arr):\n",
        "    \n",
        "    fav_inds = dataset_orig_valid_pred.scores > class_thresh\n",
        "    dataset_orig_valid_pred.labels[fav_inds] = dataset_orig_valid_pred.favorable_label\n",
        "    dataset_orig_valid_pred.labels[~fav_inds] = dataset_orig_valid_pred.unfavorable_label\n",
        "    \n",
        "    classified_metric_orig_valid = ClassificationMetric(dataset_orig_valid,\n",
        "                                             dataset_orig_valid_pred, \n",
        "                                             unprivileged_groups=unprivileged_races,\n",
        "                                             privileged_groups=privileged_races)\n",
        "    \n",
        "    ba_arr[idx] = 0.5*(classified_metric_orig_valid.true_positive_rate()\\\n",
        "                       +classified_metric_orig_valid.true_negative_rate())\n",
        "\n",
        "best_ind = np.where(ba_arr == np.max(ba_arr))[0][0]\n",
        "best_class_thresh = class_thresh_arr[best_ind]\n",
        "\n",
        "print(\"Best balanced accuracy (no fairness constraints) = %.4f\" % np.max(ba_arr))\n",
        "print(\"Optimal classification threshold (no fairness constraints) = %.4f\" % best_class_thresh)\n",
        "\n"
      ],
      "execution_count": 64,
      "outputs": [
        {
          "output_type": "stream",
          "text": [
            "Best balanced accuracy (no fairness constraints) = 0.6829\n",
            "Optimal classification threshold (no fairness constraints) = 0.4555\n"
          ],
          "name": "stdout"
        }
      ]
    },
    {
      "cell_type": "code",
      "metadata": {
        "id": "TPaW7bFnAZdU",
        "colab_type": "code",
        "colab": {}
      },
      "source": [
        "ROC = RejectOptionClassification(unprivileged_groups=unprivileged_races, \n",
        "                                 privileged_groups=privileged_races, \n",
        "                                 low_class_thresh=0.01, high_class_thresh=0.99,\n",
        "                                  num_class_thresh=100, num_ROC_margin=50,\n",
        "                                  metric_name=metric_name,\n",
        "                                  metric_ub=metric_ub, metric_lb=metric_lb)\n",
        "ROC = ROC.fit(dataset_orig_valid, dataset_orig_valid_pred)"
      ],
      "execution_count": 0,
      "outputs": []
    },
    {
      "cell_type": "code",
      "metadata": {
        "id": "aaatGUCKAnrt",
        "colab_type": "code",
        "colab": {
          "base_uri": "https://localhost:8080/",
          "height": 52
        },
        "outputId": "5bec565e-e0fe-41bc-fe78-9b2be517c306"
      },
      "source": [
        "print(\"Optimal classification threshold (with fairness constraints) = %.4f\" % ROC.classification_threshold)\n",
        "print(\"Optimal ROC margin = %.4f\" % ROC.ROC_margin)"
      ],
      "execution_count": 66,
      "outputs": [
        {
          "output_type": "stream",
          "text": [
            "Optimal classification threshold (with fairness constraints) = 0.5049\n",
            "Optimal ROC margin = 0.0707\n"
          ],
          "name": "stdout"
        }
      ]
    },
    {
      "cell_type": "code",
      "metadata": {
        "id": "BKV-1n4aA3Uo",
        "colab_type": "code",
        "colab": {
          "base_uri": "https://localhost:8080/",
          "height": 156
        },
        "outputId": "a6c60f8e-fe58-40bd-f326-c82feac4ac97"
      },
      "source": [
        "# Metrics for the validation set\n",
        "fav_inds = dataset_orig_valid_pred.scores > best_class_thresh\n",
        "dataset_orig_valid_pred.labels[fav_inds] = dataset_orig_valid_pred.favorable_label\n",
        "dataset_orig_valid_pred.labels[~fav_inds] = dataset_orig_valid_pred.unfavorable_label\n",
        "\n",
        "print(\"Validation set\")\n",
        "print(\"Raw predictions - No fairness constraints, only maximizing balanced accuracy\")\n",
        "\n",
        "metric_valid_bef = compute_metrics(dataset_orig_valid, dataset_orig_valid_pred, \n",
        "                unprivileged_races, privileged_races)\n"
      ],
      "execution_count": 67,
      "outputs": [
        {
          "output_type": "stream",
          "text": [
            "Validation set\n",
            "Raw predictions - No fairness constraints, only maximizing balanced accuracy\n",
            "Balanced accuracy = 0.6829\n",
            "Statistical parity difference = -0.2530\n",
            "Disparate impact = 0.6645\n",
            "Average odds difference = -0.2009\n",
            "Equal opportunity difference = -0.1775\n",
            "Theil index = 0.1762\n"
          ],
          "name": "stdout"
        }
      ]
    },
    {
      "cell_type": "code",
      "metadata": {
        "id": "EApG2RXIBChI",
        "colab_type": "code",
        "colab": {
          "base_uri": "https://localhost:8080/",
          "height": 156
        },
        "outputId": "22141d24-dc65-408b-8d47-be08c63679dd"
      },
      "source": [
        "# Transform the validation set\n",
        "dataset_transf_valid_pred = ROC.predict(dataset_orig_valid_pred)\n",
        "print(\"Validation set\")\n",
        "print(\"Transformed predictions - With fairness constraints\")\n",
        "metric_valid_aft = compute_metrics(dataset_orig_valid, dataset_transf_valid_pred, \n",
        "                unprivileged_races, privileged_races)"
      ],
      "execution_count": 68,
      "outputs": [
        {
          "output_type": "stream",
          "text": [
            "Validation set\n",
            "Transformed predictions - With fairness constraints\n",
            "Balanced accuracy = 0.6662\n",
            "Statistical parity difference = -0.0673\n",
            "Disparate impact = 0.8858\n",
            "Average odds difference = -0.0185\n",
            "Equal opportunity difference = 0.0267\n",
            "Theil index = 0.2160\n"
          ],
          "name": "stdout"
        }
      ]
    },
    {
      "cell_type": "code",
      "metadata": {
        "id": "vkVmiVw0BljZ",
        "colab_type": "code",
        "colab": {
          "base_uri": "https://localhost:8080/",
          "height": 156
        },
        "outputId": "20e00df4-605a-4c16-e5f7-295428def7f6"
      },
      "source": [
        "# Metrics for the test set\n",
        "fav_inds = dataset_orig_test_pred.scores > best_class_thresh\n",
        "dataset_orig_test_pred.labels[fav_inds] = dataset_orig_test_pred.favorable_label\n",
        "dataset_orig_test_pred.labels[~fav_inds] = dataset_orig_test_pred.unfavorable_label\n",
        "\n",
        "print(\"Test set\")\n",
        "print(\"Raw predictions - No fairness constraints, only maximizing balanced accuracy\")\n",
        "\n",
        "metric_test_bef = compute_metrics(dataset_orig_test, dataset_orig_test_pred, \n",
        "                unprivileged_races, privileged_races)"
      ],
      "execution_count": 69,
      "outputs": [
        {
          "output_type": "stream",
          "text": [
            "Test set\n",
            "Raw predictions - No fairness constraints, only maximizing balanced accuracy\n",
            "Balanced accuracy = 0.6598\n",
            "Statistical parity difference = -0.2128\n",
            "Disparate impact = 0.7132\n",
            "Average odds difference = -0.1814\n",
            "Equal opportunity difference = -0.1517\n",
            "Theil index = 0.1886\n"
          ],
          "name": "stdout"
        }
      ]
    },
    {
      "cell_type": "code",
      "metadata": {
        "id": "HB7v8f14Fj0o",
        "colab_type": "code",
        "colab": {
          "base_uri": "https://localhost:8080/",
          "height": 156
        },
        "outputId": "015b769c-4a18-4874-9da2-662970343029"
      },
      "source": [
        "# Metrics for the transformed test set\n",
        "dataset_transf_test_pred = ROC.predict(dataset_orig_test_pred)\n",
        "\n",
        "print(\"Test set\")\n",
        "print(\"Transformed predictions - With fairness constraints\")\n",
        "metric_test_aft = compute_metrics(dataset_orig_test, dataset_transf_test_pred, \n",
        "                unprivileged_races, privileged_races)"
      ],
      "execution_count": 70,
      "outputs": [
        {
          "output_type": "stream",
          "text": [
            "Test set\n",
            "Transformed predictions - With fairness constraints\n",
            "Balanced accuracy = 0.6548\n",
            "Statistical parity difference = -0.0125\n",
            "Disparate impact = 0.9778\n",
            "Average odds difference = 0.0242\n",
            "Equal opportunity difference = 0.0224\n",
            "Theil index = 0.2255\n"
          ],
          "name": "stdout"
        }
      ]
    },
    {
      "cell_type": "markdown",
      "metadata": {
        "id": "b0mvtMQyHpIg",
        "colab_type": "text"
      },
      "source": [
        "**Conclusion:** The Reject Option appears to be a solid choice for the data we have. This method is capable of optimizing the `Equal opportunity difference` and therefore enforce separation while optimizing all other metrics significantly."
      ]
    },
    {
      "cell_type": "markdown",
      "metadata": {
        "id": "SeEL8exIIy8w",
        "colab_type": "text"
      },
      "source": [
        "#### Conclusion\n",
        "In this subsection, we explored 3 different fairness achievement techniques using AIF360 in three stages all of the machine learning pipeline: before training, while training, and after training.\n",
        "\n",
        "We observed that for the problem at hand, Reject Option Classification seems to work well. It also corresponds to the idea of giving the unpriviliged a second chance when they their score is really close to the threshold and therefore we decided to use it to build our fair classifier."
      ]
    },
    {
      "cell_type": "markdown",
      "metadata": {
        "id": "ZGnvspvBkLj2",
        "colab_type": "text"
      },
      "source": [
        "## Fair Classifier"
      ]
    },
    {
      "cell_type": "markdown",
      "metadata": {
        "id": "for8a5yVKDdp",
        "colab_type": "text"
      },
      "source": [
        "In this final section, we attempt to create a final universal classifier that is fair to defendants regardless of their sex or race.\n",
        "\n",
        "To do that, we attempt to use two Reject Option Classifiers for each sensitive attribute and combine classification results of both at the end."
      ]
    },
    {
      "cell_type": "code",
      "metadata": {
        "id": "z94auZgtkPR5",
        "colab_type": "code",
        "colab": {}
      },
      "source": [
        "# Get the dataset and split into train and test\n",
        "dataset_orig_train, dataset_orig_vt = dataset_orig.split([0.7], shuffle=True)\n",
        "dataset_orig_valid, dataset_orig_test = dataset_orig_vt.split([0.5], shuffle=True)\n",
        "\n",
        "# Metric used (should be one of allowed_metrics)\n",
        "metric_name = \"Equal opportunity difference\"\n",
        "\n",
        "# Upper and lower bound on the fairness metric used\n",
        "metric_ub = 0.05\n",
        "metric_lb = -0.05"
      ],
      "execution_count": 0,
      "outputs": []
    },
    {
      "cell_type": "code",
      "metadata": {
        "id": "4pmFN7Gdp62C",
        "colab_type": "code",
        "colab": {
          "base_uri": "https://localhost:8080/",
          "height": 86
        },
        "outputId": "9393797e-86ae-48e1-c6cd-ce12351b867b"
      },
      "source": [
        "# Metric for the original dataset\n",
        "metric_orig_train = BinaryLabelDatasetMetric(dataset_orig_train, \n",
        "                                             unprivileged_groups=unprivileged_races,\n",
        "                                             privileged_groups=privileged_races)\n",
        "print(\"Original training dataset\")\n",
        "print(\"Difference in mean outcomes between unprivileged and privileged groups (race) = %f\" % metric_orig_train.mean_difference())\n",
        "\n",
        "metric_orig_train = BinaryLabelDatasetMetric(dataset_orig_train, \n",
        "                                             unprivileged_groups=unprivileged_sex,\n",
        "                                             privileged_groups=privileged_sex)\n",
        "print(\"Original training dataset\")\n",
        "print(\"Difference in mean outcomes between unprivileged and privileged groups (sex) = %f\" % metric_orig_train.mean_difference())"
      ],
      "execution_count": 72,
      "outputs": [
        {
          "output_type": "stream",
          "text": [
            "Original training dataset\n",
            "Difference in mean outcomes between unprivileged and privileged groups (race) = -0.128830\n",
            "Original training dataset\n",
            "Difference in mean outcomes between unprivileged and privileged groups (sex) = -0.143673\n"
          ],
          "name": "stdout"
        }
      ]
    },
    {
      "cell_type": "code",
      "metadata": {
        "id": "UxKIZzd9qCA7",
        "colab_type": "code",
        "colab": {}
      },
      "source": [
        "# Logistic regression classifier and predictions\n",
        "scale_orig = StandardScaler()\n",
        "X_train = scale_orig.fit_transform(dataset_orig_train.features)\n",
        "y_train = dataset_orig_train.labels.ravel()\n",
        "\n",
        "lmod = LogisticRegression()\n",
        "lmod.fit(X_train, y_train)\n",
        "y_train_pred = lmod.predict(X_train)\n",
        "\n",
        "# positive class index\n",
        "pos_ind = np.where(lmod.classes_ == dataset_orig_train.favorable_label)[0][0]\n",
        "\n",
        "dataset_orig_train_pred = dataset_orig_train.copy(deepcopy=True)\n",
        "dataset_orig_train_pred.labels = y_train_pred"
      ],
      "execution_count": 0,
      "outputs": []
    },
    {
      "cell_type": "code",
      "metadata": {
        "id": "L0wpX92tqHGq",
        "colab_type": "code",
        "colab": {}
      },
      "source": [
        "dataset_orig_valid_pred = dataset_orig_valid.copy(deepcopy=True)\n",
        "X_valid = scale_orig.transform(dataset_orig_valid_pred.features)\n",
        "y_valid = dataset_orig_valid_pred.labels\n",
        "dataset_orig_valid_pred.scores = lmod.predict_proba(X_valid)[:,pos_ind].reshape(-1,1)\n",
        "\n",
        "dataset_orig_test_pred = dataset_orig_test.copy(deepcopy=True)\n",
        "X_test = scale_orig.transform(dataset_orig_test_pred.features)\n",
        "y_test = dataset_orig_test_pred.labels\n",
        "dataset_orig_test_pred.scores = lmod.predict_proba(X_test)[:,pos_ind].reshape(-1,1)"
      ],
      "execution_count": 0,
      "outputs": []
    },
    {
      "cell_type": "code",
      "metadata": {
        "id": "YDZxe8MfqQry",
        "colab_type": "code",
        "colab": {
          "base_uri": "https://localhost:8080/",
          "height": 52
        },
        "outputId": "c63bb9f5-6585-404a-d99a-7d0da887980c"
      },
      "source": [
        "num_thresh = 100\n",
        "ba_arr = np.zeros(num_thresh)\n",
        "class_thresh_arr = np.linspace(0.01, 0.99, num_thresh)\n",
        "for idx, class_thresh in enumerate(class_thresh_arr):\n",
        "    \n",
        "    fav_inds = dataset_orig_valid_pred.scores > class_thresh\n",
        "    dataset_orig_valid_pred.labels[fav_inds] = dataset_orig_valid_pred.favorable_label\n",
        "    dataset_orig_valid_pred.labels[~fav_inds] = dataset_orig_valid_pred.unfavorable_label\n",
        "    \n",
        "    classified_metric_orig_valid = ClassificationMetric(dataset_orig_valid,\n",
        "                                             dataset_orig_valid_pred, \n",
        "                                             unprivileged_groups=unprivileged_races,\n",
        "                                             privileged_groups=privileged_races)\n",
        "    \n",
        "    ba_arr[idx] = 0.5*(classified_metric_orig_valid.true_positive_rate()\\\n",
        "                       +classified_metric_orig_valid.true_negative_rate())\n",
        "\n",
        "best_ind = np.where(ba_arr == np.max(ba_arr))[0][0]\n",
        "best_class_thresh = class_thresh_arr[best_ind]\n",
        "\n",
        "print(\"Best balanced accuracy (no fairness constraints) = %.4f\" % np.max(ba_arr))\n",
        "print(\"Optimal classification threshold (no fairness constraints) = %.4f\" % best_class_thresh)"
      ],
      "execution_count": 75,
      "outputs": [
        {
          "output_type": "stream",
          "text": [
            "Best balanced accuracy (no fairness constraints) = 0.6610\n",
            "Optimal classification threshold (no fairness constraints) = 0.4654\n"
          ],
          "name": "stdout"
        }
      ]
    },
    {
      "cell_type": "code",
      "metadata": {
        "id": "Knhd2u2IqVTB",
        "colab_type": "code",
        "colab": {}
      },
      "source": [
        "ROC_sex = RejectOptionClassification(unprivileged_groups=unprivileged_sex, \n",
        "                                 privileged_groups=privileged_sex, \n",
        "                                 low_class_thresh=0.01, high_class_thresh=0.99,\n",
        "                                  num_class_thresh=100, num_ROC_margin=50,\n",
        "                                  metric_name=metric_name,\n",
        "                                  metric_ub=metric_ub, metric_lb=metric_lb)\n",
        "\n",
        "ROC_race = RejectOptionClassification(unprivileged_groups=unprivileged_races, \n",
        "                                 privileged_groups=privileged_races, \n",
        "                                 low_class_thresh=0.01, high_class_thresh=0.99,\n",
        "                                  num_class_thresh=100, num_ROC_margin=50,\n",
        "                                  metric_name=metric_name,\n",
        "                                  metric_ub=metric_ub, metric_lb=metric_lb)\n",
        "\n",
        "\n",
        "ROC_sex = ROC_sex.fit(dataset_orig_valid, dataset_orig_valid_pred)\n",
        "ROC_race = ROC_race.fit(dataset_orig_valid, dataset_orig_valid_pred)"
      ],
      "execution_count": 0,
      "outputs": []
    },
    {
      "cell_type": "code",
      "metadata": {
        "id": "Dmalo4t_qnht",
        "colab_type": "code",
        "colab": {
          "base_uri": "https://localhost:8080/",
          "height": 86
        },
        "outputId": "0b9e197e-0f70-41c0-93bc-f01321590bc5"
      },
      "source": [
        "print(\"Optimal classification threshold (with fairness constraints, race) = %.4f\" % ROC_race.classification_threshold)\n",
        "print(\"Optimal ROC margin = %.4f\" % ROC_race.ROC_margin)\n",
        "print(\"Optimal classification threshold (with fairness constraints, sex) = %.4f\" % ROC_sex.classification_threshold)\n",
        "print(\"Optimal ROC margin = %.4f\" % ROC_sex.ROC_margin)"
      ],
      "execution_count": 77,
      "outputs": [
        {
          "output_type": "stream",
          "text": [
            "Optimal classification threshold (with fairness constraints, race) = 0.5049\n",
            "Optimal ROC margin = 0.0707\n",
            "Optimal classification threshold (with fairness constraints, sex) = 0.4951\n",
            "Optimal ROC margin = 0.0303\n"
          ],
          "name": "stdout"
        }
      ]
    },
    {
      "cell_type": "code",
      "metadata": {
        "id": "7REOVq_PqxzT",
        "colab_type": "code",
        "colab": {
          "base_uri": "https://localhost:8080/",
          "height": 295
        },
        "outputId": "bb1e7eb6-0129-4941-897c-6993355b9e8f"
      },
      "source": [
        "# Metrics for the validation set\n",
        "fav_inds = dataset_orig_valid_pred.scores > best_class_thresh\n",
        "dataset_orig_valid_pred.labels[fav_inds] = dataset_orig_valid_pred.favorable_label\n",
        "dataset_orig_valid_pred.labels[~fav_inds] = dataset_orig_valid_pred.unfavorable_label\n",
        "\n",
        "print(\"Validation set\")\n",
        "print(\"Raw predictions - No fairness constraints, only maximizing balanced accuracy (race)\")\n",
        "metric_valid_bef = compute_metrics(dataset_orig_valid, dataset_orig_valid_pred, \n",
        "                unprivileged_races, privileged_races)\n",
        "\n",
        "print(\"\\nRaw predictions - No fairness constraints, only maximizing balanced accuracy (sex)\")\n",
        "metric_valid_bef = compute_metrics(dataset_orig_valid, dataset_orig_valid_pred, \n",
        "                unprivileged_sex, privileged_sex)\n"
      ],
      "execution_count": 78,
      "outputs": [
        {
          "output_type": "stream",
          "text": [
            "Validation set\n",
            "Raw predictions - No fairness constraints, only maximizing balanced accuracy (race)\n",
            "Balanced accuracy = 0.6610\n",
            "Statistical parity difference = -0.2772\n",
            "Disparate impact = 0.6332\n",
            "Average odds difference = -0.2465\n",
            "Equal opportunity difference = -0.1985\n",
            "Theil index = 0.1911\n",
            "\n",
            "Raw predictions - No fairness constraints, only maximizing balanced accuracy (sex)\n",
            "Balanced accuracy = 0.6610\n",
            "Statistical parity difference = -0.1959\n",
            "Disparate impact = 0.7381\n",
            "Average odds difference = -0.1535\n",
            "Equal opportunity difference = -0.0917\n",
            "Theil index = 0.1911\n"
          ],
          "name": "stdout"
        }
      ]
    },
    {
      "cell_type": "code",
      "metadata": {
        "id": "xVJTvSTCq9zv",
        "colab_type": "code",
        "colab": {
          "base_uri": "https://localhost:8080/",
          "height": 295
        },
        "outputId": "02003f47-dec6-404c-8948-2e58513af42c"
      },
      "source": [
        "# Transform the validation set\n",
        "dataset_transf_valid_pred_race = ROC_race.predict(dataset_orig_valid_pred)\n",
        "dataset_transf_valid_pred_sex = ROC_sex.predict(dataset_orig_valid_pred)\n",
        "print(\"Validation set\")\n",
        "print(\"Transformed predictions - With fairness constraints (race)\")\n",
        "metric_valid_aft = compute_metrics(dataset_orig_valid, dataset_transf_valid_pred_race, \n",
        "                unprivileged_races, privileged_races)\n",
        "print(\"\\nTransformed predictions - With fairness constraints (sex)\")\n",
        "metric_valid_aft = compute_metrics(dataset_orig_valid, dataset_transf_valid_pred_sex, \n",
        "                unprivileged_sex, privileged_sex)"
      ],
      "execution_count": 79,
      "outputs": [
        {
          "output_type": "stream",
          "text": [
            "Validation set\n",
            "Transformed predictions - With fairness constraints (race)\n",
            "Balanced accuracy = 0.6565\n",
            "Statistical parity difference = -0.0858\n",
            "Disparate impact = 0.8479\n",
            "Average odds difference = -0.0527\n",
            "Equal opportunity difference = -0.0204\n",
            "Theil index = 0.2339\n",
            "\n",
            "Transformed predictions - With fairness constraints (sex)\n",
            "Balanced accuracy = 0.6560\n",
            "Statistical parity difference = -0.1348\n",
            "Disparate impact = 0.8037\n",
            "Average odds difference = -0.0963\n",
            "Equal opportunity difference = -0.0228\n",
            "Theil index = 0.1998\n"
          ],
          "name": "stdout"
        }
      ]
    },
    {
      "cell_type": "code",
      "metadata": {
        "id": "VS_J3mhTrR8T",
        "colab_type": "code",
        "colab": {
          "base_uri": "https://localhost:8080/",
          "height": 295
        },
        "outputId": "5f1c9824-5cdb-48da-a4eb-d47bf71a2780"
      },
      "source": [
        "# Metrics for the test set\n",
        "fav_inds = dataset_orig_test_pred.scores > best_class_thresh\n",
        "dataset_orig_test_pred.labels[fav_inds] = dataset_orig_test_pred.favorable_label\n",
        "dataset_orig_test_pred.labels[~fav_inds] = dataset_orig_test_pred.unfavorable_label\n",
        "\n",
        "print(\"Test set\")\n",
        "print(\"Raw predictions - No fairness constraints, only maximizing balanced accuracy (race)\")\n",
        "metric_test_bef = compute_metrics(dataset_orig_test, dataset_orig_test_pred, \n",
        "                unprivileged_races, privileged_races)\n",
        "\n",
        "print(\"\\nRaw predictions - No fairness constraints, only maximizing balanced accuracy (sex)\")\n",
        "metric_test_bef = compute_metrics(dataset_orig_test, dataset_orig_test_pred, \n",
        "                unprivileged_sex, privileged_sex)"
      ],
      "execution_count": 80,
      "outputs": [
        {
          "output_type": "stream",
          "text": [
            "Test set\n",
            "Raw predictions - No fairness constraints, only maximizing balanced accuracy (race)\n",
            "Balanced accuracy = 0.6602\n",
            "Statistical parity difference = -0.2863\n",
            "Disparate impact = 0.6450\n",
            "Average odds difference = -0.2467\n",
            "Equal opportunity difference = -0.1930\n",
            "Theil index = 0.1747\n",
            "\n",
            "Raw predictions - No fairness constraints, only maximizing balanced accuracy (sex)\n",
            "Balanced accuracy = 0.6602\n",
            "Statistical parity difference = -0.2109\n",
            "Disparate impact = 0.7359\n",
            "Average odds difference = -0.2003\n",
            "Equal opportunity difference = -0.1855\n",
            "Theil index = 0.1747\n"
          ],
          "name": "stdout"
        }
      ]
    },
    {
      "cell_type": "code",
      "metadata": {
        "id": "B_KKrlwBr5f1",
        "colab_type": "code",
        "colab": {
          "base_uri": "https://localhost:8080/",
          "height": 295
        },
        "outputId": "40028901-8e3b-4116-ee89-e269b7784785"
      },
      "source": [
        "# Metrics for the transformed test set\n",
        "dataset_transf_test_pred_race = ROC_race.predict(dataset_orig_test_pred)\n",
        "dataset_transf_test_pred_sex = ROC_sex.predict(dataset_orig_test_pred)\n",
        "\n",
        "print(\"Test set\")\n",
        "print(\"Transformed predictions - With fairness constraints (race)\")\n",
        "metric_test_aft = compute_metrics(dataset_orig_test, dataset_transf_test_pred_race, \n",
        "                unprivileged_races, privileged_races)\n",
        "\n",
        "print(\"\\nTransformed predictions - With fairness constraints (sex)\")\n",
        "metric_test_aft = compute_metrics(dataset_orig_test, dataset_transf_test_pred_sex, \n",
        "                unprivileged_sex, privileged_sex)"
      ],
      "execution_count": 81,
      "outputs": [
        {
          "output_type": "stream",
          "text": [
            "Test set\n",
            "Transformed predictions - With fairness constraints (race)\n",
            "Balanced accuracy = 0.6644\n",
            "Statistical parity difference = -0.1030\n",
            "Disparate impact = 0.8347\n",
            "Average odds difference = -0.0506\n",
            "Equal opportunity difference = -0.0486\n",
            "Theil index = 0.2107\n",
            "\n",
            "Transformed predictions - With fairness constraints (sex)\n",
            "Balanced accuracy = 0.6646\n",
            "Statistical parity difference = -0.1395\n",
            "Disparate impact = 0.8082\n",
            "Average odds difference = -0.1261\n",
            "Equal opportunity difference = -0.1385\n",
            "Theil index = 0.1796\n"
          ],
          "name": "stdout"
        }
      ]
    },
    {
      "cell_type": "code",
      "metadata": {
        "id": "YM1J0XMV0oLl",
        "colab_type": "code",
        "colab": {
          "base_uri": "https://localhost:8080/",
          "height": 312
        },
        "outputId": "e47b6ae7-2c65-4380-aabe-f8339d712422"
      },
      "source": [
        "dataset_transf_test_pred_all = dataset_transf_test_pred_race.copy(deepcopy=True)\n",
        "dataset_transf_test_pred_all.scores = (dataset_transf_test_pred_race.scores + dataset_transf_test_pred_sex.scores) / 2\n",
        "threshold = (ROC_race.classification_threshold + ROC_sex.classification_threshold) / 2\n",
        "\n",
        "# Combining both classifiers\n",
        "fav_inds = dataset_orig_valid_pred.scores > threshold\n",
        "dataset_transf_test_pred_all.labels[fav_inds] = dataset_transf_test_pred_all.favorable_label\n",
        "dataset_transf_test_pred_all.labels[~fav_inds] = dataset_transf_test_pred_all.unfavorable_label\n",
        "\n",
        "combined_acc = accuracy_score(dataset_orig_test.labels, dataset_transf_test_pred_all.labels)\n",
        "print('Combined accuracy:', combined_acc)\n",
        "\n",
        "print(\"\\nTransformed predictions - With fairness constraints (sex)\")\n",
        "metric_test_aft = compute_metrics(dataset_orig_test, dataset_transf_test_pred_all, \n",
        "                unprivileged_sex, privileged_sex)\n",
        "\n",
        "print(\"\\nTransformed predictions - With fairness constraints (race)\")\n",
        "metric_test_aft = compute_metrics(dataset_orig_test, dataset_transf_test_pred_all, \n",
        "                unprivileged_races, privileged_races)"
      ],
      "execution_count": 82,
      "outputs": [
        {
          "output_type": "stream",
          "text": [
            "Combined accuracy: 0.4911616161616162\n",
            "\n",
            "Transformed predictions - With fairness constraints (sex)\n",
            "Balanced accuracy = 0.4897\n",
            "Statistical parity difference = -0.0802\n",
            "Disparate impact = 0.8658\n",
            "Average odds difference = -0.0765\n",
            "Equal opportunity difference = -0.1266\n",
            "Theil index = 0.3452\n",
            "\n",
            "Transformed predictions - With fairness constraints (race)\n",
            "Balanced accuracy = 0.4897\n",
            "Statistical parity difference = 0.0743\n",
            "Disparate impact = 1.1527\n",
            "Average odds difference = 0.0836\n",
            "Equal opportunity difference = -0.0019\n",
            "Theil index = 0.3452\n"
          ],
          "name": "stdout"
        }
      ]
    },
    {
      "cell_type": "markdown",
      "metadata": {
        "id": "QV3PSvLoLOkM",
        "colab_type": "text"
      },
      "source": [
        "#### Conclusion:\n",
        "\n",
        "Even though our fair classifier has the least accuracy among the classifiers we trained, it has nevertheless good separation and independence metrics for both `sex` and `race` attributes."
      ]
    },
    {
      "cell_type": "markdown",
      "metadata": {
        "id": "hSnHkLJgL4LZ",
        "colab_type": "text"
      },
      "source": [
        "## Conclusion\n",
        "\n",
        "Through this project, we have tried to tackle down the hard task of achieving fairness over a biased dataset. To this end, we explored different techniques ranging from basic removals of attributes to the more advanced reject option classification.\n",
        "We also implemented a field tested fairness library with its different approaches to solve the issue.\n",
        "All of this work gave us the ability to build a universally fair classifier. The\n",
        "accuracy has slightly dropped from the unfair classifier, which was to be expected. In return it provides good separation and independance on sex and race which have grown to be the main criteria of discrimination and thus bias in\n",
        "the dataset."
      ]
    }
  ]
}